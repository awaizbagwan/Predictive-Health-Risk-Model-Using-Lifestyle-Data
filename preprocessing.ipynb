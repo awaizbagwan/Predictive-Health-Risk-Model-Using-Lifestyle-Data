{
 "cells": [
  {
   "cell_type": "code",
   "execution_count": 1,
   "id": "a8a68a3d-09ba-4303-a7e3-747714fdc0a3",
   "metadata": {},
   "outputs": [
    {
     "name": "stdout",
     "output_type": "stream",
     "text": [
      "+-------+------+-------------+------------------+----------------+--------------------+------------------+-----------+--------------------+--------------+---------+---------+---------+-------------+-------+---------------------+----------------+------------+-----------+-------------------+-----------------------+-----------------------+-----------------+-------------------------+-----------------+--------------------+--------------------+---------+---------------------+---------------+--------------+-----------------+-----+---------------+----------+------------+-------------+--------------------+----------------+--------+\n",
      "|  State|   Sex|GeneralHealth|PhysicalHealthDays|MentalHealthDays|     LastCheckupTime|PhysicalActivities| SleepHours|        RemovedTeeth|HadHeartAttack|HadAngina|HadStroke|HadAsthma|HadSkinCancer|HadCOPD|HadDepressiveDisorder|HadKidneyDisease|HadArthritis|HadDiabetes|DeafOrHardOfHearing|BlindOrVisionDifficulty|DifficultyConcentrating|DifficultyWalking|DifficultyDressingBathing|DifficultyErrands|        SmokerStatus|     ECigaretteUsage|ChestScan|RaceEthnicityCategory|    AgeCategory|HeightInMeters|WeightInKilograms|  BMI|AlcoholDrinkers|HIVTesting|FluVaxLast12|PneumoVaxEver|   TetanusLast10Tdap|HighRiskLastYear|CovidPos|\n",
      "+-------+------+-------------+------------------+----------------+--------------------+------------------+-----------+--------------------+--------------+---------+---------+---------+-------------+-------+---------------------+----------------+------------+-----------+-------------------+-----------------------+-----------------------+-----------------+-------------------------+-----------------+--------------------+--------------------+---------+---------------------+---------------+--------------+-----------------+-----+---------------+----------+------------+-------------+--------------------+----------------+--------+\n",
      "|Alabama|  NULL|    Very good|               4.0|             0.0|Within past year ...|               Yes|        9.0|        None of them|            No|     NULL|       No|       No|           No|   NULL|                   No|              No|        NULL|         No|                 No|                   NULL|                     No|               No|                       No|               oN|       Former smoekr|Never used e-ciga...|       No| White only, Non-H...|   Age 65 to 69|           1.7|            71.67|27.99|             No|        No|         Yes|          Yes|  Yes, received Tdap|              No|      No|\n",
      "|Alabama|  Male|    Very ogod|               0.0|             0.0|Within past year ...|               Yes|        6.0|        None of them|            No|     NULL|     NULL|       No|           No|     No|                   No|              No|          No|        Yes|                 No|                     No|                     No|               No|                       No|               No|Current smoker - ...|Never used e-ciga...|       No| White only, Non-H...|   Age 70 to 74|          1.55|            95.25|30.13|             No|        No|         Yes|          Yes|Yes, received tet...|              No|      No|\n",
      "|Alabama|  Male|    Very good|              NULL|            NULL|Within past year ...|                No|        8.0|6 or more, but no...|            No|       No|       oN|       No|           No|     No|                 NULL|              No|          oN|         oN|                 No|                    Yes|                     No|              Yes|                     NULL|               No|                NULL|Never used e-ciga...|      Yes| White only, Non-H...|   Age 75 to 79|          1.78|             NULL|31.66|           NULL|        No|          No|          Yes|No, did not recei...|              No|     Yes|\n",
      "|Alabama|Female|         Fair|               5.0|             0.0|Within past yaer ...|               Yes|        9.0|        None of them|            oN|       No|     NULL|       oN|          Yes|     No|                  Yes|              No|          No|         No|                 oN|                     No|                     No|              Yes|                       No|             NULL|       Former smoker|Never used e-ciga...|      Yes| White only, Non-H...|Age 80 or older|          1.63|            90.72|31.32|             No|        No|         Yes|         NULL|No, did not recei...|              No|     Yes|\n",
      "|Alabama|Female|         NULL|               3.0|            15.0|Within pasty ear ...|               Yes|        5.0|              1 to 5|            No|       No|       No|       oN|           No|     No|                   No|            NULL|          No|         No|                 No|                     No|                     No|             NULL|                       No|               No|Current smoker - ...|Never used e-cgia...|      Yes|                 NULL|Age 80 or older|          NULL|            79.38|33.07|             No|        No|         Yse|          Yes|No, did not recei...|              No|      No|\n",
      "|Alabama|  Male|         Good|               0.0|             0.0|Within past year ...|               Yes|        7.0|        None of them|            No|       No|       No|     NULL|         NULL|     No|                   No|              No|          No|         No|                 No|                     No|                     No|             NULL|                       No|               No|        Never smoked|                NULL|      Yes| White only, Non-H...|   Age 50 to 54|          1.68|            120.2|34.96|            Yes|       Yes|        NULL|           No|Yes, received tet...|              No|      No|\n",
      "|Albaama|Female|         Good|               3.0|             0.0|Within past year ...|               Yes|        8.0|6 or more, but no...|            No|       No|      Yes|       No|           No|     No|                   No|              No|          No|        Yes|                 No|                   NULL|                   NULL|               No|                       No|               oN|       Former smoker|                NULL|      Yes|                 NULL|           NULL|   1.710859439|             88.0| 33.3|             No|      NULL|         Yes|          Yes|No, did not recei...|              No|      No|\n",
      "|Alabama|  Male|         Fair|               5.0|             0.0|                NULL|              NULL|        8.0|                NULL|           Yes|      Yes|       No|       No|          Yes|   NULL|                   No|              No|         Yes|        Yes|                 oN|                     No|                     oN|               No|                       No|               No|        Never smoked|                NULL|       No| White only, Non-H...|   Age 75 to 79|          1.68|            74.84|24.37|             No|       Yes|        NULL|          Yes|No, did not recei...|              No|     Yes|\n",
      "|Alabama|  Male|         Good|               2.0|             0.0| 5 or more years ago|                No|        6.0|        None of them|            No|       oN|     NULL|       No|           No|     No|                   No|            NULL|         Yes|         No|                Yes|                     No|                     No|               No|                       oN|               No|Current smoker - ...|Never used e-ciga...|       No|                 NULL|   Age 40 to 44|          NULL|            78.02|26.94|             No|        No|          No|           No|No, did not recev...|              No|    NULL|\n",
      "|Alabama|Female|    eVry good|               0.0|             0.0|Within past year ...|               Yes|        7.0|        None of them|            No|       No|       No|      Yes|          Yes|     oN|                   No|              No|          No|         No|                 No|                     No|                   NULL|               No|                       No|               No|        Never smoked|Never used e-ciga...|       No| White only, Non-H...|   Age 75 to 79|           1.8|             63.5| NULL|             No|        No|         Yes|          Yes|No, did not recei...|              No|      No|\n",
      "|Alabama|  Male|    Very good|               0.0|             0.0|Within past year ...|               Yse|        8.0|              1 to 5|            No|       No|       No|       No|           No|     oN|                   No|              No|         Yes|         No|                 oN|                     No|                   NULL|               No|                       No|               No|       Former somker|Never used e-ciga...|      Yes| White only, Non-H...|Age 80 or older|          1.68|           122.47|36.62|            Yes|        No|         Yes|          Yes|  Yes, received Tdap|              No|      No|\n",
      "|Alaabma|Female|         Good|               3.0|             4.0|Within past year ...|               Yes|        5.0|        None of them|            oN|       No|       oN|       No|           No|     No|                   No|              No|          No|       NULL|                 No|                     No|                     No|              Yes|                       No|               No|       Former smoker|                NULL|       No| White only, Non-H...|   Age 60 to 64|          1.68|           108.86|46.87|             No|      NULL|          No|           No|Yes, received tet...|              No|     Yes|\n",
      "|Alabama|  Male|         Godo|               5.0|             0.0|Within past year ...|               Yes|        5.0|6 or more, but no...|          NULL|       No|       No|       No|          Yes|   NULL|                   No|              No|          No|         No|                 No|                     No|                    Yes|              Yes|                       No|               No|       Former smoker|  Use them some days|      Yse| White only, Non-H...|   Age 60 to 64|          1.55|             NULL|32.74|             No|      NULL|         Yse|         NULL|Yes, received tet...|              No|      No|\n",
      "|   NULL|Femael|         Good|               0.0|             0.0|Within past year ...|                No|        6.0|              1 to5 |            No|       No|       No|       No|         NULL|     No|                   No|            NULL|         Yes|         No|                 No|                     No|                     No|               No|                       No|               No|       Fomrer smoker|Never used e-ciga...|      Yes| White only, Non-H...|   Age 60 to 64|          1.63|            81.65|35.15|             No|        No|          No|           No|  Yes, received Tdap|              oN|      No|\n",
      "|Alabama|  Male|         Fair|              25.0|            25.0|Within past year ...|                No|        6.0|6 or more, but no...|            No|      Yes|       No|       No|           No|     No|                  Yes|             Yes|         Yes|         oN|                Yes|                     No|                    Yes|              Yse|                      Yes|               No|        Never smoked|                NULL|      Yes| White noly, Non-H...|   Age 70 to 74|          1.73|      89.32180099|27.26|           NULL|        No|         Yes|         NULL|No, did not recei...|              No|     Yes|\n",
      "|Alabama|Female|         Good|               0.0|            15.0|Within past year ...|               Yes|       NULL|                 All|          NULL|       No|       No|       No|           No|     No|                  Yes|              No|          No|        Yes|                 No|                     No|                     No|               No|                       oN|               No|        Never smoked|Never used e-ciga...|     NULL| White only, Non-H...|gAe 80 or older|          1.65|             63.5|28.28|             oN|      NULL|         Yes|          eYs|No, did not recei...|              No|     Yes|\n",
      "|Alabama|Female|         Good|              NULL|             0.0|Within past year ...|               Yes|        7.0|                 All|            No|       No|       No|      Yse|           No|     No|                   No|              No|          oN|         No|               NULL|                     No|                     No|               No|                       No|               No|       Former smoker|                NULL|       No| White only, Non-H...|   Age 65 to 69|   1.724417625|             76.2|25.54|             No|        No|         Yes|          Yes|  Yes, received Tdap|              No|      No|\n",
      "|   NULL|Female|         Good|               0.0|             0.0|Within past year ...|                No|10.19542948|                 All|            No|     NULL|       oN|       No|           No|     No|                 NULL|              No|          oN|         No|                 No|                     No|                     No|              Yes|                       oN|               No|        Neevr smoked|Never used e-ciga...|     NULL| White only, Non-H...|   Age 70 to 74|          1.75|            54.88|20.14|            Yes|        No|         Yes|          Yes|                NULL|              No|      No|\n",
      "|Alabama|Fmeale|    Excellent|               0.0|             0.0|Within past year ...|               Yes|        6.0|6 or more, but no...|            No|       No|      Yes|       No|         NULL|     No|                   No|            NULL|        NULL|        Yes|                 No|                   NULL|                     No|               No|                     NULL|               No|Current smoker - ...|Never used e-ciga...|       No| Black only, Non-H...|   Age 60 to 64|          1.68|            72.57|25.06|             No|        No|         Yes|           No|No, did not recei...|              No|      No|\n",
      "|Alabama|  Male|         Poor|              30.0|             0.0|Within past year ...|                No|        9.0|              1 to 5|            No|       No|       No|       No|          Yes|     No|                   No|             Yes|          No|         No|                 No|                     oN|                    Yes|              Yes|                      Yes|               No|                NULL|                NULL|      Yes|                 NULL|Age 80 or older|          1.63|            88.45| 27.2|             oN|        No|         Yes|           No|No, did not recei...|              No|      No|\n",
      "+-------+------+-------------+------------------+----------------+--------------------+------------------+-----------+--------------------+--------------+---------+---------+---------+-------------+-------+---------------------+----------------+------------+-----------+-------------------+-----------------------+-----------------------+-----------------+-------------------------+-----------------+--------------------+--------------------+---------+---------------------+---------------+--------------+-----------------+-----+---------------+----------+------------+-------------+--------------------+----------------+--------+\n",
      "only showing top 20 rows\n",
      "\n"
     ]
    }
   ],
   "source": [
    "# Install PySpark if it's not already installed\n",
    "#!pip install pyspark\n",
    "\n",
    "from pyspark.sql import SparkSession\n",
    "\n",
    "# Create a Spark session\n",
    "spark = SparkSession.builder \\\n",
    "    .master(\"local[*]\") \\\n",
    "    .appName(\"DataCleaning\") \\\n",
    "    .getOrCreate()\n",
    "\n",
    "# Load the dataset\n",
    "file_path = 'csv uncleaned (1).csv'\n",
    "\n",
    "try:\n",
    "    # Read the CSV file into a DataFrame\n",
    "    data = spark.read.csv(file_path, header=True, inferSchema=True)\n",
    "    # Show the first few rows to verify the load\n",
    "    data.show()\n",
    "except Exception as e:\n",
    "    print(f\"An error occurred: {e}\")\n"
   ]
  },
  {
   "cell_type": "code",
   "execution_count": 2,
   "id": "d0f83827-532f-43d1-87c9-33862b3cfaf5",
   "metadata": {},
   "outputs": [
    {
     "name": "stdout",
     "output_type": "stream",
     "text": [
      "+-----+-----+-------------+------------------+----------------+---------------+------------------+----------+------------+--------------+---------+---------+---------+-------------+-------+---------------------+----------------+------------+-----------+-------------------+-----------------------+-----------------------+-----------------+-------------------------+-----------------+------------+---------------+---------+---------------------+-----------+--------------+-----------------+-----+---------------+----------+------------+-------------+-----------------+----------------+--------+\n",
      "|State|  Sex|GeneralHealth|PhysicalHealthDays|MentalHealthDays|LastCheckupTime|PhysicalActivities|SleepHours|RemovedTeeth|HadHeartAttack|HadAngina|HadStroke|HadAsthma|HadSkinCancer|HadCOPD|HadDepressiveDisorder|HadKidneyDisease|HadArthritis|HadDiabetes|DeafOrHardOfHearing|BlindOrVisionDifficulty|DifficultyConcentrating|DifficultyWalking|DifficultyDressingBathing|DifficultyErrands|SmokerStatus|ECigaretteUsage|ChestScan|RaceEthnicityCategory|AgeCategory|HeightInMeters|WeightInKilograms|  BMI|AlcoholDrinkers|HIVTesting|FluVaxLast12|PneumoVaxEver|TetanusLast10Tdap|HighRiskLastYear|CovidPos|\n",
      "+-----+-----+-------------+------------------+----------------+---------------+------------------+----------+------------+--------------+---------+---------+---------+-------------+-------+---------------------+----------------+------------+-----------+-------------------+-----------------------+-----------------------+-----------------+-------------------------+-----------------+------------+---------------+---------+---------------------+-----------+--------------+-----------------+-----+---------------+----------+------------+-------------+-----------------+----------------+--------+\n",
      "|25886|25868|        25853|             25808|           25865|          25774|             25820|     25831|       25866|         25854|    25842|    25791|    25829|        25824|  25790|                25794|           25827|       25782|      25776|              25847|                  25824|                  25867|            25837|                    25823|            25831|       25818|          25892|    25892|                25820|      25890|         25731|            25872|25835|          25840|     25853|       25860|        25830|            25840|           25834|   25901|\n",
      "+-----+-----+-------------+------------------+----------------+---------------+------------------+----------+------------+--------------+---------+---------+---------+-------------+-------+---------------------+----------------+------------+-----------+-------------------+-----------------------+-----------------------+-----------------+-------------------------+-----------------+------------+---------------+---------+---------------------+-----------+--------------+-----------------+-----+---------------+----------+------------+-------------+-----------------+----------------+--------+\n",
      "\n"
     ]
    }
   ],
   "source": [
    "from pyspark.sql.functions import col, isnan, when, count\n",
    "\n",
    "# Count missing values in each column\n",
    "missing_values = data.select(\n",
    "    [count(when(col(c).isNull() | isnan(c), c)).alias(c) for c in data.columns]\n",
    ")\n",
    "missing_values.show()\n"
   ]
  },
  {
   "cell_type": "code",
   "execution_count": 3,
   "id": "6041ce56-b2fc-4df1-9909-4ba2ac01d6b8",
   "metadata": {},
   "outputs": [],
   "source": [
    "from pyspark.sql.functions import col, mean\n",
    "\n",
    "# Identify numerical columns\n",
    "numeric_cols = [c for c, t in data.dtypes if t in ['int', 'double']]\n",
    "\n",
    "# Calculate mean and fill missing values\n",
    "for col_name in numeric_cols:\n",
    "    mean_value = data.select(mean(col(col_name))).first()[0]\n",
    "    data = data.na.fill({col_name: mean_value})\n"
   ]
  },
  {
   "cell_type": "code",
   "execution_count": 4,
   "id": "177d2e27-fd5d-4fa7-8357-6c3bbd5e56b0",
   "metadata": {},
   "outputs": [],
   "source": [
    "from pyspark.sql.functions import col, count\n",
    "\n",
    "# Get categorical columns\n",
    "categorical_cols = [c for c, t in data.dtypes if t == 'string']\n",
    "\n",
    "# Iterate over each categorical column\n",
    "for col_name in categorical_cols:\n",
    "    # Get the most frequent value (mode)\n",
    "    mode_df = data.groupBy(col_name).agg(count(col_name).alias('count')).orderBy('count', ascending=False)\n",
    "    \n",
    "    # Check if the DataFrame is empty\n",
    "    if mode_df.count() > 0:\n",
    "        mode_value = mode_df.first()[0]\n",
    "        \n",
    "        # Fill missing values with mode\n",
    "        data = data.na.fill({col_name: mode_value})\n",
    "    else:\n",
    "        print(f\"No mode found for column {col_name}.\")\n"
   ]
  },
  {
   "cell_type": "code",
   "execution_count": 5,
   "id": "b05f3730-3712-484a-b6c0-5f662e4ecede",
   "metadata": {},
   "outputs": [],
   "source": [
    "data = data.dropDuplicates()\n"
   ]
  },
  {
   "cell_type": "code",
   "execution_count": null,
   "id": "967b3a39-9897-48ff-ba2d-def3136e01e3",
   "metadata": {},
   "outputs": [],
   "source": []
  }
 ],
 "metadata": {
  "kernelspec": {
   "display_name": "Python 3 (ipykernel)",
   "language": "python",
   "name": "python3"
  },
  "language_info": {
   "codemirror_mode": {
    "name": "ipython",
    "version": 3
   },
   "file_extension": ".py",
   "mimetype": "text/x-python",
   "name": "python",
   "nbconvert_exporter": "python",
   "pygments_lexer": "ipython3",
   "version": "3.11.5"
  }
 },
 "nbformat": 4,
 "nbformat_minor": 5
}
