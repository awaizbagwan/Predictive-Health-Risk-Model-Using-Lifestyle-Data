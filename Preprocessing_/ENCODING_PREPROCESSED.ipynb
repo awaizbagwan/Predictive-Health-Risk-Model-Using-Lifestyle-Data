{
 "cells": [
  {
   "cell_type": "code",
   "execution_count": 15,
   "id": "77ab5e49",
   "metadata": {},
   "outputs": [],
   "source": [
    "from pyspark.sql import SparkSession\n",
    "\n",
    "# Create a Spark session\n",
    "spark = SparkSession.builder \\\n",
    "    .master(\"local[*]\") \\\n",
    "    .appName(\"DataCleaning\") \\\n",
    "    .getOrCreate()\n",
    "\n",
    "# Load the dataset\n",
    "file_path = r'D:\\PROJECT\\Indicators of Heart Disease\\cleaned\\heart_2022_no_nans.csv'\n",
    "\n",
    "try:\n",
    "    # Read the CSV file into a DataFrame\n",
    "    data = spark.read.csv(file_path, header=True, inferSchema=True)\n",
    "    # Show the first few rows to verify the load\n",
    "    #data.show()\n",
    "except Exception as e:\n",
    "    print(f\"An error occurred: {e}\")\n"
   ]
  },
  {
   "cell_type": "code",
   "execution_count": 16,
   "id": "ba1ae89b",
   "metadata": {},
   "outputs": [
    {
     "data": {
      "text/plain": [
       "246022"
      ]
     },
     "execution_count": 16,
     "metadata": {},
     "output_type": "execute_result"
    }
   ],
   "source": [
    "# Number of rows in DataFrame\n",
    "data.count()"
   ]
  },
  {
   "cell_type": "code",
   "execution_count": 17,
   "id": "64738118",
   "metadata": {},
   "outputs": [
    {
     "data": {
      "text/plain": [
       "DataFrame[summary: string, State: string, Sex: string, GeneralHealth: string, PhysicalHealthDays: string, MentalHealthDays: string, LastCheckupTime: string, PhysicalActivities: string, SleepHours: string, RemovedTeeth: string, HadHeartAttack: string, HadAngina: string, HadStroke: string, HadAsthma: string, HadSkinCancer: string, HadCOPD: string, HadDepressiveDisorder: string, HadKidneyDisease: string, HadArthritis: string, HadDiabetes: string, DeafOrHardOfHearing: string, BlindOrVisionDifficulty: string, DifficultyConcentrating: string, DifficultyWalking: string, DifficultyDressingBathing: string, DifficultyErrands: string, SmokerStatus: string, ECigaretteUsage: string, ChestScan: string, RaceEthnicityCategory: string, AgeCategory: string, HeightInMeters: string, WeightInKilograms: string, BMI: string, AlcoholDrinkers: string, HIVTesting: string, FluVaxLast12: string, PneumoVaxEver: string, TetanusLast10Tdap: string, HighRiskLastYear: string, CovidPos: string]"
      ]
     },
     "execution_count": 17,
     "metadata": {},
     "output_type": "execute_result"
    }
   ],
   "source": [
    "# Columns and their summary\n",
    "data.describe()"
   ]
  },
  {
   "cell_type": "code",
   "execution_count": 18,
   "id": "5564f7ec",
   "metadata": {
    "scrolled": true
   },
   "outputs": [
    {
     "data": {
      "text/plain": [
       "[('State', 'string'),\n",
       " ('Sex', 'string'),\n",
       " ('GeneralHealth', 'string'),\n",
       " ('PhysicalHealthDays', 'double'),\n",
       " ('MentalHealthDays', 'double'),\n",
       " ('LastCheckupTime', 'string'),\n",
       " ('PhysicalActivities', 'string'),\n",
       " ('SleepHours', 'double'),\n",
       " ('RemovedTeeth', 'string'),\n",
       " ('HadHeartAttack', 'string'),\n",
       " ('HadAngina', 'string'),\n",
       " ('HadStroke', 'string'),\n",
       " ('HadAsthma', 'string'),\n",
       " ('HadSkinCancer', 'string'),\n",
       " ('HadCOPD', 'string'),\n",
       " ('HadDepressiveDisorder', 'string'),\n",
       " ('HadKidneyDisease', 'string'),\n",
       " ('HadArthritis', 'string'),\n",
       " ('HadDiabetes', 'string'),\n",
       " ('DeafOrHardOfHearing', 'string'),\n",
       " ('BlindOrVisionDifficulty', 'string'),\n",
       " ('DifficultyConcentrating', 'string'),\n",
       " ('DifficultyWalking', 'string'),\n",
       " ('DifficultyDressingBathing', 'string'),\n",
       " ('DifficultyErrands', 'string'),\n",
       " ('SmokerStatus', 'string'),\n",
       " ('ECigaretteUsage', 'string'),\n",
       " ('ChestScan', 'string'),\n",
       " ('RaceEthnicityCategory', 'string'),\n",
       " ('AgeCategory', 'string'),\n",
       " ('HeightInMeters', 'double'),\n",
       " ('WeightInKilograms', 'double'),\n",
       " ('BMI', 'double'),\n",
       " ('AlcoholDrinkers', 'string'),\n",
       " ('HIVTesting', 'string'),\n",
       " ('FluVaxLast12', 'string'),\n",
       " ('PneumoVaxEver', 'string'),\n",
       " ('TetanusLast10Tdap', 'string'),\n",
       " ('HighRiskLastYear', 'string'),\n",
       " ('CovidPos', 'string')]"
      ]
     },
     "execution_count": 18,
     "metadata": {},
     "output_type": "execute_result"
    }
   ],
   "source": [
    "# Listing columns and their data types\n",
    "data.dtypes"
   ]
  },
  {
   "cell_type": "code",
   "execution_count": 19,
   "id": "3476ce64",
   "metadata": {},
   "outputs": [],
   "source": [
    "#Dropping unnecessary columns\n",
    "data = data.drop(\"PhysicalHealthDays\",\"MentalHealthDays\",\"RemovedTeeth\",\"ECigaretteUsage\",\"RaceEthnicityCategory\",\"TetanusLast10Tdap\",\"HighRiskLastYear\",\"CovidPos\")"
   ]
  },
  {
   "cell_type": "code",
   "execution_count": 20,
   "id": "039a1286",
   "metadata": {},
   "outputs": [
    {
     "name": "stdout",
     "output_type": "stream",
     "text": [
      "No of columns: 32\n",
      "No of Rows: 246022\n"
     ]
    }
   ],
   "source": [
    "# Printing number of columns and rows\n",
    "print(f\"No of columns: {len(data.dtypes)}\")\n",
    "print(f\"No of Rows: {data.count()}\")"
   ]
  },
  {
   "cell_type": "code",
   "execution_count": 21,
   "id": "b863a2bf",
   "metadata": {},
   "outputs": [
    {
     "data": {
      "text/plain": [
       "[Row(HadDiabetes='No, pre-diabetes or borderline diabetes', count=5392),\n",
       " Row(HadDiabetes='No', count=204834),\n",
       " Row(HadDiabetes='Yes', count=33813),\n",
       " Row(HadDiabetes='Yes, but only during pregnancy (female)', count=1983)]"
      ]
     },
     "execution_count": 21,
     "metadata": {},
     "output_type": "execute_result"
    }
   ],
   "source": [
    "# Listing distinct values and their count in \"HadDiabetes\" column\n",
    "data.groupBy(\"HadDiabetes\").count().collect()"
   ]
  },
  {
   "cell_type": "code",
   "execution_count": 22,
   "id": "a2c76aec",
   "metadata": {},
   "outputs": [
    {
     "data": {
      "text/plain": [
       "7375"
      ]
     },
     "execution_count": 22,
     "metadata": {},
     "output_type": "execute_result"
    }
   ],
   "source": [
    "# Create a filtered df to filter out unnecessary rows \n",
    "filtered_df = data.filter((data.HadDiabetes == \"Yes, but only during pregnancy (female)\") |\n",
    "            (data.HadDiabetes == \"No, pre-diabetes or borderline diabetes\")  )\n",
    "# Count number of rows to be filtered out\n",
    "filtered_df.count()"
   ]
  },
  {
   "cell_type": "code",
   "execution_count": 23,
   "id": "3cba4e19",
   "metadata": {},
   "outputs": [],
   "source": [
    "# Remove rows in 'data' that are also present in 'filtered_df'\n",
    "data = data.exceptAll(filtered_df)"
   ]
  },
  {
   "cell_type": "code",
   "execution_count": 24,
   "id": "d8227a15",
   "metadata": {},
   "outputs": [
    {
     "data": {
      "text/plain": [
       "238647"
      ]
     },
     "execution_count": 24,
     "metadata": {},
     "output_type": "execute_result"
    }
   ],
   "source": [
    "# Counting number of rows after \n",
    "data.count()"
   ]
  },
  {
   "cell_type": "code",
   "execution_count": 25,
   "id": "bd20acce",
   "metadata": {},
   "outputs": [
    {
     "name": "stdout",
     "output_type": "stream",
     "text": [
      "root\n",
      " |-- State: string (nullable = true)\n",
      " |-- Sex: string (nullable = true)\n",
      " |-- GeneralHealth: string (nullable = true)\n",
      " |-- LastCheckupTime: string (nullable = true)\n",
      " |-- PhysicalActivities: string (nullable = true)\n",
      " |-- SleepHours: double (nullable = true)\n",
      " |-- HadHeartAttack: string (nullable = true)\n",
      " |-- HadAngina: string (nullable = true)\n",
      " |-- HadStroke: string (nullable = true)\n",
      " |-- HadAsthma: string (nullable = true)\n",
      " |-- HadSkinCancer: string (nullable = true)\n",
      " |-- HadCOPD: string (nullable = true)\n",
      " |-- HadDepressiveDisorder: string (nullable = true)\n",
      " |-- HadKidneyDisease: string (nullable = true)\n",
      " |-- HadArthritis: string (nullable = true)\n",
      " |-- HadDiabetes: string (nullable = true)\n",
      " |-- DeafOrHardOfHearing: string (nullable = true)\n",
      " |-- BlindOrVisionDifficulty: string (nullable = true)\n",
      " |-- DifficultyConcentrating: string (nullable = true)\n",
      " |-- DifficultyWalking: string (nullable = true)\n",
      " |-- DifficultyDressingBathing: string (nullable = true)\n",
      " |-- DifficultyErrands: string (nullable = true)\n",
      " |-- SmokerStatus: string (nullable = true)\n",
      " |-- ChestScan: string (nullable = true)\n",
      " |-- AgeCategory: string (nullable = true)\n",
      " |-- HeightInMeters: double (nullable = true)\n",
      " |-- WeightInKilograms: double (nullable = true)\n",
      " |-- BMI: double (nullable = true)\n",
      " |-- AlcoholDrinkers: string (nullable = true)\n",
      " |-- HIVTesting: string (nullable = true)\n",
      " |-- FluVaxLast12: string (nullable = true)\n",
      " |-- PneumoVaxEver: string (nullable = true)\n",
      "\n"
     ]
    }
   ],
   "source": [
    "# Print Schema of data frame\n",
    "data.printSchema()"
   ]
  },
  {
   "cell_type": "code",
   "execution_count": 27,
   "id": "f47d7b4b",
   "metadata": {},
   "outputs": [
    {
     "name": "stdout",
     "output_type": "stream",
     "text": [
      "+-------------------+\n",
      "|HeightInCentimeters|\n",
      "+-------------------+\n",
      "|              173.0|\n",
      "|              185.0|\n",
      "|              188.0|\n",
      "|              173.0|\n",
      "|              185.0|\n",
      "+-------------------+\n",
      "only showing top 5 rows\n",
      "\n"
     ]
    }
   ],
   "source": [
    "from pyspark.sql import functions as F\n",
    "\n",
    "# Replace the Height column with its values converted to centimeters \n",
    "data = data.withColumn(\"HeightInCentimeters\", (F.col(\"HeightInMeters\") * 100))\n",
    "\n",
    "# Dropping \"HeightInMeters\" column\n",
    "data = data.drop(\"HeightInMeters\")\n",
    "# Show the updated DataFrame to verify the replacement\n",
    "data.select(\"HeightInCentimeters\").show(5)"
   ]
  },
  {
   "cell_type": "code",
   "execution_count": 28,
   "id": "41bda1b9",
   "metadata": {},
   "outputs": [
    {
     "data": {
      "text/plain": [
       "['Sex',\n",
       " 'PhysicalActivities',\n",
       " 'HadHeartAttack',\n",
       " 'HadAngina',\n",
       " 'HadStroke',\n",
       " 'HadAsthma',\n",
       " 'HadSkinCancer',\n",
       " 'HadCOPD',\n",
       " 'HadDepressiveDisorder',\n",
       " 'HadKidneyDisease',\n",
       " 'HadArthritis',\n",
       " 'HadDiabetes',\n",
       " 'DeafOrHardOfHearing',\n",
       " 'BlindOrVisionDifficulty',\n",
       " 'DifficultyConcentrating',\n",
       " 'DifficultyWalking',\n",
       " 'DifficultyDressingBathing',\n",
       " 'DifficultyErrands',\n",
       " 'ChestScan',\n",
       " 'AlcoholDrinkers',\n",
       " 'HIVTesting',\n",
       " 'FluVaxLast12',\n",
       " 'PneumoVaxEver']"
      ]
     },
     "execution_count": 28,
     "metadata": {},
     "output_type": "execute_result"
    }
   ],
   "source": [
    "# Create list of string columns\n",
    "categorical_cols = [col for col,dtyp in data.dtypes if dtyp == \"string\"]\n",
    "\n",
    "columns_to_encode = []\n",
    "\n",
    "# Print columns to Encode\n",
    "for col in categorical_cols:\n",
    "    if (data.select(col).distinct().count() == 2):\n",
    "        columns_to_encode.append(col)\n",
    "columns_to_encode\n"
   ]
  },
  {
   "cell_type": "code",
   "execution_count": 29,
   "id": "5de7420b",
   "metadata": {},
   "outputs": [
    {
     "data": {
      "text/plain": [
       "23"
      ]
     },
     "execution_count": 29,
     "metadata": {},
     "output_type": "execute_result"
    }
   ],
   "source": [
    "# Print Number of string columns to encode\n",
    "len(columns_to_encode)"
   ]
  },
  {
   "cell_type": "code",
   "execution_count": 30,
   "id": "f846c7cb",
   "metadata": {
    "scrolled": true
   },
   "outputs": [
    {
     "name": "stdout",
     "output_type": "stream",
     "text": [
      "+------+----------+\n",
      "|Sex   |SexIndexed|\n",
      "+------+----------+\n",
      "|Male  |1         |\n",
      "|Male  |1         |\n",
      "|Male  |1         |\n",
      "|Female|0         |\n",
      "|Male  |1         |\n",
      "+------+----------+\n",
      "only showing top 5 rows\n",
      "\n",
      "+------------------+-------------------------+\n",
      "|PhysicalActivities|PhysicalActivitiesIndexed|\n",
      "+------------------+-------------------------+\n",
      "|Yes               |1                        |\n",
      "|Yes               |1                        |\n",
      "|Yes               |1                        |\n",
      "|No                |0                        |\n",
      "|Yes               |1                        |\n",
      "+------------------+-------------------------+\n",
      "only showing top 5 rows\n",
      "\n",
      "+--------------+---------------------+\n",
      "|HadHeartAttack|HadHeartAttackIndexed|\n",
      "+--------------+---------------------+\n",
      "|No            |0                    |\n",
      "|No            |0                    |\n",
      "|No            |0                    |\n",
      "|No            |0                    |\n",
      "|No            |0                    |\n",
      "+--------------+---------------------+\n",
      "only showing top 5 rows\n",
      "\n",
      "+---------+----------------+\n",
      "|HadAngina|HadAnginaIndexed|\n",
      "+---------+----------------+\n",
      "|No       |0               |\n",
      "|No       |0               |\n",
      "|No       |0               |\n",
      "|No       |0               |\n",
      "|No       |0               |\n",
      "+---------+----------------+\n",
      "only showing top 5 rows\n",
      "\n",
      "+---------+----------------+\n",
      "|HadStroke|HadStrokeIndexed|\n",
      "+---------+----------------+\n",
      "|No       |0               |\n",
      "|Yes      |1               |\n",
      "|No       |0               |\n",
      "|No       |0               |\n",
      "|No       |0               |\n",
      "+---------+----------------+\n",
      "only showing top 5 rows\n",
      "\n",
      "+---------+----------------+\n",
      "|HadAsthma|HadAsthmaIndexed|\n",
      "+---------+----------------+\n",
      "|No       |0               |\n",
      "|No       |0               |\n",
      "|No       |0               |\n",
      "|No       |0               |\n",
      "|No       |0               |\n",
      "+---------+----------------+\n",
      "only showing top 5 rows\n",
      "\n",
      "+-------------+--------------------+\n",
      "|HadSkinCancer|HadSkinCancerIndexed|\n",
      "+-------------+--------------------+\n",
      "|Yes          |1                   |\n",
      "|No           |0                   |\n",
      "|No           |0                   |\n",
      "|No           |0                   |\n",
      "|No           |0                   |\n",
      "+-------------+--------------------+\n",
      "only showing top 5 rows\n",
      "\n",
      "+-------+--------------+\n",
      "|HadCOPD|HadCOPDIndexed|\n",
      "+-------+--------------+\n",
      "|No     |0             |\n",
      "|No     |0             |\n",
      "|No     |0             |\n",
      "|No     |0             |\n",
      "|No     |0             |\n",
      "+-------+--------------+\n",
      "only showing top 5 rows\n",
      "\n",
      "+---------------------+----------------------------+\n",
      "|HadDepressiveDisorder|HadDepressiveDisorderIndexed|\n",
      "+---------------------+----------------------------+\n",
      "|No                   |0                           |\n",
      "|No                   |0                           |\n",
      "|Yes                  |1                           |\n",
      "|No                   |0                           |\n",
      "|No                   |0                           |\n",
      "+---------------------+----------------------------+\n",
      "only showing top 5 rows\n",
      "\n",
      "+----------------+-----------------------+\n",
      "|HadKidneyDisease|HadKidneyDiseaseIndexed|\n",
      "+----------------+-----------------------+\n",
      "|No              |0                      |\n",
      "|Yes             |1                      |\n",
      "|No              |0                      |\n",
      "|No              |0                      |\n",
      "|No              |0                      |\n",
      "+----------------+-----------------------+\n",
      "only showing top 5 rows\n",
      "\n",
      "+------------+-------------------+\n",
      "|HadArthritis|HadArthritisIndexed|\n",
      "+------------+-------------------+\n",
      "|Yes         |1                  |\n",
      "|No          |0                  |\n",
      "|Yes         |1                  |\n",
      "|Yes         |1                  |\n",
      "|No          |0                  |\n",
      "+------------+-------------------+\n",
      "only showing top 5 rows\n",
      "\n",
      "+-----------+------------------+\n",
      "|HadDiabetes|HadDiabetesIndexed|\n",
      "+-----------+------------------+\n",
      "|No         |0                 |\n",
      "|Yes        |1                 |\n",
      "|No         |0                 |\n",
      "|No         |0                 |\n",
      "|No         |0                 |\n",
      "+-----------+------------------+\n",
      "only showing top 5 rows\n",
      "\n",
      "+-------------------+--------------------------+\n",
      "|DeafOrHardOfHearing|DeafOrHardOfHearingIndexed|\n",
      "+-------------------+--------------------------+\n",
      "|No                 |0                         |\n",
      "|Yes                |1                         |\n",
      "|No                 |0                         |\n",
      "|No                 |0                         |\n",
      "|No                 |0                         |\n",
      "+-------------------+--------------------------+\n",
      "only showing top 5 rows\n",
      "\n",
      "+-----------------------+------------------------------+\n",
      "|BlindOrVisionDifficulty|BlindOrVisionDifficultyIndexed|\n",
      "+-----------------------+------------------------------+\n",
      "|No                     |0                             |\n",
      "|No                     |0                             |\n",
      "|No                     |0                             |\n",
      "|No                     |0                             |\n",
      "|No                     |0                             |\n",
      "+-----------------------+------------------------------+\n",
      "only showing top 5 rows\n",
      "\n",
      "+-----------------------+------------------------------+\n",
      "|DifficultyConcentrating|DifficultyConcentratingIndexed|\n",
      "+-----------------------+------------------------------+\n",
      "|No                     |0                             |\n",
      "|Yes                    |1                             |\n",
      "|No                     |0                             |\n",
      "|No                     |0                             |\n",
      "|No                     |0                             |\n",
      "+-----------------------+------------------------------+\n",
      "only showing top 5 rows\n",
      "\n",
      "+-----------------+------------------------+\n",
      "|DifficultyWalking|DifficultyWalkingIndexed|\n",
      "+-----------------+------------------------+\n",
      "|No               |0                       |\n",
      "|No               |0                       |\n",
      "|Yes              |1                       |\n",
      "|No               |0                       |\n",
      "|No               |0                       |\n",
      "+-----------------+------------------------+\n",
      "only showing top 5 rows\n",
      "\n",
      "+-------------------------+--------------------------------+\n",
      "|DifficultyDressingBathing|DifficultyDressingBathingIndexed|\n",
      "+-------------------------+--------------------------------+\n",
      "|No                       |0                               |\n",
      "|No                       |0                               |\n",
      "|No                       |0                               |\n",
      "|No                       |0                               |\n",
      "|No                       |0                               |\n",
      "+-------------------------+--------------------------------+\n",
      "only showing top 5 rows\n",
      "\n",
      "+-----------------+------------------------+\n",
      "|DifficultyErrands|DifficultyErrandsIndexed|\n",
      "+-----------------+------------------------+\n",
      "|No               |0                       |\n",
      "|No               |0                       |\n",
      "|Yes              |1                       |\n",
      "|No               |0                       |\n",
      "|No               |0                       |\n",
      "+-----------------+------------------------+\n",
      "only showing top 5 rows\n",
      "\n",
      "+---------+----------------+\n",
      "|ChestScan|ChestScanIndexed|\n",
      "+---------+----------------+\n",
      "|No       |0               |\n",
      "|Yes      |1               |\n",
      "|Yes      |1               |\n",
      "|Yes      |1               |\n",
      "|No       |0               |\n",
      "+---------+----------------+\n",
      "only showing top 5 rows\n",
      "\n",
      "+---------------+----------------------+\n",
      "|AlcoholDrinkers|AlcoholDrinkersIndexed|\n",
      "+---------------+----------------------+\n",
      "|No             |0                     |\n",
      "|No             |0                     |\n",
      "|Yes            |1                     |\n",
      "|Yes            |1                     |\n",
      "|Yes            |1                     |\n",
      "+---------------+----------------------+\n",
      "only showing top 5 rows\n",
      "\n",
      "+----------+-----------------+\n",
      "|HIVTesting|HIVTestingIndexed|\n",
      "+----------+-----------------+\n",
      "|No        |0                |\n",
      "|Yes       |1                |\n",
      "|No        |0                |\n",
      "|Yes       |1                |\n",
      "|No        |0                |\n",
      "+----------+-----------------+\n",
      "only showing top 5 rows\n",
      "\n",
      "+------------+-------------------+\n",
      "|FluVaxLast12|FluVaxLast12Indexed|\n",
      "+------------+-------------------+\n",
      "|Yes         |1                  |\n",
      "|Yes         |1                  |\n",
      "|Yes         |1                  |\n",
      "|No          |0                  |\n",
      "|Yes         |1                  |\n",
      "+------------+-------------------+\n",
      "only showing top 5 rows\n",
      "\n"
     ]
    },
    {
     "name": "stdout",
     "output_type": "stream",
     "text": [
      "+-------------+--------------------+\n",
      "|PneumoVaxEver|PneumoVaxEverIndexed|\n",
      "+-------------+--------------------+\n",
      "|Yes          |1                   |\n",
      "|Yes          |1                   |\n",
      "|Yes          |1                   |\n",
      "|No           |0                   |\n",
      "|No           |0                   |\n",
      "+-------------+--------------------+\n",
      "only showing top 5 rows\n",
      "\n"
     ]
    }
   ],
   "source": [
    "from pyspark.ml.feature import StringIndexer\n",
    "from pyspark.sql.functions import col\n",
    "\n",
    "# Create data frame by selecting the columns to encode\n",
    "data_indexed = data.select(*data.columns)\n",
    "\n",
    "# Iterate over each column specified for encoding\n",
    "for column in columns_to_encode:\n",
    "    indexed_col = column+\"Indexed\" # Define the name for the new indexed column\n",
    "\n",
    "    # Initialize StringIndexer to convert string values to numerical indices\n",
    "    indexer = StringIndexer(\n",
    "        inputCol=column,  # Column with string values to index\n",
    "        outputCol=indexed_col,  # Column to store the indexed values\n",
    "        stringOrderType=\"alphabetAsc\"  # Indexes in alphabetical order\n",
    "    )\n",
    "\n",
    "    # Fit the indexer on the data and transform it, adding the new indexed column\n",
    "    data_indexed = indexer.fit(data_indexed).transform(data_indexed)\n",
    "\n",
    "    # Cast the new indexed column to integer type\n",
    "    data_indexed = data_indexed.withColumn(\n",
    "        indexed_col, \n",
    "        col(indexed_col).cast(\"integer\")\n",
    "    )\n",
    "\n",
    "    # Display the original and indexed columns for verification\n",
    "    data_indexed.select([column, indexed_col]).show(5, truncate=False)"
   ]
  },
  {
   "cell_type": "code",
   "execution_count": 31,
   "id": "510a981c",
   "metadata": {},
   "outputs": [
    {
     "name": "stdout",
     "output_type": "stream",
     "text": [
      "root\n",
      " |-- State: string (nullable = true)\n",
      " |-- Sex: string (nullable = true)\n",
      " |-- GeneralHealth: string (nullable = true)\n",
      " |-- LastCheckupTime: string (nullable = true)\n",
      " |-- PhysicalActivities: string (nullable = true)\n",
      " |-- SleepHours: double (nullable = true)\n",
      " |-- HadHeartAttack: string (nullable = true)\n",
      " |-- HadAngina: string (nullable = true)\n",
      " |-- HadStroke: string (nullable = true)\n",
      " |-- HadAsthma: string (nullable = true)\n",
      " |-- HadSkinCancer: string (nullable = true)\n",
      " |-- HadCOPD: string (nullable = true)\n",
      " |-- HadDepressiveDisorder: string (nullable = true)\n",
      " |-- HadKidneyDisease: string (nullable = true)\n",
      " |-- HadArthritis: string (nullable = true)\n",
      " |-- HadDiabetes: string (nullable = true)\n",
      " |-- DeafOrHardOfHearing: string (nullable = true)\n",
      " |-- BlindOrVisionDifficulty: string (nullable = true)\n",
      " |-- DifficultyConcentrating: string (nullable = true)\n",
      " |-- DifficultyWalking: string (nullable = true)\n",
      " |-- DifficultyDressingBathing: string (nullable = true)\n",
      " |-- DifficultyErrands: string (nullable = true)\n",
      " |-- SmokerStatus: string (nullable = true)\n",
      " |-- ChestScan: string (nullable = true)\n",
      " |-- AgeCategory: string (nullable = true)\n",
      " |-- WeightInKilograms: double (nullable = true)\n",
      " |-- BMI: double (nullable = true)\n",
      " |-- AlcoholDrinkers: string (nullable = true)\n",
      " |-- HIVTesting: string (nullable = true)\n",
      " |-- FluVaxLast12: string (nullable = true)\n",
      " |-- PneumoVaxEver: string (nullable = true)\n",
      " |-- HeightInCentimeters: double (nullable = true)\n",
      " |-- SexIndexed: integer (nullable = true)\n",
      " |-- PhysicalActivitiesIndexed: integer (nullable = true)\n",
      " |-- HadHeartAttackIndexed: integer (nullable = true)\n",
      " |-- HadAnginaIndexed: integer (nullable = true)\n",
      " |-- HadStrokeIndexed: integer (nullable = true)\n",
      " |-- HadAsthmaIndexed: integer (nullable = true)\n",
      " |-- HadSkinCancerIndexed: integer (nullable = true)\n",
      " |-- HadCOPDIndexed: integer (nullable = true)\n",
      " |-- HadDepressiveDisorderIndexed: integer (nullable = true)\n",
      " |-- HadKidneyDiseaseIndexed: integer (nullable = true)\n",
      " |-- HadArthritisIndexed: integer (nullable = true)\n",
      " |-- HadDiabetesIndexed: integer (nullable = true)\n",
      " |-- DeafOrHardOfHearingIndexed: integer (nullable = true)\n",
      " |-- BlindOrVisionDifficultyIndexed: integer (nullable = true)\n",
      " |-- DifficultyConcentratingIndexed: integer (nullable = true)\n",
      " |-- DifficultyWalkingIndexed: integer (nullable = true)\n",
      " |-- DifficultyDressingBathingIndexed: integer (nullable = true)\n",
      " |-- DifficultyErrandsIndexed: integer (nullable = true)\n",
      " |-- ChestScanIndexed: integer (nullable = true)\n",
      " |-- AlcoholDrinkersIndexed: integer (nullable = true)\n",
      " |-- HIVTestingIndexed: integer (nullable = true)\n",
      " |-- FluVaxLast12Indexed: integer (nullable = true)\n",
      " |-- PneumoVaxEverIndexed: integer (nullable = true)\n",
      "\n"
     ]
    }
   ],
   "source": [
    "# Printing Schema of data_indexed data frame\n",
    "data_indexed.printSchema()"
   ]
  },
  {
   "cell_type": "code",
   "execution_count": 32,
   "id": "c10812de",
   "metadata": {},
   "outputs": [
    {
     "name": "stdout",
     "output_type": "stream",
     "text": [
      "+-------+--------------+\n",
      "|State  |StateFrequency|\n",
      "+-------+--------------+\n",
      "|Alabama|1875          |\n",
      "|Alabama|1875          |\n",
      "|Alabama|1875          |\n",
      "|Alabama|1875          |\n",
      "|Alabama|1875          |\n",
      "+-------+--------------+\n",
      "only showing top 5 rows\n",
      "\n"
     ]
    }
   ],
   "source": [
    "#Frequency Encoding for State Column\n",
    "\n",
    "from pyspark.sql.functions import col, count\n",
    "\n",
    "# Calculate the frequency of each state\n",
    "state_freq = data_indexed.groupBy(\"State\").agg(count(\"State\").alias(\"StateFrequency\"))\n",
    "\n",
    "# Join the frequency counts with the original DataFrame\n",
    "data_encoded_state = data_indexed.join(state_freq, on=\"State\", how=\"left\")\n",
    "\n",
    "# Display the result\n",
    "data_encoded_state.select([\"State\", \"StateFrequency\"]).show(5, truncate=False)\n",
    "\n"
   ]
  },
  {
   "cell_type": "code",
   "execution_count": 33,
   "id": "ad0a25b6",
   "metadata": {
    "scrolled": false
   },
   "outputs": [
    {
     "name": "stdout",
     "output_type": "stream",
     "text": [
      "root\n",
      " |-- State: string (nullable = true)\n",
      " |-- Sex: string (nullable = true)\n",
      " |-- GeneralHealth: string (nullable = true)\n",
      " |-- LastCheckupTime: string (nullable = true)\n",
      " |-- PhysicalActivities: string (nullable = true)\n",
      " |-- SleepHours: double (nullable = true)\n",
      " |-- HadHeartAttack: string (nullable = true)\n",
      " |-- HadAngina: string (nullable = true)\n",
      " |-- HadStroke: string (nullable = true)\n",
      " |-- HadAsthma: string (nullable = true)\n",
      " |-- HadSkinCancer: string (nullable = true)\n",
      " |-- HadCOPD: string (nullable = true)\n",
      " |-- HadDepressiveDisorder: string (nullable = true)\n",
      " |-- HadKidneyDisease: string (nullable = true)\n",
      " |-- HadArthritis: string (nullable = true)\n",
      " |-- HadDiabetes: string (nullable = true)\n",
      " |-- DeafOrHardOfHearing: string (nullable = true)\n",
      " |-- BlindOrVisionDifficulty: string (nullable = true)\n",
      " |-- DifficultyConcentrating: string (nullable = true)\n",
      " |-- DifficultyWalking: string (nullable = true)\n",
      " |-- DifficultyDressingBathing: string (nullable = true)\n",
      " |-- DifficultyErrands: string (nullable = true)\n",
      " |-- SmokerStatus: string (nullable = true)\n",
      " |-- ChestScan: string (nullable = true)\n",
      " |-- AgeCategory: string (nullable = true)\n",
      " |-- WeightInKilograms: double (nullable = true)\n",
      " |-- BMI: double (nullable = true)\n",
      " |-- AlcoholDrinkers: string (nullable = true)\n",
      " |-- HIVTesting: string (nullable = true)\n",
      " |-- FluVaxLast12: string (nullable = true)\n",
      " |-- PneumoVaxEver: string (nullable = true)\n",
      " |-- HeightInCentimeters: double (nullable = true)\n",
      " |-- SexIndexed: integer (nullable = true)\n",
      " |-- PhysicalActivitiesIndexed: integer (nullable = true)\n",
      " |-- HadHeartAttackIndexed: integer (nullable = true)\n",
      " |-- HadAnginaIndexed: integer (nullable = true)\n",
      " |-- HadStrokeIndexed: integer (nullable = true)\n",
      " |-- HadAsthmaIndexed: integer (nullable = true)\n",
      " |-- HadSkinCancerIndexed: integer (nullable = true)\n",
      " |-- HadCOPDIndexed: integer (nullable = true)\n",
      " |-- HadDepressiveDisorderIndexed: integer (nullable = true)\n",
      " |-- HadKidneyDiseaseIndexed: integer (nullable = true)\n",
      " |-- HadArthritisIndexed: integer (nullable = true)\n",
      " |-- HadDiabetesIndexed: integer (nullable = true)\n",
      " |-- DeafOrHardOfHearingIndexed: integer (nullable = true)\n",
      " |-- BlindOrVisionDifficultyIndexed: integer (nullable = true)\n",
      " |-- DifficultyConcentratingIndexed: integer (nullable = true)\n",
      " |-- DifficultyWalkingIndexed: integer (nullable = true)\n",
      " |-- DifficultyDressingBathingIndexed: integer (nullable = true)\n",
      " |-- DifficultyErrandsIndexed: integer (nullable = true)\n",
      " |-- ChestScanIndexed: integer (nullable = true)\n",
      " |-- AlcoholDrinkersIndexed: integer (nullable = true)\n",
      " |-- HIVTestingIndexed: integer (nullable = true)\n",
      " |-- FluVaxLast12Indexed: integer (nullable = true)\n",
      " |-- PneumoVaxEverIndexed: integer (nullable = true)\n",
      " |-- StateFrequency: long (nullable = true)\n",
      "\n"
     ]
    }
   ],
   "source": [
    "# Printing Schema of data_encoded_state data frame\n",
    "data_encoded_state.printSchema()"
   ]
  },
  {
   "cell_type": "code",
   "execution_count": 36,
   "id": "399f2cff",
   "metadata": {},
   "outputs": [
    {
     "name": "stdout",
     "output_type": "stream",
     "text": [
      "+-------------+------------------+\n",
      "|GeneralHealth|GeneralHealthIndex|\n",
      "+-------------+------------------+\n",
      "|Very good    |4                 |\n",
      "|Fair         |2                 |\n",
      "|Fair         |2                 |\n",
      "|Excellent    |5                 |\n",
      "|Very good    |4                 |\n",
      "+-------------+------------------+\n",
      "only showing top 5 rows\n",
      "\n"
     ]
    }
   ],
   "source": [
    "#Ordinal Encoding for GeneralHealth\n",
    "\n",
    "from pyspark.sql.functions import trim, when, col\n",
    "\n",
    "# Trim leading and trailing whitespace from GeneralHealth\n",
    "data_encoded_state = data_encoded_state.withColumn(\"GeneralHealth\", trim(col(\"GeneralHealth\")))\n",
    "\n",
    "# Apply ordinal encoding with updated conditions\n",
    "data_encoded_general_health = data_encoded_state.withColumn(\n",
    "    \"GeneralHealthIndex\",\n",
    "    when(col(\"GeneralHealth\") == \"Excellent\", 5)\n",
    "    .when(col(\"GeneralHealth\") == \"Very good\", 4)  # Corrected value\n",
    "    .when(col(\"GeneralHealth\") == \"Good\", 3)\n",
    "    .when(col(\"GeneralHealth\") == \"Fair\", 2)\n",
    "    .when(col(\"GeneralHealth\") == \"Poor\", 1)\n",
    "    .otherwise(None)\n",
    ")\n",
    "\n",
    "# Show the results to verify\n",
    "data_encoded_general_health.select([\"GeneralHealth\", \"GeneralHealthIndex\"]).show(5, truncate=False)\n"
   ]
  },
  {
   "cell_type": "code",
   "execution_count": null,
   "id": "86816806",
   "metadata": {},
   "outputs": [],
   "source": [
    "# data_encoded_general_health.printSchema()"
   ]
  },
  {
   "cell_type": "code",
   "execution_count": 37,
   "id": "e85a79fc",
   "metadata": {},
   "outputs": [
    {
     "name": "stdout",
     "output_type": "stream",
     "text": [
      "+-------------------------------------------------------+\n",
      "|LastCheckupTime                                        |\n",
      "+-------------------------------------------------------+\n",
      "|Within past 2 years (1 year but less than 2 years ago) |\n",
      "|Within past 5 years (2 years but less than 5 years ago)|\n",
      "|5 or more years ago                                    |\n",
      "|Within past year (anytime less than 12 months ago)     |\n",
      "+-------------------------------------------------------+\n",
      "\n"
     ]
    }
   ],
   "source": [
    "# Find distinct values in the LastCheckupTime column\n",
    "distinct_checkup_times = data_encoded_general_health.select(\"LastCheckupTime\").distinct()\n",
    "\n",
    "# Show the distinct values\n",
    "distinct_checkup_times.show(truncate=False)\n"
   ]
  },
  {
   "cell_type": "code",
   "execution_count": 38,
   "id": "e3019d4b",
   "metadata": {
    "scrolled": true
   },
   "outputs": [
    {
     "name": "stdout",
     "output_type": "stream",
     "text": [
      "+-------------------------------------------------------+--------------------+\n",
      "|LastCheckupTime                                        |LastCheckupTimeIndex|\n",
      "+-------------------------------------------------------+--------------------+\n",
      "|Within past year (anytime less than 12 months ago)     |0.5                 |\n",
      "|Within past year (anytime less than 12 months ago)     |0.5                 |\n",
      "|Within past year (anytime less than 12 months ago)     |0.5                 |\n",
      "|Within past year (anytime less than 12 months ago)     |0.5                 |\n",
      "|Within past year (anytime less than 12 months ago)     |0.5                 |\n",
      "|Within past 2 years (1 year but less than 2 years ago) |1.5                 |\n",
      "|Within past year (anytime less than 12 months ago)     |0.5                 |\n",
      "|Within past year (anytime less than 12 months ago)     |0.5                 |\n",
      "|Within past year (anytime less than 12 months ago)     |0.5                 |\n",
      "|Within past year (anytime less than 12 months ago)     |0.5                 |\n",
      "|Within past year (anytime less than 12 months ago)     |0.5                 |\n",
      "|Within past year (anytime less than 12 months ago)     |0.5                 |\n",
      "|Within past year (anytime less than 12 months ago)     |0.5                 |\n",
      "|Within past year (anytime less than 12 months ago)     |0.5                 |\n",
      "|Within past year (anytime less than 12 months ago)     |0.5                 |\n",
      "|Within past year (anytime less than 12 months ago)     |0.5                 |\n",
      "|5 or more years ago                                    |5.0                 |\n",
      "|Within past year (anytime less than 12 months ago)     |0.5                 |\n",
      "|5 or more years ago                                    |5.0                 |\n",
      "|Within past 5 years (2 years but less than 5 years ago)|3.5                 |\n",
      "+-------------------------------------------------------+--------------------+\n",
      "only showing top 20 rows\n",
      "\n"
     ]
    }
   ],
   "source": [
    "from pyspark.sql.functions import col, when\n",
    "\n",
    "# Define the mean values for the intervals using `when` and `otherwise`\n",
    "data_encoded_checkup = data_encoded_general_health.withColumn(\n",
    "    \"LastCheckupTimeIndex\",\n",
    "    when(col(\"LastCheckupTime\") == \"5 or more years ago\", 5.0)\n",
    "    .when(col(\"LastCheckupTime\") == \"Within past year (anytime less than 12 months ago)\", 0.5)\n",
    "    .when(col(\"LastCheckupTime\") == \"Within past 5 years (2 years but less than 5 years ago)\", 3.5)\n",
    "    .when(col(\"LastCheckupTime\") == \"Within past 2 years (1 year but less than 2 years ago)\", 1.5)\n",
    "    .otherwise(None)\n",
    ")\n",
    "\n",
    "# Display the result\n",
    "data_encoded_checkup.select([\"LastCheckupTime\", \"LastCheckupTimeIndex\"]).show(20, truncate=False)\n"
   ]
  },
  {
   "cell_type": "code",
   "execution_count": 41,
   "id": "4eccdcdf",
   "metadata": {},
   "outputs": [
    {
     "name": "stdout",
     "output_type": "stream",
     "text": [
      "+-------------------------------------+\n",
      "|SmokerStatus                         |\n",
      "+-------------------------------------+\n",
      "|Never smoked                         |\n",
      "|Current smoker - now smokes every day|\n",
      "|Former smoker                        |\n",
      "|Current smoker - now smokes some days|\n",
      "+-------------------------------------+\n",
      "\n"
     ]
    }
   ],
   "source": [
    "# Show the distinct values of \"SmokerStatus\" column \n",
    "data_encoded_checkup.select(\"SmokerStatus\").distinct().show(truncate=False)"
   ]
  },
  {
   "cell_type": "code",
   "execution_count": 43,
   "id": "a05f9fe6",
   "metadata": {},
   "outputs": [
    {
     "name": "stdout",
     "output_type": "stream",
     "text": [
      "+-------------------------------------+-----------------+\n",
      "|SmokerStatus                         |SmokerStatusIndex|\n",
      "+-------------------------------------+-----------------+\n",
      "|Former smoker                        |1                |\n",
      "|Former smoker                        |1                |\n",
      "|Current smoker - now smokes some days|2                |\n",
      "|Current smoker - now smokes every day|3                |\n",
      "|Never smoked                         |0                |\n",
      "|Current smoker - now smokes every day|3                |\n",
      "|Current smoker - now smokes every day|3                |\n",
      "|Former smoker                        |1                |\n",
      "|Former smoker                        |1                |\n",
      "|Never smoked                         |0                |\n",
      "+-------------------------------------+-----------------+\n",
      "only showing top 10 rows\n",
      "\n"
     ]
    }
   ],
   "source": [
    "from pyspark.sql.functions import col, when\n",
    "\n",
    "# Define label encoding for SmokerStatus\n",
    "data_encoded_smoker_status = data_encoded_checkup.withColumn(\n",
    "    \"SmokerStatusIndex\",\n",
    "    when(col(\"SmokerStatus\") == \"Never smoked\", 0)\n",
    "    .when(col(\"SmokerStatus\") == \"Former smoker\", 1)\n",
    "    .when(col(\"SmokerStatus\") == \"Current smoker - now smokes some days\", 2)\n",
    "    .when(col(\"SmokerStatus\") == \"Current smoker - now smokes every day\", 3)\n",
    "    .otherwise(None)  # Handle any unexpected values\n",
    ")\n",
    "\n",
    "# Display the result\n",
    "data_encoded_smoker_status.select([\"SmokerStatus\", \"SmokerStatusIndex\"]).show(10, truncate=False)\n"
   ]
  },
  {
   "cell_type": "code",
   "execution_count": 44,
   "id": "07193c56",
   "metadata": {
    "scrolled": true
   },
   "outputs": [
    {
     "name": "stdout",
     "output_type": "stream",
     "text": [
      "+-------+------+-------------+------------------------------------------------------+------------------+----------+--------------+---------+---------+---------+-------------+-------+---------------------+----------------+------------+-----------+-------------------+-----------------------+-----------------------+-----------------+-------------------------+-----------------+-------------------------------------+---------+------------+-----------------+-----+---------------+----------+------------+-------------+-------------------+----------+-------------------------+---------------------+----------------+----------------+----------------+--------------------+--------------+----------------------------+-----------------------+-------------------+------------------+--------------------------+------------------------------+------------------------------+------------------------+--------------------------------+------------------------+----------------+----------------------+-----------------+-------------------+--------------------+--------------+------------------+--------------------+-----------------+----------------+\n",
      "|State  |Sex   |GeneralHealth|LastCheckupTime                                       |PhysicalActivities|SleepHours|HadHeartAttack|HadAngina|HadStroke|HadAsthma|HadSkinCancer|HadCOPD|HadDepressiveDisorder|HadKidneyDisease|HadArthritis|HadDiabetes|DeafOrHardOfHearing|BlindOrVisionDifficulty|DifficultyConcentrating|DifficultyWalking|DifficultyDressingBathing|DifficultyErrands|SmokerStatus                         |ChestScan|AgeCategory |WeightInKilograms|BMI  |AlcoholDrinkers|HIVTesting|FluVaxLast12|PneumoVaxEver|HeightInCentimeters|SexIndexed|PhysicalActivitiesIndexed|HadHeartAttackIndexed|HadAnginaIndexed|HadStrokeIndexed|HadAsthmaIndexed|HadSkinCancerIndexed|HadCOPDIndexed|HadDepressiveDisorderIndexed|HadKidneyDiseaseIndexed|HadArthritisIndexed|HadDiabetesIndexed|DeafOrHardOfHearingIndexed|BlindOrVisionDifficultyIndexed|DifficultyConcentratingIndexed|DifficultyWalkingIndexed|DifficultyDressingBathingIndexed|DifficultyErrandsIndexed|ChestScanIndexed|AlcoholDrinkersIndexed|HIVTestingIndexed|FluVaxLast12Indexed|PneumoVaxEverIndexed|StateFrequency|GeneralHealthIndex|LastCheckupTimeIndex|SmokerStatusIndex|AgeCategoryIndex|\n",
      "+-------+------+-------------+------------------------------------------------------+------------------+----------+--------------+---------+---------+---------+-------------+-------+---------------------+----------------+------------+-----------+-------------------+-----------------------+-----------------------+-----------------+-------------------------+-----------------+-------------------------------------+---------+------------+-----------------+-----+---------------+----------+------------+-------------+-------------------+----------+-------------------------+---------------------+----------------+----------------+----------------+--------------------+--------------+----------------------------+-----------------------+-------------------+------------------+--------------------------+------------------------------+------------------------------+------------------------+--------------------------------+------------------------+----------------+----------------------+-----------------+-------------------+--------------------+--------------+------------------+--------------------+-----------------+----------------+\n",
      "|Alabama|Male  |Very good    |Within past year (anytime less than 12 months ago)    |Yes               |6.0       |No            |No       |No       |No       |Yes          |No     |No                   |No              |Yes         |No         |No                 |No                     |No                     |No               |No                       |No               |Former smoker                        |No       |Age 75 to 79|82.1             |27.52|No             |No        |Yes         |Yes          |173.0              |1         |1                        |0                    |0               |0               |0               |1                   |0             |0                           |0                      |1                  |0                 |0                         |0                             |0                             |0                       |0                               |0                       |0               |0                     |0                |1                  |1                   |1875          |4                 |0.5                 |1                |11              |\n",
      "|Alabama|Male  |Fair         |Within past year (anytime less than 12 months ago)    |Yes               |8.0       |No            |No       |Yes      |No       |No           |No     |No                   |Yes             |No          |Yes        |Yes                |No                     |Yes                    |No               |No                       |No               |Former smoker                        |Yes      |Age 75 to 79|85.73            |24.94|No             |Yes       |Yes         |Yes          |185.0              |1         |1                        |0                    |0               |1               |0               |0                   |0             |0                           |1                      |0                  |1                 |1                         |0                             |1                             |0                       |0                               |0                       |1               |0                     |1                |1                  |1                   |1875          |2                 |0.5                 |1                |11              |\n",
      "|Alabama|Male  |Fair         |Within past year (anytime less than 12 months ago)    |Yes               |6.0       |No            |No       |No       |No       |No           |No     |Yes                  |No              |Yes         |No         |No                 |No                     |No                     |Yes              |No                       |Yes              |Current smoker - now smokes some days|Yes      |Age 55 to 59|78.02            |22.08|Yes            |No        |Yes         |Yes          |188.0              |1         |1                        |0                    |0               |0               |0               |0                   |0             |1                           |0                      |1                  |0                 |0                         |0                             |0                             |1                       |0                               |1                       |1               |1                     |0                |1                  |1                   |1875          |2                 |0.5                 |2                |7               |\n",
      "|Alabama|Female|Excellent    |Within past year (anytime less than 12 months ago)    |No                |7.0       |No            |No       |No       |No       |No           |No     |No                   |No              |Yes         |No         |No                 |No                     |No                     |No               |No                       |No               |Current smoker - now smokes every day|Yes      |Age 35 to 39|99.34            |33.3 |Yes            |Yes       |No          |No           |173.0              |0         |0                        |0                    |0               |0               |0               |0                   |0             |0                           |0                      |1                  |0                 |0                         |0                             |0                             |0                       |0                               |0                       |1               |1                     |1                |0                  |0                   |1875          |5                 |0.5                 |3                |3               |\n",
      "|Alabama|Male  |Very good    |Within past year (anytime less than 12 months ago)    |Yes               |8.0       |No            |No       |No       |No       |No           |No     |No                   |No              |No          |No         |No                 |No                     |No                     |No               |No                       |No               |Never smoked                         |No       |Age 70 to 74|86.18            |25.07|Yes            |No        |Yes         |No           |185.0              |1         |1                        |0                    |0               |0               |0               |0                   |0             |0                           |0                      |0                  |0                 |0                         |0                             |0                             |0                       |0                               |0                       |0               |1                     |0                |1                  |0                   |1875          |4                 |0.5                 |0                |10              |\n",
      "|Alabama|Female|Good         |Within past 2 years (1 year but less than 2 years ago)|No                |6.0       |No            |No       |No       |No       |No           |No     |Yes                  |No              |Yes         |No         |No                 |No                     |No                     |No               |No                       |No               |Current smoker - now smokes every day|Yes      |Age 50 to 54|158.76           |53.22|Yes            |No        |No          |No           |173.0              |0         |0                        |0                    |0               |0               |0               |0                   |0             |1                           |0                      |1                  |0                 |0                         |0                             |0                             |0                       |0                               |0                       |1               |1                     |0                |0                  |0                   |1875          |3                 |1.5                 |3                |6               |\n",
      "|Alabama|Female|Fair         |Within past year (anytime less than 12 months ago)    |Yes               |9.0       |No            |No       |Yes      |No       |No           |No     |Yes                  |No              |No          |No         |No                 |Yes                    |No                     |No               |No                       |Yes              |Current smoker - now smokes every day|Yes      |Age 50 to 54|63.5             |28.28|Yes            |Yes       |No          |No           |150.0              |0         |1                        |0                    |0               |1               |0               |0                   |0             |1                           |0                      |0                  |0                 |0                         |1                             |0                             |0                       |0                               |1                       |1               |1                     |1                |0                  |0                   |1875          |2                 |0.5                 |3                |6               |\n",
      "|Alabama|Female|Good         |Within past year (anytime less than 12 months ago)    |Yes               |8.0       |No            |No       |No       |No       |No           |No     |No                   |No              |No          |Yes        |No                 |No                     |No                     |No               |No                       |No               |Former smoker                        |No       |Age 60 to 64|71.21            |27.81|Yes            |No        |Yes         |Yes          |160.0              |0         |1                        |0                    |0               |0               |0               |0                   |0             |0                           |0                      |0                  |1                 |0                         |0                             |0                             |0                       |0                               |0                       |0               |1                     |0                |1                  |1                   |1875          |3                 |0.5                 |1                |8               |\n",
      "|Alaska |Female|Very good    |Within past year (anytime less than 12 months ago)    |No                |6.0       |No            |No       |No       |No       |No           |No     |No                   |No              |Yes         |No         |No                 |No                     |No                     |No               |No                       |No               |Former smoker                        |No       |Age 60 to 64|81.65            |29.05|Yes            |No        |Yes         |No           |168.0              |0         |0                        |0                    |0               |0               |0               |0                   |0             |0                           |0                      |1                  |0                 |0                         |0                             |0                             |0                       |0                               |0                       |0               |1                     |0                |1                  |0                   |3112          |4                 |0.5                 |1                |8               |\n",
      "|Alaska |Male  |Good         |Within past year (anytime less than 12 months ago)    |Yes               |7.0       |No            |No       |No       |No       |No           |No     |No                   |No              |No          |No         |No                 |No                     |No                     |No               |No                       |No               |Never smoked                         |No       |Age 50 to 54|90.72            |24.34|Yes            |Yes       |No          |No           |193.0              |1         |1                        |0                    |0               |0               |0               |0                   |0             |0                           |0                      |0                  |0                 |0                         |0                             |0                             |0                       |0                               |0                       |0               |1                     |1                |0                  |0                   |3112          |3                 |0.5                 |0                |6               |\n",
      "+-------+------+-------------+------------------------------------------------------+------------------+----------+--------------+---------+---------+---------+-------------+-------+---------------------+----------------+------------+-----------+-------------------+-----------------------+-----------------------+-----------------+-------------------------+-----------------+-------------------------------------+---------+------------+-----------------+-----+---------------+----------+------------+-------------+-------------------+----------+-------------------------+---------------------+----------------+----------------+----------------+--------------------+--------------+----------------------------+-----------------------+-------------------+------------------+--------------------------+------------------------------+------------------------------+------------------------+--------------------------------+------------------------+----------------+----------------------+-----------------+-------------------+--------------------+--------------+------------------+--------------------+-----------------+----------------+\n",
      "only showing top 10 rows\n",
      "\n"
     ]
    }
   ],
   "source": [
    "from pyspark.sql import SparkSession\n",
    "from pyspark.sql.functions import col, lit, when\n",
    "\n",
    "# Create a column with the encoded values\n",
    "data_encoded_age_category = data_encoded_smoker_status.withColumn(\n",
    "    \"AgeCategoryIndex\",\n",
    "    when(col(\"AgeCategory\") == lit('Age 18 to 24'), lit(0))\n",
    "    .when(col(\"AgeCategory\") == lit('Age 25 to 29'), lit(1))\n",
    "    .when(col(\"AgeCategory\") == lit('Age 30 to 34'), lit(2))\n",
    "    .when(col(\"AgeCategory\") == lit('Age 35 to 39'), lit(3))\n",
    "    .when(col(\"AgeCategory\") == lit('Age 40 to 44'), lit(4))\n",
    "    .when(col(\"AgeCategory\") == lit('Age 45 to 49'), lit(5))\n",
    "    .when(col(\"AgeCategory\") == lit('Age 50 to 54'), lit(6))\n",
    "    .when(col(\"AgeCategory\") == lit('Age 55 to 59'), lit(7))\n",
    "    .when(col(\"AgeCategory\") == lit('Age 60 to 64'), lit(8))\n",
    "    .when(col(\"AgeCategory\") == lit('Age 65 to 69'), lit(9))\n",
    "    .when(col(\"AgeCategory\") == lit('Age 70 to 74'), lit(10))\n",
    "    .when(col(\"AgeCategory\") == lit('Age 75 to 79'), lit(11))\n",
    "    .when(col(\"AgeCategory\") == lit('Age 80 or older'), lit(12))\n",
    "    .otherwise(lit(None))  # handle any unexpected categories\n",
    ")\n",
    "\n",
    "# Display the result\n",
    "data_encoded_age_category.show(10, truncate=False)\n",
    "\n"
   ]
  },
  {
   "cell_type": "code",
   "execution_count": 46,
   "id": "b8ff4c1c",
   "metadata": {
    "scrolled": false
   },
   "outputs": [
    {
     "name": "stdout",
     "output_type": "stream",
     "text": [
      "+------------+----------------+\n",
      "| AgeCategory|AgeCategoryIndex|\n",
      "+------------+----------------+\n",
      "|Age 75 to 79|              11|\n",
      "|Age 75 to 79|              11|\n",
      "|Age 55 to 59|               7|\n",
      "|Age 35 to 39|               3|\n",
      "|Age 70 to 74|              10|\n",
      "+------------+----------------+\n",
      "only showing top 5 rows\n",
      "\n"
     ]
    }
   ],
   "source": [
    "# Display the results of 'AgeCategory', 'AgeCategoryIndex' to verify encoding\n",
    "data_encoded_age_category.select('AgeCategory', 'AgeCategoryIndex').show(5)"
   ]
  },
  {
   "cell_type": "code",
   "execution_count": 45,
   "id": "2f678359",
   "metadata": {
    "scrolled": false
   },
   "outputs": [
    {
     "name": "stdout",
     "output_type": "stream",
     "text": [
      "root\n",
      " |-- State: string (nullable = true)\n",
      " |-- Sex: string (nullable = true)\n",
      " |-- GeneralHealth: string (nullable = true)\n",
      " |-- LastCheckupTime: string (nullable = true)\n",
      " |-- PhysicalActivities: string (nullable = true)\n",
      " |-- SleepHours: double (nullable = true)\n",
      " |-- HadHeartAttack: string (nullable = true)\n",
      " |-- HadAngina: string (nullable = true)\n",
      " |-- HadStroke: string (nullable = true)\n",
      " |-- HadAsthma: string (nullable = true)\n",
      " |-- HadSkinCancer: string (nullable = true)\n",
      " |-- HadCOPD: string (nullable = true)\n",
      " |-- HadDepressiveDisorder: string (nullable = true)\n",
      " |-- HadKidneyDisease: string (nullable = true)\n",
      " |-- HadArthritis: string (nullable = true)\n",
      " |-- HadDiabetes: string (nullable = true)\n",
      " |-- DeafOrHardOfHearing: string (nullable = true)\n",
      " |-- BlindOrVisionDifficulty: string (nullable = true)\n",
      " |-- DifficultyConcentrating: string (nullable = true)\n",
      " |-- DifficultyWalking: string (nullable = true)\n",
      " |-- DifficultyDressingBathing: string (nullable = true)\n",
      " |-- DifficultyErrands: string (nullable = true)\n",
      " |-- SmokerStatus: string (nullable = true)\n",
      " |-- ChestScan: string (nullable = true)\n",
      " |-- AgeCategory: string (nullable = true)\n",
      " |-- WeightInKilograms: double (nullable = true)\n",
      " |-- BMI: double (nullable = true)\n",
      " |-- AlcoholDrinkers: string (nullable = true)\n",
      " |-- HIVTesting: string (nullable = true)\n",
      " |-- FluVaxLast12: string (nullable = true)\n",
      " |-- PneumoVaxEver: string (nullable = true)\n",
      " |-- HeightInCentimeters: double (nullable = true)\n",
      " |-- SexIndexed: integer (nullable = true)\n",
      " |-- PhysicalActivitiesIndexed: integer (nullable = true)\n",
      " |-- HadHeartAttackIndexed: integer (nullable = true)\n",
      " |-- HadAnginaIndexed: integer (nullable = true)\n",
      " |-- HadStrokeIndexed: integer (nullable = true)\n",
      " |-- HadAsthmaIndexed: integer (nullable = true)\n",
      " |-- HadSkinCancerIndexed: integer (nullable = true)\n",
      " |-- HadCOPDIndexed: integer (nullable = true)\n",
      " |-- HadDepressiveDisorderIndexed: integer (nullable = true)\n",
      " |-- HadKidneyDiseaseIndexed: integer (nullable = true)\n",
      " |-- HadArthritisIndexed: integer (nullable = true)\n",
      " |-- HadDiabetesIndexed: integer (nullable = true)\n",
      " |-- DeafOrHardOfHearingIndexed: integer (nullable = true)\n",
      " |-- BlindOrVisionDifficultyIndexed: integer (nullable = true)\n",
      " |-- DifficultyConcentratingIndexed: integer (nullable = true)\n",
      " |-- DifficultyWalkingIndexed: integer (nullable = true)\n",
      " |-- DifficultyDressingBathingIndexed: integer (nullable = true)\n",
      " |-- DifficultyErrandsIndexed: integer (nullable = true)\n",
      " |-- ChestScanIndexed: integer (nullable = true)\n",
      " |-- AlcoholDrinkersIndexed: integer (nullable = true)\n",
      " |-- HIVTestingIndexed: integer (nullable = true)\n",
      " |-- FluVaxLast12Indexed: integer (nullable = true)\n",
      " |-- PneumoVaxEverIndexed: integer (nullable = true)\n",
      " |-- StateFrequency: long (nullable = true)\n",
      " |-- GeneralHealthIndex: integer (nullable = true)\n",
      " |-- LastCheckupTimeIndex: double (nullable = true)\n",
      " |-- SmokerStatusIndex: integer (nullable = true)\n",
      " |-- AgeCategoryIndex: integer (nullable = true)\n",
      "\n"
     ]
    }
   ],
   "source": [
    "# Print Schema of data_encoded_age_category\n",
    "data_encoded_age_category.printSchema()"
   ]
  },
  {
   "cell_type": "code",
   "execution_count": null,
   "id": "b7be4b71",
   "metadata": {},
   "outputs": [],
   "source": [
    "import os\n",
    "import pandas as pd\n",
    "\n",
    "# Directory path\n",
    "directory = 'D:/PROJECT/CSV_Files'\n",
    "\n",
    "# Ensure the directory exists\n",
    "if not os.path.exists(directory):\n",
    "    os.makedirs(directory)\n",
    "\n",
    "# Save to CSV\n",
    "file_path = os.path.join(directory, 'encoded_dataset.csv')\n",
    "pd_save.to_csv(file_path, index=False)\n",
    "\n",
    "print(f\"File saved successfully to {file_path}\")\n",
    "\n",
    "# # Save to Excel (requires openpyxl or xlsxwriter)\n",
    "# pandas_df.to_excel(output_path, index=False)\n",
    "\n",
    "# # Save to Parquet\n",
    "# pandas_df.to_parquet(output_path, index=False)\n"
   ]
  },
  {
   "cell_type": "code",
   "execution_count": 54,
   "id": "329a39c5",
   "metadata": {},
   "outputs": [],
   "source": [
    "# Identify columns with data type 'string' in the DataFrame\n",
    "col_to_remove = [colm for colm, dt in data_encoded_age_category.dtypes if dt == \"string\"]\n",
    "\n",
    "# Drop the identified string columns from the DataFrame\n",
    "final_df = data_encoded_age_category.drop(*col_to_remove)"
   ]
  },
  {
   "cell_type": "code",
   "execution_count": null,
   "id": "0f9b21f6",
   "metadata": {},
   "outputs": [],
   "source": []
  },
  {
   "cell_type": "code",
   "execution_count": null,
   "id": "c770e540",
   "metadata": {},
   "outputs": [],
   "source": []
  },
  {
   "cell_type": "code",
   "execution_count": 57,
   "id": "3486b2a4",
   "metadata": {},
   "outputs": [],
   "source": [
    "pd_save = data_encoded_age_category.toPandas()"
   ]
  },
  {
   "cell_type": "code",
   "execution_count": 58,
   "id": "63e90f30",
   "metadata": {
    "collapsed": true
   },
   "outputs": [
    {
     "name": "stdout",
     "output_type": "stream",
     "text": [
      "File saved successfully to D:/PROJECT/CSV_Files\\encoded_dataset(complete).csv\n"
     ]
    }
   ],
   "source": [
    "import os\n",
    "import pandas as pd\n",
    "\n",
    "# Directory path\n",
    "directory = 'D:/PROJECT/CSV_Files'\n",
    "\n",
    "# Ensure the directory exists\n",
    "if not os.path.exists(directory):\n",
    "    os.makedirs(directory)\n",
    "\n",
    "# Save to CSV\n",
    "file_path = os.path.join(directory, 'encoded_dataset(complete).csv')\n",
    "pd_save.to_csv(file_path, index=False)\n",
    "\n",
    "print(f\"File saved successfully to {file_path}\")\n",
    "\n",
    "# # Save to Excel (requires openpyxl or xlsxwriter)\n",
    "# pandas_df.to_excel(output_path, index=False)\n",
    "\n",
    "# # Save to Parquet\n",
    "# pandas_df.to_parquet(output_path, index=False)\n"
   ]
  },
  {
   "cell_type": "code",
   "execution_count": null,
   "id": "9c5c21fc",
   "metadata": {},
   "outputs": [],
   "source": []
  }
 ],
 "metadata": {
  "kernelspec": {
   "display_name": "Python 3 (ipykernel)",
   "language": "python",
   "name": "python3"
  },
  "language_info": {
   "codemirror_mode": {
    "name": "ipython",
    "version": 3
   },
   "file_extension": ".py",
   "mimetype": "text/x-python",
   "name": "python",
   "nbconvert_exporter": "python",
   "pygments_lexer": "ipython3",
   "version": "3.11.5"
  }
 },
 "nbformat": 4,
 "nbformat_minor": 5
}
