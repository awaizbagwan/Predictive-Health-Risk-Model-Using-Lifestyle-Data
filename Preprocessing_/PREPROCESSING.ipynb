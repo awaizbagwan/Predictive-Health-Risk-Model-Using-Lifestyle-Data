{
 "cells": [
  {
   "cell_type": "code",
   "execution_count": null,
   "id": "fb86d985",
   "metadata": {},
   "outputs": [],
   "source": [
    "# Installing Pyspark if not already present\n",
    "# !pip install pyspark"
   ]
  },
  {
   "cell_type": "code",
   "execution_count": 3,
   "id": "68541de2",
   "metadata": {},
   "outputs": [],
   "source": [
    "# Importing SparkSesssion \n",
    "from pyspark.sql import SparkSession"
   ]
  },
  {
   "cell_type": "code",
   "execution_count": 4,
   "id": "0292a197",
   "metadata": {},
   "outputs": [],
   "source": [
    "# Create a SparkSession (Entry point of Spark)\n",
    "spark = SparkSession.builder \\\n",
    "    .appName(\"DataCleaning\") \\\n",
    "    .getOrCreate()\n"
   ]
  },
  {
   "cell_type": "code",
   "execution_count": 5,
   "id": "a60d95f1",
   "metadata": {},
   "outputs": [],
   "source": [
    "# Create a Pyspark DataFrame from \n",
    "df = spark.read.csv(r\"D:\\PROJECT\\CSV_Files\\Raw_DataSet.csv\", header=True, inferSchema=True)\n"
   ]
  },
  {
   "cell_type": "code",
   "execution_count": 6,
   "id": "39101d4c",
   "metadata": {
    "scrolled": true
   },
   "outputs": [
    {
     "name": "stdout",
     "output_type": "stream",
     "text": [
      "root\n",
      " |-- State: string (nullable = true)\n",
      " |-- Sex: string (nullable = true)\n",
      " |-- GeneralHealth: string (nullable = true)\n",
      " |-- PhysicalHealthDays: double (nullable = true)\n",
      " |-- MentalHealthDays: double (nullable = true)\n",
      " |-- LastCheckupTime: string (nullable = true)\n",
      " |-- PhysicalActivities: string (nullable = true)\n",
      " |-- SleepHours: double (nullable = true)\n",
      " |-- RemovedTeeth: string (nullable = true)\n",
      " |-- HadHeartAttack: string (nullable = true)\n",
      " |-- HadAngina: string (nullable = true)\n",
      " |-- HadStroke: string (nullable = true)\n",
      " |-- HadAsthma: string (nullable = true)\n",
      " |-- HadSkinCancer: string (nullable = true)\n",
      " |-- HadCOPD: string (nullable = true)\n",
      " |-- HadDepressiveDisorder: string (nullable = true)\n",
      " |-- HadKidneyDisease: string (nullable = true)\n",
      " |-- HadArthritis: string (nullable = true)\n",
      " |-- HadDiabetes: string (nullable = true)\n",
      " |-- DeafOrHardOfHearing: string (nullable = true)\n",
      " |-- BlindOrVisionDifficulty: string (nullable = true)\n",
      " |-- DifficultyConcentrating: string (nullable = true)\n",
      " |-- DifficultyWalking: string (nullable = true)\n",
      " |-- DifficultyDressingBathing: string (nullable = true)\n",
      " |-- DifficultyErrands: string (nullable = true)\n",
      " |-- SmokerStatus: string (nullable = true)\n",
      " |-- ECigaretteUsage: string (nullable = true)\n",
      " |-- ChestScan: string (nullable = true)\n",
      " |-- RaceEthnicityCategory: string (nullable = true)\n",
      " |-- AgeCategory: string (nullable = true)\n",
      " |-- HeightInMeters: double (nullable = true)\n",
      " |-- WeightInKilograms: double (nullable = true)\n",
      " |-- BMI: double (nullable = true)\n",
      " |-- AlcoholDrinkers: string (nullable = true)\n",
      " |-- HIVTesting: string (nullable = true)\n",
      " |-- FluVaxLast12: string (nullable = true)\n",
      " |-- PneumoVaxEver: string (nullable = true)\n",
      " |-- TetanusLast10Tdap: string (nullable = true)\n",
      " |-- HighRiskLastYear: string (nullable = true)\n",
      " |-- CovidPos: string (nullable = true)\n",
      "\n",
      "+-------+------+-------------+------------------+----------------+--------------------+------------------+-----------+--------------------+--------------+---------+---------+---------+-------------+-------+---------------------+----------------+------------+-----------+-------------------+-----------------------+-----------------------+-----------------+-------------------------+-----------------+-------------+--------------------+---------+---------------------+---------------+--------------+-----------------+-----+---------------+----------+------------+-------------+--------------------+----------------+--------+\n",
      "|  State|   Sex|GeneralHealth|PhysicalHealthDays|MentalHealthDays|     LastCheckupTime|PhysicalActivities| SleepHours|        RemovedTeeth|HadHeartAttack|HadAngina|HadStroke|HadAsthma|HadSkinCancer|HadCOPD|HadDepressiveDisorder|HadKidneyDisease|HadArthritis|HadDiabetes|DeafOrHardOfHearing|BlindOrVisionDifficulty|DifficultyConcentrating|DifficultyWalking|DifficultyDressingBathing|DifficultyErrands| SmokerStatus|     ECigaretteUsage|ChestScan|RaceEthnicityCategory|    AgeCategory|HeightInMeters|WeightInKilograms|  BMI|AlcoholDrinkers|HIVTesting|FluVaxLast12|PneumoVaxEver|   TetanusLast10Tdap|HighRiskLastYear|CovidPos|\n",
      "+-------+------+-------------+------------------+----------------+--------------------+------------------+-----------+--------------------+--------------+---------+---------+---------+-------------+-------+---------------------+----------------+------------+-----------+-------------------+-----------------------+-----------------------+-----------------+-------------------------+-----------------+-------------+--------------------+---------+---------------------+---------------+--------------+-----------------+-----+---------------+----------+------------+-------------+--------------------+----------------+--------+\n",
      "|Alabama|Female|    Very good|        3.87164069|             0.0|Within past year ...|               Yes|8.795436938|        None of them|            No|       No|       No|       No|           No|     No|                   No|              No|         Yes|         No|                 No|                     No|                     No|               No|                       No|               No|Former smoker|Never used e-ciga...|       No| White only, Non-H...|   Age 65 to 69|           1.6|            71.67|27.99|             No|        No|         Yes|          Yes|  Yes, received Tdap|              No|      No|\n",
      "|Alabama|  Male|    Very good|               0.0|             0.0|Within past year ...|               Yes|5.275804467|        None of them|            No|       No|       No|       No|           No|     No|                   No|              No|         Yes|        Yes|                 No|                     No|                     No|               No|                       No|               No|Former smoker|Never used e-ciga...|       No| White only, Non-H...|   Age 70 to 74|          1.78|            95.25|30.13|             No|        No|         Yes|          Yes|Yes, received tet...|              No|      No|\n",
      "| Albama|  Male|    Very good|               0.0|            NULL|Within past year ...|                No|6.334422721|6 or more, but no...|            No|       No|       No|       No|           No|     No|                   No|              No|         Yes|         No|                 No|                    Yes|                     No|              Yes|                       No|               No|Former smoker|Never used e-ciga...|      Yes| White only, Non-H...|   Age 75 to 79|          1.85|           108.86|31.66|            Yes|        No|          No|          Yes|No, did not recei...|              No|     Yes|\n",
      "|Alabama|Female|         Fair|       5.559779784|             0.0|Within past year ...|               Yes| 7.33261662|        None of them|            No|       No|       No|       No|          Yes|     No|                  Yes|              No|         Yes|         No|                 No|                     No|                     No|              Yes|                       No|               No| Never smoked|Never used e-ciga...|       No| White only, Non-H...|Age 80 or older|           1.7|            90.72|31.32|             No|        No|         Yes|          Yes|No, did not recei...|              No|     Yes|\n",
      "|Alabama|Female|         Good|       2.553411659|     11.91523838|Within past year ...|               Yes|5.072408628|              1 to 5|            No|       No|       No|       No|           No|     No|                   No|              No|         Yes|         No|                 No|                     No|                     No|               No|                       No|               No| Never smoked|Never used e-ciga...|       No| White only, Non-H...|Age 80 or older|          1.55|            79.38|33.07|             No|        No|         Yes|          Yes|No, did not recei...|              No|      No|\n",
      "+-------+------+-------------+------------------+----------------+--------------------+------------------+-----------+--------------------+--------------+---------+---------+---------+-------------+-------+---------------------+----------------+------------+-----------+-------------------+-----------------------+-----------------------+-----------------+-------------------------+-----------------+-------------+--------------------+---------+---------------------+---------------+--------------+-----------------+-----+---------------+----------+------------+-------------+--------------------+----------------+--------+\n",
      "only showing top 5 rows\n",
      "\n"
     ]
    }
   ],
   "source": [
    "# Printing Schema of Data Frame and Displaying first 5 rows\n",
    "df.printSchema()\n",
    "df.show(5) \n"
   ]
  },
  {
   "cell_type": "code",
   "execution_count": 17,
   "id": "f53d2442",
   "metadata": {
    "scrolled": true
   },
   "outputs": [
    {
     "name": "stdout",
     "output_type": "stream",
     "text": [
      "Count of distinct values in the State column: 59\n",
      "Hawaii\n",
      "Arkansas\n",
      "Connecticut\n",
      "Calfornia\n",
      "Illinois\n",
      "District of Columbia\n",
      "Delaware\n",
      "Alaska\n",
      "Albama\n",
      "Georgia\n",
      "Alabama\n",
      "Arizona\n",
      "Iowa\n",
      "Florida\n",
      "Indiana\n",
      "Idaho\n",
      "Huwaii\n",
      "California\n",
      "Colorado\n",
      "Minnesota\n",
      "Nebraska\n",
      "Nevada\n",
      "Missouri\n",
      "Montana\n",
      "Michigan\n",
      "Kansas\n",
      "Maryland\n",
      "Massachusetts\n",
      "Kentucky\n",
      "Louisiana\n",
      "Mississippi\n",
      "New Hampshire\n",
      "Maine\n",
      "Utah\n",
      "Ohio\n",
      "Oregon\n",
      "Texas\n",
      "North Dakota\n",
      "Pennsylvania\n",
      "Oklahoma\n",
      "New Mexico\n",
      "Rhode Island\n",
      "North Carolina\n",
      "New Jersey\n",
      "Tennessee\n",
      "South Carolina\n",
      "South Dakota\n",
      "New York\n",
      "Vermont\n",
      "Puerto Rico\n",
      "Washington\n",
      "Virgin Islands\n",
      "Vormont\n",
      "West Virginia\n",
      "Virginia\n",
      "Guam\n",
      "Wyoming\n",
      "Wisconsin\n",
      "None\n"
     ]
    }
   ],
   "source": [
    "# Get all distinct values in the State column\n",
    "distinct_states = df.select(\"State\").distinct()\n",
    "\n",
    "# Count the number of distinct values\n",
    "distinct_states_count = distinct_states.count()\n",
    "\n",
    "# Collect the distinct values as a list\n",
    "all_distinct_states = distinct_states.collect()\n",
    "\n",
    "# Print the count of distinct values\n",
    "print(f\"Count of distinct values in the State column: {distinct_states_count}\")\n",
    "\n",
    "# Print all distinct values\n",
    "for state in all_distinct_states:\n",
    "    print(state[\"State\"])\n"
   ]
  },
  {
   "cell_type": "code",
   "execution_count": 19,
   "id": "befe4714",
   "metadata": {
    "scrolled": true
   },
   "outputs": [
    {
     "name": "stdout",
     "output_type": "stream",
     "text": [
      "Count of distinct values in the State column after removing None: 58\n",
      "Distinct states:\n",
      "Hawaii\n",
      "Arkansas\n",
      "Connecticut\n",
      "Calfornia\n",
      "Illinois\n",
      "District of Columbia\n",
      "Delaware\n",
      "Alaska\n",
      "Albama\n",
      "Georgia\n",
      "Alabama\n",
      "Arizona\n",
      "Iowa\n",
      "Florida\n",
      "Indiana\n",
      "Idaho\n",
      "Huwaii\n",
      "California\n",
      "Colorado\n",
      "Minnesota\n",
      "Nebraska\n",
      "Nevada\n",
      "Missouri\n",
      "Montana\n",
      "Michigan\n",
      "Kansas\n",
      "Maryland\n",
      "Massachusetts\n",
      "Kentucky\n",
      "Louisiana\n",
      "Mississippi\n",
      "New Hampshire\n",
      "Maine\n",
      "Utah\n",
      "Ohio\n",
      "Oregon\n",
      "Texas\n",
      "North Dakota\n",
      "Pennsylvania\n",
      "Oklahoma\n",
      "New Mexico\n",
      "Rhode Island\n",
      "North Carolina\n",
      "New Jersey\n",
      "Tennessee\n",
      "South Carolina\n",
      "South Dakota\n",
      "New York\n",
      "Vermont\n",
      "Puerto Rico\n",
      "Washington\n",
      "Virgin Islands\n",
      "Vormont\n",
      "West Virginia\n",
      "Virginia\n",
      "Guam\n",
      "Wyoming\n",
      "Wisconsin\n"
     ]
    }
   ],
   "source": [
    "# Filter out rows where State is None (null)\n",
    "cleaned_df = df.filter(df[\"State\"].isNotNull())\n",
    "\n",
    "# Show the resulting DataFrame\n",
    "# cleaned_df.show()\n",
    "\n",
    "# Get all distinct values in the State column from the cleaned DataFrame\n",
    "distinct_states_cleaned = cleaned_df.select(\"State\").distinct()\n",
    "\n",
    "# Collect the distinct values as a list\n",
    "all_distinct_states_cleaned = distinct_states_cleaned.collect()\n",
    "\n",
    "# Count the number of distinct values\n",
    "distinct_states_count_cleaned = len(all_distinct_states_cleaned)\n",
    "\n",
    "# Print the count of distinct values\n",
    "print(f\"Count of distinct values in the State column after removing None: {distinct_states_count_cleaned}\")\n",
    "\n",
    "# Print all distinct values\n",
    "print(\"Distinct states:\")\n",
    "for state in all_distinct_states_cleaned:\n",
    "    print(state[\"State\"])\n",
    "\n"
   ]
  },
  {
   "cell_type": "code",
   "execution_count": 20,
   "id": "c889e26a",
   "metadata": {
    "scrolled": true
   },
   "outputs": [
    {
     "name": "stdout",
     "output_type": "stream",
     "text": [
      "Count of distinct values in the State column after removing None: 58\n",
      "Hawaii\n",
      "Arkansas\n",
      "Connecticut\n",
      "Calfornia\n",
      "Illinois\n",
      "District of Columbia\n",
      "Delaware\n",
      "Alaska\n",
      "Albama\n",
      "Georgia\n",
      "Alabama\n",
      "Arizona\n",
      "Iowa\n",
      "Florida\n",
      "Indiana\n",
      "Idaho\n",
      "Huwaii\n",
      "California\n",
      "Colorado\n",
      "Minnesota\n",
      "Nebraska\n",
      "Nevada\n",
      "Missouri\n",
      "Montana\n",
      "Michigan\n",
      "Kansas\n",
      "Maryland\n",
      "Massachusetts\n",
      "Kentucky\n",
      "Louisiana\n",
      "Mississippi\n",
      "New Hampshire\n",
      "Maine\n",
      "Utah\n",
      "Ohio\n",
      "Oregon\n",
      "Texas\n",
      "North Dakota\n",
      "Pennsylvania\n",
      "Oklahoma\n",
      "New Mexico\n",
      "Rhode Island\n",
      "North Carolina\n",
      "New Jersey\n",
      "Tennessee\n",
      "South Carolina\n",
      "South Dakota\n",
      "New York\n",
      "Vermont\n",
      "Puerto Rico\n",
      "Washington\n",
      "Virgin Islands\n",
      "Vormont\n",
      "West Virginia\n",
      "Virginia\n",
      "Guam\n",
      "Wyoming\n",
      "Wisconsin\n"
     ]
    }
   ],
   "source": [
    "#Other way out of doing above transforamtions and action\n",
    "\n",
    "# Get distinct values in the State column from the cleaned DataFrame\n",
    "distinct_states_cleaned = cleaned_df.select(\"State\").distinct()\n",
    "\n",
    "# Count the number of distinct values\n",
    "distinct_states_count_cleaned = distinct_states_cleaned.count()\n",
    "\n",
    "# Print the count of distinct values\n",
    "print(f\"Count of distinct values in the State column after removing None: {distinct_states_count_cleaned}\")\n",
    "\n",
    "# Optionally, print all distinct values\n",
    "all_distinct_states_cleaned = distinct_states_cleaned.collect()\n",
    "for state in all_distinct_states_cleaned:\n",
    "    print(state[\"State\"])\n"
   ]
  },
  {
   "cell_type": "code",
   "execution_count": 21,
   "id": "b9972eb5",
   "metadata": {
    "scrolled": true
   },
   "outputs": [
    {
     "name": "stdout",
     "output_type": "stream",
     "text": [
      "+--------------------+\n",
      "|State               |\n",
      "+--------------------+\n",
      "|Hawaii              |\n",
      "|Arkansas            |\n",
      "|Connecticut         |\n",
      "|Illinois            |\n",
      "|District of Columbia|\n",
      "|Delaware            |\n",
      "|Alaska              |\n",
      "|Georgia             |\n",
      "|Alabama             |\n",
      "|Arizona             |\n",
      "|Iowa                |\n",
      "|Florida             |\n",
      "|Indiana             |\n",
      "|Idaho               |\n",
      "|California          |\n",
      "|Colorado            |\n",
      "|Minnesota           |\n",
      "|Nebraska            |\n",
      "|Nevada              |\n",
      "|Missouri            |\n",
      "+--------------------+\n",
      "only showing top 20 rows\n",
      "\n"
     ]
    }
   ],
   "source": [
    "from pyspark.sql.functions import when\n",
    "\n",
    "# Correcting the typos in the State column\n",
    "df_cleaned = df.withColumn(\n",
    "    \"State\",\n",
    "    when(df[\"State\"] == \"Calfornia\", \"California\")\n",
    "    .when(df[\"State\"] == \"Albama\", \"Alabama\")\n",
    "    .when(df[\"State\"] == \"Huwaii\", \"Hawaii\")\n",
    "    .when(df[\"State\"] == \"Vormont\", \"Vermont\")\n",
    "    .otherwise(df[\"State\"])\n",
    ")\n",
    "\n",
    "# Check the distinct values again\n",
    "df_cleaned.select(\"State\").distinct().show(truncate=False)\n"
   ]
  },
  {
   "cell_type": "code",
   "execution_count": 25,
   "id": "2649166a",
   "metadata": {
    "scrolled": true
   },
   "outputs": [
    {
     "name": "stdout",
     "output_type": "stream",
     "text": [
      "+------------------+----------------+\n",
      "|PhysicalHealthDays|MentalHealthDays|\n",
      "+------------------+----------------+\n",
      "|                 4|               0|\n",
      "|                 0|               0|\n",
      "|                 0|            NULL|\n",
      "|                 6|               0|\n",
      "|                 3|              12|\n",
      "|                 0|               0|\n",
      "|                 3|               0|\n",
      "|                 5|               0|\n",
      "|                 2|               0|\n",
      "|                 0|               0|\n",
      "|                 0|               0|\n",
      "|                 3|               5|\n",
      "|                 6|               0|\n",
      "|                 0|               0|\n",
      "|                29|              23|\n",
      "|                 0|              14|\n",
      "|                 0|               0|\n",
      "|                 0|               0|\n",
      "|                 0|               0|\n",
      "|                29|               0|\n",
      "+------------------+----------------+\n",
      "only showing top 20 rows\n",
      "\n"
     ]
    }
   ],
   "source": [
    "from pyspark.sql.functions import col, when, round\n",
    "\n",
    "# Clean, cap, round, and standardize PhysicalHealthDays and MentalHealthDays columns\n",
    "df_cleaned = df.withColumn(\n",
    "    \"PhysicalHealthDays\",\n",
    "    round(\n",
    "        when(col(\"PhysicalHealthDays\") < 0, 0)\n",
    "        .when(col(\"PhysicalHealthDays\") > 30, 30)\n",
    "        .otherwise(col(\"PhysicalHealthDays\"))\n",
    "    ).cast(\"int\")\n",
    ")\n",
    "\n",
    "df_cleaned = df_cleaned.withColumn(\n",
    "    \"MentalHealthDays\",\n",
    "    round(\n",
    "        when(col(\"MentalHealthDays\") < 0, 0)\n",
    "        .when(col(\"MentalHealthDays\") > 30, 30)\n",
    "        .otherwise(col(\"MentalHealthDays\"))\n",
    "    ).cast(\"int\")\n",
    ")\n",
    "\n",
    "# Show the cleaned and standardized columns\n",
    "df_cleaned.select(\"PhysicalHealthDays\", \"MentalHealthDays\").show()\n"
   ]
  },
  {
   "cell_type": "code",
   "execution_count": 27,
   "id": "3fcc76d5",
   "metadata": {
    "scrolled": true
   },
   "outputs": [
    {
     "name": "stdout",
     "output_type": "stream",
     "text": [
      "+----------+\n",
      "|SleepHours|\n",
      "+----------+\n",
      "|         9|\n",
      "|         5|\n",
      "|         6|\n",
      "|         7|\n",
      "|         5|\n",
      "|         7|\n",
      "|         9|\n",
      "|         7|\n",
      "|         6|\n",
      "|         6|\n",
      "|         9|\n",
      "|         4|\n",
      "|         5|\n",
      "|         6|\n",
      "|         6|\n",
      "|         7|\n",
      "|         7|\n",
      "|        11|\n",
      "|         5|\n",
      "|         9|\n",
      "+----------+\n",
      "only showing top 20 rows\n",
      "\n"
     ]
    }
   ],
   "source": [
    "#Sleep_Hours Standardizing\n",
    "df_cleaned = df_cleaned.withColumn(\n",
    "    \"SleepHours\",\n",
    "    round(\n",
    "        when(col(\"SleepHours\") < 0, 0)\n",
    "        .when(col(\"SleepHours\") > 24,24)\n",
    "        .otherwise(col(\"SleepHours\"))\n",
    "    ).cast(\"int\")\n",
    ")\n",
    "\n",
    "# Show the cleaned and standardized columns\n",
    "df_cleaned.select(\"SleepHours\").show()"
   ]
  },
  {
   "cell_type": "code",
   "execution_count": 28,
   "id": "06e4aecb",
   "metadata": {},
   "outputs": [
    {
     "name": "stdout",
     "output_type": "stream",
     "text": [
      "+--------------------+\n",
      "|         HadDiabetes|\n",
      "+--------------------+\n",
      "|No, pre-diabetes ...|\n",
      "|                  No|\n",
      "|                 Yes|\n",
      "|Yes, but only dur...|\n",
      "+--------------------+\n",
      "\n"
     ]
    }
   ],
   "source": [
    "distinct_values = df_cleaned.select(\"HadDiabetes\").distinct()\n",
    "distinct_values.show()\n"
   ]
  },
  {
   "cell_type": "code",
   "execution_count": 29,
   "id": "5ff19edb",
   "metadata": {},
   "outputs": [
    {
     "name": "stdout",
     "output_type": "stream",
     "text": [
      "+--------------------+------+\n",
      "|         HadDiabetes| count|\n",
      "+--------------------+------+\n",
      "|No, pre-diabetes ...|  5551|\n",
      "|                  No|210337|\n",
      "|                 Yes| 34718|\n",
      "|Yes, but only dur...|  2023|\n",
      "+--------------------+------+\n",
      "\n"
     ]
    }
   ],
   "source": [
    "# Group by 'HadDiabetics' column and count occurrences\n",
    "value_counts = df_cleaned.groupBy(\"HadDiabetes\").count()\n",
    "\n",
    "# Show the results\n",
    "value_counts.show()\n"
   ]
  },
  {
   "cell_type": "code",
   "execution_count": 30,
   "id": "484967c0",
   "metadata": {},
   "outputs": [
    {
     "name": "stdout",
     "output_type": "stream",
     "text": [
      "+-----------+------+\n",
      "|HadDiabetes| count|\n",
      "+-----------+------+\n",
      "|         No|210337|\n",
      "|        Yes| 34718|\n",
      "+-----------+------+\n",
      "\n"
     ]
    },
    {
     "data": {
      "text/plain": [
       "2"
      ]
     },
     "execution_count": 30,
     "metadata": {},
     "output_type": "execute_result"
    }
   ],
   "source": [
    "# Filter to keep only \"Yes\" and \"No\"\n",
    "filtered_df = df_cleaned.filter(df_cleaned[\"HadDiabetes\"].isin([\"Yes\", \"No\"]))\n",
    "\n",
    "# Count occurrences of each unique value in the filtered DataFrame\n",
    "value_counts = filtered_df.groupBy(\"HadDiabetes\").count()\n",
    "\n",
    "# Show the results\n",
    "value_counts.show()\n",
    "value_counts.count()"
   ]
  },
  {
   "cell_type": "code",
   "execution_count": 31,
   "id": "25c34ccb",
   "metadata": {},
   "outputs": [
    {
     "name": "stdout",
     "output_type": "stream",
     "text": [
      "Number of duplicate rows: 702\n"
     ]
    }
   ],
   "source": [
    "from pyspark.sql.functions import col, count\n",
    "\n",
    "# Group by all columns and count occurrences\n",
    "duplicates_df = df_cleaned.groupBy(df_cleaned.columns).count().filter(col(\"count\") > 1)\n",
    "\n",
    "# Calculate the total number of duplicate rows\n",
    "duplicate_count = duplicates_df.select(count(\"count\")).collect()[0][0]\n",
    "\n",
    "print(f\"Number of duplicate rows: {duplicate_count}\")\n"
   ]
  },
  {
   "cell_type": "code",
   "execution_count": 32,
   "id": "413f8662",
   "metadata": {},
   "outputs": [
    {
     "name": "stdout",
     "output_type": "stream",
     "text": [
      "+-------+------+-------------+------------------+----------------+--------------------+------------------+----------+--------------------+--------------+---------+---------+---------+-------------+-------+---------------------+----------------+------------+--------------------+-------------------+-----------------------+-----------------------+-----------------+-------------------------+-----------------+--------------------+--------------------+---------+---------------------+---------------+--------------+-----------------+-----+---------------+----------+------------+-------------+--------------------+----------------+--------+\n",
      "|  State|   Sex|GeneralHealth|PhysicalHealthDays|MentalHealthDays|     LastCheckupTime|PhysicalActivities|SleepHours|        RemovedTeeth|HadHeartAttack|HadAngina|HadStroke|HadAsthma|HadSkinCancer|HadCOPD|HadDepressiveDisorder|HadKidneyDisease|HadArthritis|         HadDiabetes|DeafOrHardOfHearing|BlindOrVisionDifficulty|DifficultyConcentrating|DifficultyWalking|DifficultyDressingBathing|DifficultyErrands|        SmokerStatus|     ECigaretteUsage|ChestScan|RaceEthnicityCategory|    AgeCategory|HeightInMeters|WeightInKilograms|  BMI|AlcoholDrinkers|HIVTesting|FluVaxLast12|PneumoVaxEver|   TetanusLast10Tdap|HighRiskLastYear|CovidPos|\n",
      "+-------+------+-------------+------------------+----------------+--------------------+------------------+----------+--------------------+--------------+---------+---------+---------+-------------+-------+---------------------+----------------+------------+--------------------+-------------------+-----------------------+-----------------------+-----------------+-------------------------+-----------------+--------------------+--------------------+---------+---------------------+---------------+--------------+-----------------+-----+---------------+----------+------------+-------------+--------------------+----------------+--------+\n",
      "|Alabama|Female|         Good|        11.0630295|      2.92452719|Within past year ...|                No|        11|6 or more, but no...|            No|       No|       No|       No|           No|     No|                   No|              No|         Yes|                  No|                 No|                     No|                     No|              Yes|                       No|               No|        Never smoked|Never used e-ciga...|       No| Black only, Non-H...|   Age 55 to 59|          1.57|            113.4|45.73|            Yes|        No|         Yes|           No|No, did not recei...|              No|     Yes|\n",
      "|Alabama|  Male|         Good|       5.316929597|             0.0|Within past year ...|               Yes|         8|        None of them|            No|       No|      Yes|       No|           No|     No|                   No|             Yes|          No|                  No|                 No|                     No|                     No|               No|                       No|               No|        Never smoked|Never used e-ciga...|      Yes| White only, Non-H...|   Age 70 to 74|          1.83|           136.08|40.69|             No|        No|         Yes|          Yes|No, did not recei...|              No|      No|\n",
      "|Alabama|  Male|    Very good|               0.0|             0.0| 5 or more years ago|               Yes|         8|        None of them|            No|       No|       No|       No|           No|     No|                   No|              No|          No|                  No|                 No|                     No|                     No|               No|                       No|               No|        Never smoked|Never used e-ciga...|      Yes| White only, Non-H...|   Age 25 to 29|          1.83|            83.01|24.82|             No|        No|          No|           No|Yes, received tet...|              No|      No|\n",
      "|Alabama|  Male|         Poor|       32.71259309|             0.0|Within past year ...|                No|        13|6 or more, but no...|            No|      Yes|      Yes|       No|          Yes|     No|                   No|              No|          No|No, pre-diabetes ...|                 No|                     No|                     No|              Yes|                       No|              Yes|        Never smoked|Never used e-ciga...|      Yes| White only, Non-H...|   Age 75 to 79|          1.73|           115.21|38.62|             No|       Yes|         Yes|          Yes|Yes, received tet...|              No|      No|\n",
      "| Alaska|Female|         Fair|               0.0|     3.001355064|Within past year ...|               Yes|         7|                 All|            No|       No|      Yes|       No|           No|     No|                  Yes|              No|         Yes|                 Yes|                Yes|                     No|                    Yes|               No|                       No|               No|        Never smoked|Never used e-ciga...|      Yes| Other race only, ...|Age 80 or older|          1.52|            72.12|31.05|             No|        No|          No|           No|No, did not recei...|              No|      No|\n",
      "| Alaska|  Male|         Fair|       10.43864688|     30.51289316| 5 or more years ago|               Yes|         8|        None of them|            No|       No|       No|       No|           No|     No|                   No|              No|          No|                  No|                 No|                     No|                     No|               No|                       No|               No|        Never smoked|Not at all (right...|       No| Other race only, ...|   Age 40 to 44|          1.78|            79.38|25.11|             No|        No|          No|           No|Yes, received tet...|              No|      No|\n",
      "| Alaska|Female|    Very good|               0.0|             0.0|Within past 5 yea...|               Yes|         8|        None of them|            No|       No|       No|       No|           No|     No|                   No|              No|          No|                  No|                 No|                     No|                     No|               No|                       No|               No|       Former smoker|Not at all (right...|       No| White only, Non-H...|   Age 45 to 49|          1.57|            81.65|32.92|             No|       Yes|          No|           No|Yes, received tet...|              No|     Yes|\n",
      "| Alaska|  Male|         Good|        3.07680773|             0.0|Within past 2 yea...|               Yes|         9|        None of them|            No|       No|       No|      Yes|           No|     No|                   No|              No|         Yes|                  No|                 No|                     No|                     No|               No|                       No|               No|        Never smoked|Never used e-ciga...|       No| Multiracial, Non-...|   Age 60 to 64|          1.65|            68.04|24.96|            Yes|        No|          No|           No|  Yes, received Tdap|              No|      No|\n",
      "| Alaska|Female|    Very good|       1.782650757|     0.905906367|Within past 2 yea...|               Yes|         8|        None of them|            No|       No|       No|       No|           No|     No|                  Yes|              No|          No|                  No|                 No|                     No|                     No|               No|                       No|               No|        Never smoked|Never used e-ciga...|       No| White only, Non-H...|   Age 55 to 59|           1.6|            61.23|23.91|             No|       Yes|         Yes|           No|  Yes, received Tdap|              No|      No|\n",
      "| Alaska|Female|    Excellent|               0.0|             0.0|Within past year ...|               Yes|         8|        None of them|            No|       No|       No|       No|           No|     No|                   No|              No|          No|                  No|                 No|                     No|                     No|               No|                       No|               No|        Never smoked|Not at all (right...|       No| White only, Non-H...|   Age 18 to 24|          1.63|            58.97|22.31|             No|        No|          No|           No|Yes, received tet...|              No|      No|\n",
      "| Alaska|  Male|    Very good|               0.0|             0.0|Within past 5 yea...|               Yes|         6|        None of them|            No|       No|       No|       No|           No|     No|                   No|              No|         Yes|                  No|                 No|                     No|                     No|               No|                       No|               No|        Never smoked|Never used e-ciga...|       No| White only, Non-H...|   Age 40 to 44|          1.83|            90.72|27.12|            Yes|        No|          No|           No|No, did not recei...|              No|      No|\n",
      "| Alaska|  Male|    Very good|               0.0|             0.0|Within past 2 yea...|               Yes|         6|        None of them|            No|       No|       No|       No|           No|     No|                   No|              No|          No|                  No|                 No|                     No|                     No|               No|                       No|               No|       Former smoker|Never used e-ciga...|       No| White only, Non-H...|   Age 35 to 39|          1.75|            79.38|25.84|            Yes|       Yes|         Yes|          Yes|  Yes, received Tdap|              No|     Yes|\n",
      "| Alaska|  Male|         Good|       20.92461581|             0.0|Within past year ...|               Yes|        10|              1 to 5|            No|       No|       No|       No|           No|     No|                   No|              No|          No|                 Yes|                 No|                     No|                     No|               No|                       No|               No|        Never smoked|Never used e-ciga...|       No| White only, Non-H...|Age 80 or older|          1.88|            74.84|21.18|             No|        No|          No|           No|No, did not recei...|              No|      No|\n",
      "| Alaska|  Male|         Fair|       1.698440655|     9.142370484|Within past year ...|                No|         7|        None of them|            No|       No|       No|      Yes|           No|     No|                  Yes|              No|          No|                  No|                 No|                     No|                     No|               No|                       No|               No|        Never smoked|Never used e-ciga...|      Yes| Other race only, ...|   Age 35 to 39|          1.78|           249.48|78.92|            Yes|       Yes|         Yes|           No|  Yes, received Tdap|              No|      No|\n",
      "| Alaska|  Male|    Very good|               0.0|     0.902569071|Within past year ...|               Yes|         8|        None of them|            No|       No|       No|       No|           No|     No|                   No|              No|          No|                  No|                 No|                     No|                     No|               No|                       No|               No|        Never smoked|Never used e-ciga...|       No| White only, Non-H...|   Age 40 to 44|          1.83|            77.11|23.06|            Yes|       Yes|         Yes|           No|Yes, received tet...|              No|     Yes|\n",
      "| Alaska|Female|         Good|       2.770794352|             0.0|Within past 2 yea...|               Yes|         6|              1 to 5|            No|       No|       No|       No|           No|     No|                   No|              No|         Yes|                  No|                 No|                     No|                     No|               No|                       No|               No|Current smoker - ...|  Use them some days|      Yes| White only, Non-H...|   Age 55 to 59|           1.6|            53.52| 20.9|             No|        No|          No|           No|Yes, received tet...|              No|      No|\n",
      "| Alaska|  Male|    Very good|               0.0|     3.360427953|Within past year ...|                No|         6|              1 to 5|            No|       No|       No|       No|           No|     No|                   No|              No|          No|                  No|                Yes|                     No|                     No|               No|                       No|               No|Current smoker - ...|Never used e-ciga...|      Yes| White only, Non-H...|   Age 50 to 54|          1.83|            86.18|25.77|            Yes|       Yes|          No|           No|  Yes, received Tdap|             Yes|      No|\n",
      "|Arizona|Female|    Very good|               0.0|             0.0|Within past year ...|               Yes|         6|              1 to 5|            No|       No|       No|       No|          Yes|     No|                   No|              No|          No|                  No|                 No|                     No|                     No|               No|                       No|               No|       Former smoker|Never used e-ciga...|      Yes| White only, Non-H...|Age 80 or older|          1.73|            78.47| 26.3|             No|        No|         Yes|           No|  Yes, received Tdap|              No|      No|\n",
      "|Arizona|Female|         Good|               0.0|             0.0|Within past year ...|               Yes|         6|              1 to 5|            No|       No|       No|       No|           No|     No|                   No|              No|         Yes|                 Yes|                 No|                     No|                     No|               No|                       No|               No|        Never smoked|Never used e-ciga...|      Yes| White only, Non-H...|   Age 70 to 74|          1.65|            74.39|27.29|            Yes|        No|         Yes|          Yes|Yes, received tet...|              No|      No|\n",
      "|Arizona|Female|         Good|               0.0|             0.0|Within past year ...|               Yes|         8|                 All|            No|       No|       No|      Yes|           No|     No|                  Yes|              No|         Yes|                  No|                 No|                     No|                     No|               No|                       No|               No|        Never smoked|Never used e-ciga...|       No| White only, Non-H...|   Age 70 to 74|           1.6|            94.35|36.85|             No|        No|          No|          Yes|No, did not recei...|              No|     Yes|\n",
      "+-------+------+-------------+------------------+----------------+--------------------+------------------+----------+--------------------+--------------+---------+---------+---------+-------------+-------+---------------------+----------------+------------+--------------------+-------------------+-----------------------+-----------------------+-----------------+-------------------------+-----------------+--------------------+--------------------+---------+---------------------+---------------+--------------+-----------------+-----+---------------+----------+------------+-------------+--------------------+----------------+--------+\n",
      "only showing top 20 rows\n",
      "\n",
      "Number of rows after dropping duplicates: 251924\n"
     ]
    }
   ],
   "source": [
    "# Drop duplicate rows\n",
    "deduplicated_df = df_cleaned.dropDuplicates()\n",
    "\n",
    "# Optionally, you can check the number of rows in the deduplicated DataFrame\n",
    "deduplicated_count = deduplicated_df.count()\n",
    "\n",
    "# Show the result or save it as needed\n",
    "deduplicated_df.show()\n",
    "print(f\"Number of rows after dropping duplicates: {deduplicated_count}\")"
   ]
  },
  {
   "cell_type": "code",
   "execution_count": 57,
   "id": "a6451065",
   "metadata": {},
   "outputs": [
    {
     "name": "stdout",
     "output_type": "stream",
     "text": [
      "Columns with null values: ['State', 'GeneralHealth', 'MentalHealthDays', 'LastCheckupTime', 'PhysicalActivities', 'RemovedTeeth']\n"
     ]
    }
   ],
   "source": [
    "#Col with null values\n",
    "from pyspark.sql.functions import col, count, when\n",
    "\n",
    "# Count the number of null values for each column\n",
    "null_counts = deduplicated_df.select([\n",
    "    count(when(col(c).isNull(), c)).alias(c) for c in deduplicated_df.columns\n",
    "])\n",
    "\n",
    "# Collect the results into a dictionary\n",
    "null_counts_dict = null_counts.collect()[0].asDict()\n",
    "\n",
    "# Filter columns with null values\n",
    "columns_with_nulls = [col for col, count in null_counts_dict.items() if count > 0]\n",
    "\n",
    "print(\"Columns with null values:\", columns_with_nulls)\n"
   ]
  },
  {
   "cell_type": "code",
   "execution_count": 34,
   "id": "d3455816",
   "metadata": {},
   "outputs": [
    {
     "name": "stdout",
     "output_type": "stream",
     "text": [
      "+--------------+------+-------------+------------------+----------------+--------------------+------------------+----------+--------------------+--------------+---------+---------+---------+-------------+-------+---------------------+----------------+------------+-----------+-------------------+-----------------------+-----------------------+-----------------+-------------------------+-----------------+--------------------+--------------------+---------+---------------------+---------------+--------------+-----------------+-----+---------------+----------+------------+-------------+--------------------+----------------+--------+\n",
      "|         State|   Sex|GeneralHealth|PhysicalHealthDays|MentalHealthDays|     LastCheckupTime|PhysicalActivities|SleepHours|        RemovedTeeth|HadHeartAttack|HadAngina|HadStroke|HadAsthma|HadSkinCancer|HadCOPD|HadDepressiveDisorder|HadKidneyDisease|HadArthritis|HadDiabetes|DeafOrHardOfHearing|BlindOrVisionDifficulty|DifficultyConcentrating|DifficultyWalking|DifficultyDressingBathing|DifficultyErrands|        SmokerStatus|     ECigaretteUsage|ChestScan|RaceEthnicityCategory|    AgeCategory|HeightInMeters|WeightInKilograms|  BMI|AlcoholDrinkers|HIVTesting|FluVaxLast12|PneumoVaxEver|   TetanusLast10Tdap|HighRiskLastYear|CovidPos|\n",
      "+--------------+------+-------------+------------------+----------------+--------------------+------------------+----------+--------------------+--------------+---------+---------+---------+-------------+-------+---------------------+----------------+------------+-----------+-------------------+-----------------------+-----------------------+-----------------+-------------------------+-----------------+--------------------+--------------------+---------+---------------------+---------------+--------------+-----------------+-----+---------------+----------+------------+-------------+--------------------+----------------+--------+\n",
      "|South Carolina|Female|    Very good|               0.0|             0.0| 5 or more years ago|                No|         9|        None of them|            No|       No|       No|       No|           No|     No|                   No|              No|          No|         No|                 No|                     No|                     No|               No|                       No|               No|        Never smoked|Never used e-ciga...|       No| White only, Non-H...|   Age 70 to 74|          1.52|            28.12|12.11|             No|        No|          No|           No|No, did not recei...|              No|      No|\n",
      "|      Nebraska|Female|         Poor|       24.62451374|             0.0|Within past year ...|               Yes|         5|        None of them|            No|       No|       No|       No|           No|     No|                   No|             Yes|         Yes|         No|                Yes|                     No|                     No|              Yes|                       No|              Yes|Current smoker - ...|Never used e-ciga...|      Yes| White only, Non-H...|   Age 75 to 79|          1.52|            29.48|12.69|             No|        No|          No|          Yes|Yes, received tet...|              No|      No|\n",
      "|      Arkansas|Female|         Poor|       30.95261596|     29.44868653|Within past year ...|                No|         7|                 All|            No|       No|       No|       No|           No|    Yes|                   No|              No|          No|        Yes|                Yes|                     No|                     No|              Yes|                       No|               No|        Never smoked|Never used e-ciga...|      Yes| White only, Non-H...|   Age 60 to 64|          1.52|            29.48|12.69|             No|        No|         Yes|          Yes|No, did not recei...|              No|     Yes|\n",
      "|   Puerto Rico|Female|         Fair|       30.10007057|     29.44868653|Within past year ...|                No|         6|6 or more, but no...|            No|       No|       No|       No|           No|     No|                  Yes|              No|         Yes|         No|                 No|                     No|                     No|               No|                       No|               No|       Former smoker|Not at all (right...|      Yes|             Hispanic|   Age 75 to 79|          1.35|            30.39|16.77|             No|        No|         Yes|          Yes|No, did not recei...|              No|      No|\n",
      "| West Virginia|Female|         Good|       23.51244493|             0.0|Within past year ...|               Yes|         8|6 or more, but no...|            No|       No|       No|      Yes|           No|     No|                   No|              No|         Yes|         No|                 No|                     No|                     No|               No|                       No|               No|        Never smoked|Never used e-ciga...|       No| White only, Non-H...|   Age 75 to 79|           1.5|            30.84|13.73|             No|        No|          No|           No|Yes, received tet...|              No|      No|\n",
      "|       Vermont|Female|         Poor|       33.27301854|             0.0|Within past 5 yea...|                No|         9|                 All|            No|       No|       No|       No|           No|    Yes|                   No|              No|          No|         No|                 No|                     No|                     No|              Yes|                       No|              Yes|Current smoker - ...|Never used e-ciga...|      Yes| White only, Non-H...|   Age 65 to 69|          1.57|            30.84|12.44|             No|        No|          No|           No|No, did not recei...|              No|      No|\n",
      "|       Vermont|Female|         Poor|       32.30643114|      3.01139847|Within past 2 yea...|                No|        17|                 All|            No|       No|       No|       No|           No|    Yes|                   No|              No|          No|         No|                 No|                     No|                     No|              Yes|                       No|               No|Current smoker - ...|Never used e-ciga...|      Yes| White only, Non-H...|   Age 60 to 64|           1.6|            30.84|12.05|             No|        No|          No|           No|No, did not recei...|              No|      No|\n",
      "|          Ohio|Female|         Fair|               0.0|             0.0|Within past year ...|                No|         3|                 All|            No|       No|       No|       No|           No|    Yes|                   No|              No|         Yes|         No|                 No|                     No|                     No|              Yes|                       No|               No|Current smoker - ...|Never used e-ciga...|      Yes| White only, Non-H...|   Age 70 to 74|          1.42|            31.75|15.69|             No|       Yes|          No|          Yes|No, did not recei...|              No|      No|\n",
      "| Massachusetts|Female|         Poor|       2.975488656|     30.12160033| 5 or more years ago|                No|         8|                 All|            No|       No|       No|       No|           No|    Yes|                   No|              No|         Yes|         No|                 No|                     No|                     No|               No|                       No|               No|       Former smoker|Never used e-ciga...|       No| White only, Non-H...|Age 80 or older|           1.6|            31.75| 12.4|             No|        No|         Yes|          Yes|No, did not recei...|              No|      No|\n",
      "|          Ohio|Female|    Very good|               0.0|             0.0|Within past year ...|               Yes|         7|        None of them|            No|       No|       No|       No|           No|     No|                   No|              No|          No|         No|                 No|                     No|                     No|               No|                       No|               No|        Never smoked|Never used e-ciga...|      Yes| White only, Non-H...|Age 80 or older|          1.63|            31.75|12.02|             No|        No|         Yes|          Yes|No, did not recei...|              No|      No|\n",
      "|    California|Female|         Fair|       31.10833009|             0.0|Within past year ...|               Yes|         9|6 or more, but no...|            No|       No|       No|       No|           No|     No|                   No|             Yes|         Yes|        Yes|                Yes|                    Yes|                     No|              Yes|                      Yes|               No|        Never smoked|Not at all (right...|       No|             Hispanic|   Age 75 to 79|          1.42|            31.75|15.69|             No|       Yes|         Yes|          Yes|Yes, received tet...|              No|      No|\n",
      "|      New York|Female|         Fair|       6.761283217|             0.0|Within past year ...|               Yes|         6|6 or more, but no...|            No|       No|       No|       No|           No|     No|                   No|              No|         Yes|        Yes|                 No|                     No|                     No|               No|                       No|               No|        Never smoked|Never used e-ciga...|       No| Black only, Non-H...|   Age 75 to 79|          1.27|            31.75|19.69|             No|        No|          No|           No|No, did not recei...|              No|      No|\n",
      "|       Georgia|Female|         Good|       22.94059344|             0.0|Within past year ...|                No|         7|              1 to 5|           Yes|       No|      Yes|       No|           No|    Yes|                   No|             Yes|         Yes|         No|                 No|                     No|                     No|              Yes|                       No|               No|        Never smoked|  Use them every day|       No| White only, Non-H...|   Age 55 to 59|           1.5|            31.75|14.14|             No|        No|         Yes|           No|No, did not recei...|              No|      No|\n",
      "|        Kansas|Female|         Good|       2.744262052|             0.0|Within past year ...|               Yes|         6|              1 to 5|            No|       No|       No|       No|           No|     No|                   No|              No|         Yes|        Yes|                 No|                     No|                     No|               No|                       No|               No|Current smoker - ...|Never used e-ciga...|      Yes| Black only, Non-H...|Age 80 or older|          1.37|            31.75|16.88|            Yes|        No|         Yes|          Yes|No, did not recei...|              No|      No|\n",
      "|       Arizona|  Male|    Very good|       5.292506799|             0.0|Within past 5 yea...|               Yes|         7|        None of them|            No|       No|       No|       No|           No|     No|                   No|              No|          No|         No|                 No|                     No|                     No|               No|                       No|               No|Current smoker - ...|Not at all (right...|       No|             Hispanic|   Age 25 to 29|           1.6|             32.0| 12.5|            Yes|        No|          No|           No|Yes, received tet...|              No|      No|\n",
      "|     Minnesota|Female|         Poor|       32.49687382|     4.739800036|Within past year ...|                No|         7|                 All|            No|       No|      Yes|       No|           No|     No|                   No|             Yes|          No|         No|                 No|                     No|                     No|              Yes|                      Yes|              Yes|Current smoker - ...|Never used e-ciga...|      Yes| White only, Non-H...|   Age 60 to 64|          1.47|            32.21|14.84|             No|        No|          No|           No|No, did not recei...|              No|      No|\n",
      "|       Arizona|Female|    Excellent|               0.0|             0.0| 5 or more years ago|               Yes|         8|        None of them|            No|       No|       No|      Yes|           No|     No|                  Yes|              No|         Yes|         No|                Yes|                    Yes|                     No|               No|                       No|               No|        Never smoked|Never used e-ciga...|       No| Other race only, ...|Age 80 or older|          1.45|            32.21|15.36|             No|        No|          No|           No|Yes, received tet...|              No|      No|\n",
      "|      Illinois|Female|         Fair|       4.348240272|     2.221030433|Within past year ...|               Yes|         6|6 or more, but no...|            No|       No|       No|      Yes|           No|     No|                   No|              No|          No|         No|                 No|                     No|                    Yes|              Yes|                      Yes|              Yes|Current smoker - ...|Never used e-ciga...|      Yes|             Hispanic|   Age 65 to 69|           1.5|            33.57|14.95|            Yes|       Yes|          No|           No|No, did not recei...|              No|      No|\n",
      "|          Ohio|Female|         Poor|        26.1788491|             0.0|Within past 2 yea...|               Yes|        10|                 All|            No|       No|       No|      Yes|           No|    Yes|                   No|              No|         Yes|         No|                 No|                     No|                     No|              Yes|                      Yes|              Yes|       Former smoker|Never used e-ciga...|      Yes| White only, Non-H...|   Age 60 to 64|          1.52|            33.57|14.45|             No|        No|          No|           No|Yes, received tet...|              No|      No|\n",
      "|          Ohio|Female|         Poor|       28.70490573|             0.0|Within past 2 yea...|               Yes|        10|                 All|            No|       No|       No|      Yes|           No|    Yes|                   No|              No|         Yes|         No|                 No|                     No|                     No|              Yes|                      Yes|              Yes|       Former smoker|Never used e-ciga...|      Yes| White only, Non-H...|   Age 60 to 64|          1.52|            33.57|14.45|             No|        No|          No|           No|Yes, received tet...|              No|      No|\n",
      "+--------------+------+-------------+------------------+----------------+--------------------+------------------+----------+--------------------+--------------+---------+---------+---------+-------------+-------+---------------------+----------------+------------+-----------+-------------------+-----------------------+-----------------------+-----------------+-------------------------+-----------------+--------------------+--------------------+---------+---------------------+---------------+--------------+-----------------+-----+---------------+----------+------------+-------------+--------------------+----------------+--------+\n",
      "only showing top 20 rows\n",
      "\n"
     ]
    }
   ],
   "source": [
    "#Forward-Fill NULL values\n",
    "\n",
    "from pyspark.sql import SparkSession\n",
    "from pyspark.sql.functions import col, last, row_number\n",
    "from pyspark.sql.window import Window\n",
    "\n",
    "# Initialize Spark session\n",
    "spark = SparkSession.builder.appName(\"ForwardFillingNullValues\").getOrCreate()\n",
    "\n",
    "# Add an Ordering Column based on Weight\n",
    "ordered_df = deduplicated_df.withColumn(\n",
    "    \"order\", \n",
    "    row_number().over(Window.orderBy(\"WeightInKilograms\"))\n",
    ")\n",
    "\n",
    "# Define the Window Specification for forward-filling\n",
    "window_spec = Window.orderBy(\"order\").rowsBetween(Window.unboundedPreceding, Window.currentRow)\n",
    "\n",
    "# List of columns to forward-fill\n",
    "columns_to_fill = ['State', 'GeneralHealth', 'MentalHealthDays', 'LastCheckupTime', 'PhysicalActivities', 'RemovedTeeth']\n",
    "\n",
    "# Apply Forward-Fill\n",
    "forward_filled_df = ordered_df\n",
    "for column in columns_to_fill:\n",
    "    forward_filled_df = forward_filled_df.withColumn(\n",
    "        column,\n",
    "        last(column, ignorenulls=True).over(window_spec)\n",
    "    )\n",
    "\n",
    "# Drop the ordering column if not needed\n",
    "forward_filled_df = forward_filled_df.drop(\"order\")\n",
    "\n",
    "# Show the resulting DataFrame\n",
    "forward_filled_df.show()\n"
   ]
  },
  {
   "cell_type": "code",
   "execution_count": 35,
   "id": "a76054d6",
   "metadata": {},
   "outputs": [
    {
     "name": "stdout",
     "output_type": "stream",
     "text": [
      "+-----+---+-------------+------------------+----------------+---------------+------------------+----------+------------+--------------+---------+---------+---------+-------------+-------+---------------------+----------------+------------+-----------+-------------------+-----------------------+-----------------------+-----------------+-------------------------+-----------------+------------+---------------+---------+---------------------+-----------+--------------+-----------------+---+---------------+----------+------------+-------------+-----------------+----------------+--------+\n",
      "|State|Sex|GeneralHealth|PhysicalHealthDays|MentalHealthDays|LastCheckupTime|PhysicalActivities|SleepHours|RemovedTeeth|HadHeartAttack|HadAngina|HadStroke|HadAsthma|HadSkinCancer|HadCOPD|HadDepressiveDisorder|HadKidneyDisease|HadArthritis|HadDiabetes|DeafOrHardOfHearing|BlindOrVisionDifficulty|DifficultyConcentrating|DifficultyWalking|DifficultyDressingBathing|DifficultyErrands|SmokerStatus|ECigaretteUsage|ChestScan|RaceEthnicityCategory|AgeCategory|HeightInMeters|WeightInKilograms|BMI|AlcoholDrinkers|HIVTesting|FluVaxLast12|PneumoVaxEver|TetanusLast10Tdap|HighRiskLastYear|CovidPos|\n",
      "+-----+---+-------------+------------------+----------------+---------------+------------------+----------+------------+--------------+---------+---------+---------+-------------+-------+---------------------+----------------+------------+-----------+-------------------+-----------------------+-----------------------+-----------------+-------------------------+-----------------+------------+---------------+---------+---------------------+-----------+--------------+-----------------+---+---------------+----------+------------+-------------+-----------------+----------------+--------+\n",
      "|    0|  0|            0|                 0|               0|              0|                 0|         0|           0|             0|        0|        0|        0|            0|      0|                    0|               0|           0|          0|                  0|                      0|                      0|                0|                        0|                0|           0|              0|        0|                    0|          0|             0|                0|  0|              0|         0|           0|            0|                0|               0|       0|\n",
      "+-----+---+-------------+------------------+----------------+---------------+------------------+----------+------------+--------------+---------+---------+---------+-------------+-------+---------------------+----------------+------------+-----------+-------------------+-----------------------+-----------------------+-----------------+-------------------------+-----------------+------------+---------------+---------+---------------------+-----------+--------------+-----------------+---+---------------+----------+------------+-------------+-----------------+----------------+--------+\n",
      "\n"
     ]
    }
   ],
   "source": [
    "from pyspark.sql.functions import col, count\n",
    "\n",
    "# Check for null values in each column\n",
    "null_counts = forward_filled_df.select([count(when(col(c).isNull(), c)).alias(c) for c in forward_filled_df.columns])\n",
    "\n",
    "# Show the count of null values for each column\n",
    "null_counts.show()\n"
   ]
  },
  {
   "cell_type": "code",
   "execution_count": 36,
   "id": "607dfa43",
   "metadata": {
    "scrolled": true
   },
   "outputs": [
    {
     "name": "stdout",
     "output_type": "stream",
     "text": [
      "+--------------+------+-------------+------------------+----------------+--------------------+------------------+----------+--------------------+--------------+---------+---------+---------+-------------+-------+---------------------+----------------+------------+-----------+-------------------+-----------------------+-----------------------+-----------------+-------------------------+-----------------+--------------------+--------------------+---------+---------------------+------------+--------------+-----------------+-----+---------------+----------+------------+-------------+--------------------+----------------+--------+\n",
      "|         State|   Sex|GeneralHealth|PhysicalHealthDays|MentalHealthDays|     LastCheckupTime|PhysicalActivities|SleepHours|        RemovedTeeth|HadHeartAttack|HadAngina|HadStroke|HadAsthma|HadSkinCancer|HadCOPD|HadDepressiveDisorder|HadKidneyDisease|HadArthritis|HadDiabetes|DeafOrHardOfHearing|BlindOrVisionDifficulty|DifficultyConcentrating|DifficultyWalking|DifficultyDressingBathing|DifficultyErrands|        SmokerStatus|     ECigaretteUsage|ChestScan|RaceEthnicityCategory| AgeCategory|HeightInMeters|WeightInKilograms|  BMI|AlcoholDrinkers|HIVTesting|FluVaxLast12|PneumoVaxEver|   TetanusLast10Tdap|HighRiskLastYear|CovidPos|\n",
      "+--------------+------+-------------+------------------+----------------+--------------------+------------------+----------+--------------------+--------------+---------+---------+---------+-------------+-------+---------------------+----------------+------------+-----------+-------------------+-----------------------+-----------------------+-----------------+-------------------------+-----------------+--------------------+--------------------+---------+---------------------+------------+--------------+-----------------+-----+---------------+----------+------------+-------------+--------------------+----------------+--------+\n",
      "|South Carolina|Female|    Very good|               0.0|             0.0| 5 or more years ago|                No|         9|        None of them|            No|       No|       No|       No|           No|     No|                   No|              No|          No|         No|                 No|                     No|                     No|               No|                       No|               No|        Never smoked|Never used e-ciga...|       No| White only, Non-H...|Age 70 to 74|          1.52|            28.12|12.11|             No|        No|          No|           No|No, did not recei...|              No|      No|\n",
      "|      Nebraska|Female|         Poor|       24.62451374|             0.0|Within past year ...|               Yes|         5|        None of them|            No|       No|       No|       No|           No|     No|                   No|             Yes|         Yes|         No|                Yes|                     No|                     No|              Yes|                       No|              Yes|Current smoker - ...|Never used e-ciga...|      Yes| White only, Non-H...|Age 75 to 79|          1.52|            29.48|12.69|             No|        No|          No|          Yes|Yes, received tet...|              No|      No|\n",
      "|      Arkansas|Female|         Poor|       30.95261596|     29.44868653|Within past year ...|                No|         7|                 All|            No|       No|       No|       No|           No|    Yes|                   No|              No|          No|        Yes|                Yes|                     No|                     No|              Yes|                       No|               No|        Never smoked|Never used e-ciga...|      Yes| White only, Non-H...|Age 60 to 64|          1.52|            29.48|12.69|             No|        No|         Yes|          Yes|No, did not recei...|              No|     Yes|\n",
      "|   Puerto Rico|Female|         Fair|       30.10007057|     29.44868653|Within past year ...|                No|         6|6 or more, but no...|            No|       No|       No|       No|           No|     No|                  Yes|              No|         Yes|         No|                 No|                     No|                     No|               No|                       No|               No|       Former smoker|Not at all (right...|      Yes|             Hispanic|Age 75 to 79|          1.35|            30.39|16.77|             No|        No|         Yes|          Yes|No, did not recei...|              No|      No|\n",
      "| West Virginia|Female|         Good|       23.51244493|             0.0|Within past year ...|               Yes|         8|6 or more, but no...|            No|       No|       No|      Yes|           No|     No|                   No|              No|         Yes|         No|                 No|                     No|                     No|               No|                       No|               No|        Never smoked|Never used e-ciga...|       No| White only, Non-H...|Age 75 to 79|           1.5|            30.84|13.73|             No|        No|          No|           No|Yes, received tet...|              No|      No|\n",
      "+--------------+------+-------------+------------------+----------------+--------------------+------------------+----------+--------------------+--------------+---------+---------+---------+-------------+-------+---------------------+----------------+------------+-----------+-------------------+-----------------------+-----------------------+-----------------+-------------------------+-----------------+--------------------+--------------------+---------+---------------------+------------+--------------+-----------------+-----+---------------+----------+------------+-------------+--------------------+----------------+--------+\n",
      "only showing top 5 rows\n",
      "\n"
     ]
    }
   ],
   "source": [
    "# Display the first 5 rows of the DataFrame\n",
    "forward_filled_df.show(5)\n"
   ]
  },
  {
   "cell_type": "code",
   "execution_count": null,
   "id": "1ec523b5",
   "metadata": {},
   "outputs": [],
   "source": []
  },
  {
   "cell_type": "code",
   "execution_count": 37,
   "id": "d3987ea8",
   "metadata": {},
   "outputs": [],
   "source": [
    "pd_save = forward_filled_df.toPandas()"
   ]
  },
  {
   "cell_type": "code",
   "execution_count": 38,
   "id": "28a33da2",
   "metadata": {
    "collapsed": true
   },
   "outputs": [
    {
     "name": "stdout",
     "output_type": "stream",
     "text": [
      "File saved successfully to D:/PROJECT/CSV_Files\\preprocessed_dataset(complete).csv\n"
     ]
    }
   ],
   "source": [
    "import os\n",
    "import pandas as pd\n",
    "\n",
    "# Directory path\n",
    "directory = 'D:/PROJECT/CSV_Files'\n",
    "\n",
    "# Ensure the directory exists\n",
    "if not os.path.exists(directory):\n",
    "    os.makedirs(directory)\n",
    "\n",
    "# Save to CSV\n",
    "file_path = os.path.join(directory, 'preprocessed_dataset(complete).csv')\n",
    "pd_save.to_csv(file_path, index=False)\n",
    "\n",
    "print(f\"File saved successfully to {file_path}\")\n",
    "\n",
    "# # Save to Excel (requires openpyxl or xlsxwriter)\n",
    "# pandas_df.to_excel(output_path, index=False)\n",
    "\n",
    "# # Save to Parquet\n",
    "# pandas_df.to_parquet(output_path, index=False)\n"
   ]
  },
  {
   "cell_type": "code",
   "execution_count": null,
   "id": "507d4447",
   "metadata": {},
   "outputs": [],
   "source": []
  }
 ],
 "metadata": {
  "kernelspec": {
   "display_name": "Python 3 (ipykernel)",
   "language": "python",
   "name": "python3"
  },
  "language_info": {
   "codemirror_mode": {
    "name": "ipython",
    "version": 3
   },
   "file_extension": ".py",
   "mimetype": "text/x-python",
   "name": "python",
   "nbconvert_exporter": "python",
   "pygments_lexer": "ipython3",
   "version": "3.11.5"
  }
 },
 "nbformat": 4,
 "nbformat_minor": 5
}
