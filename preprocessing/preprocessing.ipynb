{
 "cells": [
  {
   "cell_type": "code",
   "execution_count": 1,
   "id": "cb9f6d09-9218-4450-9ef4-a6325c4e2cb9",
   "metadata": {},
   "outputs": [],
   "source": [
    "from pyspark.sql import SparkSession"
   ]
  },
  {
   "cell_type": "code",
   "execution_count": 2,
   "id": "41783976-267d-468c-ae24-feecc9dc2df8",
   "metadata": {},
   "outputs": [],
   "source": [
    "spark = SparkSession.builder \\\n",
    "    .appName(\"DataCleaning\") \\\n",
    "    .getOrCreate()\n"
   ]
  },
  {
   "cell_type": "code",
   "execution_count": 3,
   "id": "357ef827-79c9-49f9-b709-d5b4a06e4515",
   "metadata": {},
   "outputs": [],
   "source": [
    "df = spark.read.csv(r\"C:\\Users\\muham\\Downloads\\final csv uncleaned.csv\", header=True, inferSchema=True)\n"
   ]
  },
  {
   "cell_type": "code",
   "execution_count": 4,
   "id": "d2243099-2216-41ef-8ba9-9181872a36f6",
   "metadata": {},
   "outputs": [
    {
     "name": "stdout",
     "output_type": "stream",
     "text": [
      "root\n",
      " |-- State: string (nullable = true)\n",
      " |-- Sex: string (nullable = true)\n",
      " |-- GeneralHealth: string (nullable = true)\n",
      " |-- PhysicalHealthDays: double (nullable = true)\n",
      " |-- MentalHealthDays: double (nullable = true)\n",
      " |-- LastCheckupTime: string (nullable = true)\n",
      " |-- PhysicalActivities: string (nullable = true)\n",
      " |-- SleepHours: double (nullable = true)\n",
      " |-- RemovedTeeth: string (nullable = true)\n",
      " |-- HadHeartAttack: string (nullable = true)\n",
      " |-- HadAngina: string (nullable = true)\n",
      " |-- HadStroke: string (nullable = true)\n",
      " |-- HadAsthma: string (nullable = true)\n",
      " |-- HadSkinCancer: string (nullable = true)\n",
      " |-- HadCOPD: string (nullable = true)\n",
      " |-- HadDepressiveDisorder: string (nullable = true)\n",
      " |-- HadKidneyDisease: string (nullable = true)\n",
      " |-- HadArthritis: string (nullable = true)\n",
      " |-- HadDiabetes: string (nullable = true)\n",
      " |-- DeafOrHardOfHearing: string (nullable = true)\n",
      " |-- BlindOrVisionDifficulty: string (nullable = true)\n",
      " |-- DifficultyConcentrating: string (nullable = true)\n",
      " |-- DifficultyWalking: string (nullable = true)\n",
      " |-- DifficultyDressingBathing: string (nullable = true)\n",
      " |-- DifficultyErrands: string (nullable = true)\n",
      " |-- SmokerStatus: string (nullable = true)\n",
      " |-- ECigaretteUsage: string (nullable = true)\n",
      " |-- ChestScan: string (nullable = true)\n",
      " |-- RaceEthnicityCategory: string (nullable = true)\n",
      " |-- AgeCategory: string (nullable = true)\n",
      " |-- HeightInMeters: double (nullable = true)\n",
      " |-- WeightInKilograms: double (nullable = true)\n",
      " |-- BMI: double (nullable = true)\n",
      " |-- AlcoholDrinkers: string (nullable = true)\n",
      " |-- HIVTesting: string (nullable = true)\n",
      " |-- FluVaxLast12: string (nullable = true)\n",
      " |-- PneumoVaxEver: string (nullable = true)\n",
      " |-- TetanusLast10Tdap: string (nullable = true)\n",
      " |-- HighRiskLastYear: string (nullable = true)\n",
      " |-- CovidPos: string (nullable = true)\n",
      "\n",
      "+-------+------+-------------+------------------+----------------+--------------------+------------------+-----------+--------------------+--------------+---------+---------+---------+-------------+-------+---------------------+----------------+------------+-----------+-------------------+-----------------------+-----------------------+-----------------+-------------------------+-----------------+--------------------+--------------------+---------+---------------------+---------------+--------------+-----------------+-----+---------------+----------+------------+-------------+--------------------+----------------+--------+\n",
      "|  State|   Sex|GeneralHealth|PhysicalHealthDays|MentalHealthDays|     LastCheckupTime|PhysicalActivities| SleepHours|        RemovedTeeth|HadHeartAttack|HadAngina|HadStroke|HadAsthma|HadSkinCancer|HadCOPD|HadDepressiveDisorder|HadKidneyDisease|HadArthritis|HadDiabetes|DeafOrHardOfHearing|BlindOrVisionDifficulty|DifficultyConcentrating|DifficultyWalking|DifficultyDressingBathing|DifficultyErrands|        SmokerStatus|     ECigaretteUsage|ChestScan|RaceEthnicityCategory|    AgeCategory|HeightInMeters|WeightInKilograms|  BMI|AlcoholDrinkers|HIVTesting|FluVaxLast12|PneumoVaxEver|   TetanusLast10Tdap|HighRiskLastYear|CovidPos|\n",
      "+-------+------+-------------+------------------+----------------+--------------------+------------------+-----------+--------------------+--------------+---------+---------+---------+-------------+-------+---------------------+----------------+------------+-----------+-------------------+-----------------------+-----------------------+-----------------+-------------------------+-----------------+--------------------+--------------------+---------+---------------------+---------------+--------------+-----------------+-----+---------------+----------+------------+-------------+--------------------+----------------+--------+\n",
      "|Alabama|Female|    Very good|        3.87164069|             0.0|Within past year ...|               Yes|8.795436938|        None of them|            No|       No|       No|       No|           No|     No|                   No|              No|         Yes|         No|                 No|                     No|                     No|               No|                       No|               No|       Former smoker|Never used e-ciga...|       No| White only, Non-H...|   Age 65 to 69|           1.6|            71.67|27.99|             No|        No|         Yes|          Yes|  Yes, received Tdap|              No|      No|\n",
      "|Alabama|  Male|    Very good|               0.0|             0.0|Within past year ...|               Yes|5.275804467|        None of them|            No|       No|       No|       No|           No|     No|                   No|              No|         Yes|        Yes|                 No|                     No|                     No|               No|                       No|               No|       Former smoker|Never used e-ciga...|       No| White only, Non-H...|   Age 70 to 74|          1.78|            95.25|30.13|             No|        No|         Yes|          Yes|Yes, received tet...|              No|      No|\n",
      "| Albama|  Male|    Very good|               0.0|            NULL|Within past year ...|                No|6.334422721|6 or more, but no...|            No|       No|       No|       No|           No|     No|                   No|              No|         Yes|         No|                 No|                    Yes|                     No|              Yes|                       No|               No|       Former smoker|Never used e-ciga...|      Yes| White only, Non-H...|   Age 75 to 79|          1.85|           108.86|31.66|            Yes|        No|          No|          Yes|No, did not recei...|              No|     Yes|\n",
      "|Alabama|Female|         Fair|       5.559779784|             0.0|Within past year ...|               Yes| 7.33261662|        None of them|            No|       No|       No|       No|          Yes|     No|                  Yes|              No|         Yes|         No|                 No|                     No|                     No|              Yes|                       No|               No|        Never smoked|Never used e-ciga...|       No| White only, Non-H...|Age 80 or older|           1.7|            90.72|31.32|             No|        No|         Yes|          Yes|No, did not recei...|              No|     Yes|\n",
      "|Alabama|Female|         Good|       2.553411659|     11.91523838|Within past year ...|               Yes|5.072408628|              1 to 5|            No|       No|       No|       No|           No|     No|                   No|              No|         Yes|         No|                 No|                     No|                     No|               No|                       No|               No|        Never smoked|Never used e-ciga...|       No| White only, Non-H...|Age 80 or older|          1.55|            79.38|33.07|             No|        No|         Yes|          Yes|No, did not recei...|              No|      No|\n",
      "|Alabama|  Male|         Good|               0.0|             0.0|Within past year ...|               Yes|7.395749138|        None of them|            No|       No|       No|       No|           No|     No|                   No|              No|          No|         No|                 No|                     No|                     No|               No|                       No|               No|        Never smoked|Never used e-ciga...|      Yes| White only, Non-H...|   Age 50 to 54|          1.85|            120.2|34.96|            Yes|       Yes|         Yes|           No|Yes, received tet...|              No|      No|\n",
      "|Alabama|Female|         Good|       2.943743997|             0.0|Within past year ...|               Yes|8.525055259|6 or more, but no...|            No|       No|      Yes|       No|           No|     No|                   No|              No|          No|        Yes|                 No|                     No|                     No|               No|                       No|               No|        Never smoked|Never used e-ciga...|      Yes| Black only, Non-H...|Age 80 or older|          1.63|             88.0| 33.3|             No|        No|         Yes|          Yes|No, did not recei...|              No|      No|\n",
      "|   NULL|  Male|         Fair|       5.306235546|             0.0|Within past year ...|               Yes|7.110996683|              1 to 5|           Yes|      Yes|       No|       No|          Yes|     No|                   No|              No|         Yes|        Yes|                 No|                     No|                     No|               No|                       No|               No|        Never smoked|Never used e-ciga...|      Yes| White only, Non-H...|   Age 75 to 79|          1.75|            74.84|24.37|             No|       Yes|         Yes|          Yes|No, did not recei...|              No|     Yes|\n",
      "|Alabama|  Male|         Good|       1.950635385|             0.0| 5 or more years ago|                No|6.430666831|        None of them|            No|       No|       No|       No|           No|     No|                   No|              No|         Yes|         No|                Yes|                     No|                     No|               No|                       No|               No|       Former smoker|Never used e-ciga...|      Yes| White only, Non-H...|   Age 40 to 44|           1.7|            78.02|26.94|             No|        No|          No|           No|No, did not recei...|              No|     Yes|\n",
      "|Alabama|Female|    Very good|               0.0|             0.0|Within past year ...|               Yes|5.801939167|        None of them|            No|       No|       No|      Yes|          Yes|     No|                   No|              No|         Yes|         No|                 No|                     No|                     No|               No|                       No|               No|       Former smoker|Never used e-ciga...|      Yes| White only, Non-H...|   Age 75 to 79|          1.68|             63.5| 22.6|             No|        No|         Yes|          Yes|No, did not recei...|              No|      No|\n",
      "|Alabama|  Male|    Very good|               0.0|             0.0|                NULL|               Yes|8.695583486|              1 to 5|            No|       No|       No|       No|           No|     No|                   No|              No|          No|         No|                 No|                     No|                     No|               No|                       No|               No|        Never smoked|Never used e-ciga...|      Yes| White only, Non-H...|Age 80 or older|          1.83|           122.47|36.62|            Yes|        No|         Yes|          Yes|  Yes, received Tdap|              No|      No|\n",
      "|Alabama|Female|         NULL|       3.181993152|     4.564655244|Within past year ...|               Yes|4.287274834|        None of them|            No|       No|       No|       No|           No|     No|                   No|              No|         Yes|        Yes|                 No|                     No|                     No|              Yes|                       No|               No|        Never smoked|Never used e-ciga...|       No| White only, Non-H...|   Age 60 to 64|          1.52|           108.86|46.87|             No|        No|          No|           No|Yes, received tet...|              No|     Yes|\n",
      "|Alabama|  Male|         Good|       5.722332305|             0.0|Within past year ...|               Yes|5.371884256|6 or more, but no...|           Yes|       No|       No|       No|          Yes|     No|                   No|              No|         Yes|         No|                 No|                     No|                    Yes|              Yes|                       No|               No|Current smoker - ...|  Use them some days|      Yes| White only, Non-H...|   Age 60 to 64|          1.88|           115.67|32.74|             No|        No|         Yes|          Yes|Yes, received tet...|              No|      No|\n",
      "|Alabama|Female|         Good|               0.0|             0.0|Within past year ...|                No|6.094052525|              1 to 5|            No|       No|       No|       No|           No|     No|                   No|              No|          No|         No|                 No|                     No|                     No|               No|                       No|               No|       Former smoker|Never used e-ciga...|       No| White only, Non-H...|   Age 60 to 64|          1.52|            81.65|35.15|             No|        No|          No|           No|  Yes, received Tdap|              No|      No|\n",
      "| Albama|  Male|         Fair|       29.13116009|     22.65216877|Within past year ...|                No|5.532126549|6 or more, but no...|            No|      Yes|       No|       No|           No|     No|                  Yes|             Yes|         Yes|         No|                Yes|                     No|                    Yes|              Yes|                      Yes|               No|        Never smoked|Never used e-ciga...|      Yes| White only, Non-H...|   Age 70 to 74|          1.78|            86.18|27.26|             No|        No|         Yes|           No|No, did not recei...|              No|     Yes|\n",
      "|Alabama|Female|         Good|               0.0|     14.49117041|Within past year ...|               Yes|6.690710909|                 All|            No|       No|       No|       No|           No|     No|                  Yes|              No|          No|        Yes|                 No|                     No|                     No|               No|                       No|               No|       Former smoker|Never used e-ciga...|      Yes| White only, Non-H...|Age 80 or older|           1.5|             63.5|28.28|             No|        No|         Yes|          Yes|No, did not recei...|              No|     Yes|\n",
      "|Alabama|Female|         Good|               0.0|             0.0|Within past year ...|               Yes|6.858825023|                 All|            No|       No|       No|      Yes|           No|     No|                   No|              No|          No|         No|                 No|                     No|                     No|               No|                       No|               No|Current smoker - ...|Never used e-ciga...|      Yes| White only, Non-H...|   Age 65 to 69|          1.73|             76.2|25.54|             No|        No|         Yes|          Yes|  Yes, received Tdap|              No|      No|\n",
      "|Alabama|Female|         Good|               0.0|             0.0|Within past year ...|                No|10.72279247|                 All|            No|       No|       No|       No|           No|     No|                   No|              No|          No|         No|                 No|                     No|                     No|              Yes|                       No|               No|Current smoker - ...|Never used e-ciga...|      Yes| White only, Non-H...|   Age 70 to 74|          1.65|            54.88|20.14|            Yes|        No|         Yes|          Yes|No, did not recei...|              No|      No|\n",
      "|Alabama|Female|    Excellent|               0.0|             0.0|Within past year ...|               Yes|5.044732343|6 or more, but no...|            No|       No|      Yes|       No|           No|     No|                   No|              No|          No|        Yes|                 No|                     No|                     No|               No|                       No|               No|        Never smoked|Never used e-ciga...|       No| Black only, Non-H...|   Age 60 to 64|           1.7|            72.57|25.06|             No|        No|         Yes|           No|No, did not recei...|              No|      No|\n",
      "|Alabama|  Male|         Poor|       29.19922522|             0.0|Within past year ...|                No|8.911559558|              1 to 5|            No|       No|       No|       No|          Yes|     No|                   No|             Yes|         Yes|         No|                 No|                     No|                    Yes|              Yes|                      Yes|              Yes|       Former smoker|Never used e-ciga...|       No| White only, Non-H...|Age 80 or older|           1.8|            88.45| 27.2|             No|        No|         Yes|           No|No, did not recei...|              No|      No|\n",
      "+-------+------+-------------+------------------+----------------+--------------------+------------------+-----------+--------------------+--------------+---------+---------+---------+-------------+-------+---------------------+----------------+------------+-----------+-------------------+-----------------------+-----------------------+-----------------+-------------------------+-----------------+--------------------+--------------------+---------+---------------------+---------------+--------------+-----------------+-----+---------------+----------+------------+-------------+--------------------+----------------+--------+\n",
      "only showing top 20 rows\n",
      "\n"
     ]
    }
   ],
   "source": [
    "df.printSchema()\n",
    "df.show() \n"
   ]
  },
  {
   "cell_type": "code",
   "execution_count": 5,
   "id": "a331986f-ff56-4023-acb3-7cf874e94f32",
   "metadata": {},
   "outputs": [
    {
     "name": "stdout",
     "output_type": "stream",
     "text": [
      "+--------------------+\n",
      "|state               |\n",
      "+--------------------+\n",
      "|Arkansas            |\n",
      "|Connecticut         |\n",
      "|Calfornia           |\n",
      "|District of Columbia|\n",
      "|Delaware            |\n",
      "|Alaska              |\n",
      "|Albama              |\n",
      "|Alabama             |\n",
      "|Arizona             |\n",
      "|Florida             |\n",
      "|California          |\n",
      "|Colorado            |\n",
      "|Hawaii              |\n",
      "|Illinois            |\n",
      "|Georgia             |\n",
      "|Iowa                |\n",
      "|Indiana             |\n",
      "|Idaho               |\n",
      "|Huwaii              |\n",
      "|Kansas              |\n",
      "+--------------------+\n",
      "only showing top 20 rows\n",
      "\n"
     ]
    }
   ],
   "source": [
    "# Get distinct values in the State column\n",
    "distinct_states = df.select(\"state\").distinct()\n",
    "\n",
    "# Show the distinct values\n",
    "distinct_states.show(truncate=False)\n"
   ]
  },
  {
   "cell_type": "code",
   "execution_count": 6,
   "id": "0a692d12-c8cf-4d4b-9d25-cbf2400dc4ea",
   "metadata": {},
   "outputs": [
    {
     "name": "stdout",
     "output_type": "stream",
     "text": [
      "Arkansas\n",
      "Connecticut\n",
      "Calfornia\n",
      "District of Columbia\n",
      "Delaware\n",
      "Alaska\n",
      "Albama\n",
      "Alabama\n",
      "Arizona\n",
      "Florida\n",
      "California\n",
      "Colorado\n",
      "Hawaii\n",
      "Illinois\n",
      "Georgia\n",
      "Iowa\n",
      "Indiana\n",
      "Idaho\n",
      "Huwaii\n",
      "Kansas\n",
      "Maryland\n",
      "Massachusetts\n",
      "Kentucky\n",
      "Louisiana\n",
      "Maine\n",
      "Minnesota\n",
      "Nebraska\n",
      "Nevada\n",
      "Missouri\n",
      "Montana\n",
      "Michigan\n",
      "Mississippi\n",
      "New Hampshire\n",
      "Ohio\n",
      "North Dakota\n",
      "New Mexico\n",
      "North Carolina\n",
      "New Jersey\n",
      "New York\n",
      "Utah\n",
      "Oregon\n",
      "Texas\n",
      "Pennsylvania\n",
      "Oklahoma\n",
      "Rhode Island\n",
      "Tennessee\n",
      "South Carolina\n",
      "South Dakota\n",
      "Vermont\n",
      "Washington\n",
      "Vormont\n",
      "West Virginia\n",
      "Virginia\n",
      "Wisconsin\n",
      "Puerto Rico\n",
      "Virgin Islands\n",
      "Guam\n",
      "Wyoming\n",
      "None\n"
     ]
    }
   ],
   "source": [
    "# Get all distinct values in the State column\n",
    "distinct_states = df.select(\"state\").distinct()\n",
    "\n",
    "# Collect the distinct values as a list\n",
    "all_distinct_states = distinct_states.collect()\n",
    "\n",
    "# Print all distinct values\n",
    "for state in all_distinct_states:\n",
    "    print(state[\"state\"])\n"
   ]
  },
  {
   "cell_type": "code",
   "execution_count": 7,
   "id": "613d774d-e899-4561-bd29-f73bc60eb99e",
   "metadata": {},
   "outputs": [
    {
     "name": "stdout",
     "output_type": "stream",
     "text": [
      "Count of distinct values in the State column: 59\n",
      "Arkansas\n",
      "Connecticut\n",
      "Calfornia\n",
      "District of Columbia\n",
      "Delaware\n",
      "Alaska\n",
      "Albama\n",
      "Alabama\n",
      "Arizona\n",
      "Florida\n",
      "California\n",
      "Colorado\n",
      "Hawaii\n",
      "Illinois\n",
      "Georgia\n",
      "Iowa\n",
      "Indiana\n",
      "Idaho\n",
      "Huwaii\n",
      "Kansas\n",
      "Maryland\n",
      "Massachusetts\n",
      "Kentucky\n",
      "Louisiana\n",
      "Maine\n",
      "Minnesota\n",
      "Nebraska\n",
      "Nevada\n",
      "Missouri\n",
      "Montana\n",
      "Michigan\n",
      "Mississippi\n",
      "New Hampshire\n",
      "Ohio\n",
      "North Dakota\n",
      "New Mexico\n",
      "North Carolina\n",
      "New Jersey\n",
      "New York\n",
      "Utah\n",
      "Oregon\n",
      "Texas\n",
      "Pennsylvania\n",
      "Oklahoma\n",
      "Rhode Island\n",
      "Tennessee\n",
      "South Carolina\n",
      "South Dakota\n",
      "Vermont\n",
      "Washington\n",
      "Vormont\n",
      "West Virginia\n",
      "Virginia\n",
      "Wisconsin\n",
      "Puerto Rico\n",
      "Virgin Islands\n",
      "Guam\n",
      "Wyoming\n",
      "None\n"
     ]
    }
   ],
   "source": [
    "# Get all distinct values in the State column\n",
    "distinct_states = df.select(\"State\").distinct()\n",
    "\n",
    "# Count the number of distinct values\n",
    "distinct_states_count = distinct_states.count()\n",
    "\n",
    "# Collect the distinct values as a list\n",
    "all_distinct_states = distinct_states.collect()\n",
    "\n",
    "# Print the count of distinct values\n",
    "print(f\"Count of distinct values in the State column: {distinct_states_count}\")\n",
    "\n",
    "# Print all distinct values\n",
    "for state in all_distinct_states:\n",
    "    print(state[\"State\"])\n"
   ]
  },
  {
   "cell_type": "code",
   "execution_count": 8,
   "id": "605bb04d-acd2-4eb8-95ee-6b1a275647d6",
   "metadata": {},
   "outputs": [
    {
     "name": "stdout",
     "output_type": "stream",
     "text": [
      "+-------+------+-------------+------------------+----------------+--------------------+------------------+-----------+--------------------+--------------+---------+---------+---------+-------------+-------+---------------------+----------------+------------+-----------+-------------------+-----------------------+-----------------------+-----------------+-------------------------+-----------------+--------------------+--------------------+---------+---------------------+---------------+--------------+-----------------+-----+---------------+----------+------------+-------------+--------------------+----------------+--------+\n",
      "|  State|   Sex|GeneralHealth|PhysicalHealthDays|MentalHealthDays|     LastCheckupTime|PhysicalActivities| SleepHours|        RemovedTeeth|HadHeartAttack|HadAngina|HadStroke|HadAsthma|HadSkinCancer|HadCOPD|HadDepressiveDisorder|HadKidneyDisease|HadArthritis|HadDiabetes|DeafOrHardOfHearing|BlindOrVisionDifficulty|DifficultyConcentrating|DifficultyWalking|DifficultyDressingBathing|DifficultyErrands|        SmokerStatus|     ECigaretteUsage|ChestScan|RaceEthnicityCategory|    AgeCategory|HeightInMeters|WeightInKilograms|  BMI|AlcoholDrinkers|HIVTesting|FluVaxLast12|PneumoVaxEver|   TetanusLast10Tdap|HighRiskLastYear|CovidPos|\n",
      "+-------+------+-------------+------------------+----------------+--------------------+------------------+-----------+--------------------+--------------+---------+---------+---------+-------------+-------+---------------------+----------------+------------+-----------+-------------------+-----------------------+-----------------------+-----------------+-------------------------+-----------------+--------------------+--------------------+---------+---------------------+---------------+--------------+-----------------+-----+---------------+----------+------------+-------------+--------------------+----------------+--------+\n",
      "|Alabama|Female|    Very good|        3.87164069|             0.0|Within past year ...|               Yes|8.795436938|        None of them|            No|       No|       No|       No|           No|     No|                   No|              No|         Yes|         No|                 No|                     No|                     No|               No|                       No|               No|       Former smoker|Never used e-ciga...|       No| White only, Non-H...|   Age 65 to 69|           1.6|            71.67|27.99|             No|        No|         Yes|          Yes|  Yes, received Tdap|              No|      No|\n",
      "|Alabama|  Male|    Very good|               0.0|             0.0|Within past year ...|               Yes|5.275804467|        None of them|            No|       No|       No|       No|           No|     No|                   No|              No|         Yes|        Yes|                 No|                     No|                     No|               No|                       No|               No|       Former smoker|Never used e-ciga...|       No| White only, Non-H...|   Age 70 to 74|          1.78|            95.25|30.13|             No|        No|         Yes|          Yes|Yes, received tet...|              No|      No|\n",
      "| Albama|  Male|    Very good|               0.0|            NULL|Within past year ...|                No|6.334422721|6 or more, but no...|            No|       No|       No|       No|           No|     No|                   No|              No|         Yes|         No|                 No|                    Yes|                     No|              Yes|                       No|               No|       Former smoker|Never used e-ciga...|      Yes| White only, Non-H...|   Age 75 to 79|          1.85|           108.86|31.66|            Yes|        No|          No|          Yes|No, did not recei...|              No|     Yes|\n",
      "|Alabama|Female|         Fair|       5.559779784|             0.0|Within past year ...|               Yes| 7.33261662|        None of them|            No|       No|       No|       No|          Yes|     No|                  Yes|              No|         Yes|         No|                 No|                     No|                     No|              Yes|                       No|               No|        Never smoked|Never used e-ciga...|       No| White only, Non-H...|Age 80 or older|           1.7|            90.72|31.32|             No|        No|         Yes|          Yes|No, did not recei...|              No|     Yes|\n",
      "|Alabama|Female|         Good|       2.553411659|     11.91523838|Within past year ...|               Yes|5.072408628|              1 to 5|            No|       No|       No|       No|           No|     No|                   No|              No|         Yes|         No|                 No|                     No|                     No|               No|                       No|               No|        Never smoked|Never used e-ciga...|       No| White only, Non-H...|Age 80 or older|          1.55|            79.38|33.07|             No|        No|         Yes|          Yes|No, did not recei...|              No|      No|\n",
      "|Alabama|  Male|         Good|               0.0|             0.0|Within past year ...|               Yes|7.395749138|        None of them|            No|       No|       No|       No|           No|     No|                   No|              No|          No|         No|                 No|                     No|                     No|               No|                       No|               No|        Never smoked|Never used e-ciga...|      Yes| White only, Non-H...|   Age 50 to 54|          1.85|            120.2|34.96|            Yes|       Yes|         Yes|           No|Yes, received tet...|              No|      No|\n",
      "|Alabama|Female|         Good|       2.943743997|             0.0|Within past year ...|               Yes|8.525055259|6 or more, but no...|            No|       No|      Yes|       No|           No|     No|                   No|              No|          No|        Yes|                 No|                     No|                     No|               No|                       No|               No|        Never smoked|Never used e-ciga...|      Yes| Black only, Non-H...|Age 80 or older|          1.63|             88.0| 33.3|             No|        No|         Yes|          Yes|No, did not recei...|              No|      No|\n",
      "|Alabama|  Male|         Good|       1.950635385|             0.0| 5 or more years ago|                No|6.430666831|        None of them|            No|       No|       No|       No|           No|     No|                   No|              No|         Yes|         No|                Yes|                     No|                     No|               No|                       No|               No|       Former smoker|Never used e-ciga...|      Yes| White only, Non-H...|   Age 40 to 44|           1.7|            78.02|26.94|             No|        No|          No|           No|No, did not recei...|              No|     Yes|\n",
      "|Alabama|Female|    Very good|               0.0|             0.0|Within past year ...|               Yes|5.801939167|        None of them|            No|       No|       No|      Yes|          Yes|     No|                   No|              No|         Yes|         No|                 No|                     No|                     No|               No|                       No|               No|       Former smoker|Never used e-ciga...|      Yes| White only, Non-H...|   Age 75 to 79|          1.68|             63.5| 22.6|             No|        No|         Yes|          Yes|No, did not recei...|              No|      No|\n",
      "|Alabama|  Male|    Very good|               0.0|             0.0|                NULL|               Yes|8.695583486|              1 to 5|            No|       No|       No|       No|           No|     No|                   No|              No|          No|         No|                 No|                     No|                     No|               No|                       No|               No|        Never smoked|Never used e-ciga...|      Yes| White only, Non-H...|Age 80 or older|          1.83|           122.47|36.62|            Yes|        No|         Yes|          Yes|  Yes, received Tdap|              No|      No|\n",
      "|Alabama|Female|         NULL|       3.181993152|     4.564655244|Within past year ...|               Yes|4.287274834|        None of them|            No|       No|       No|       No|           No|     No|                   No|              No|         Yes|        Yes|                 No|                     No|                     No|              Yes|                       No|               No|        Never smoked|Never used e-ciga...|       No| White only, Non-H...|   Age 60 to 64|          1.52|           108.86|46.87|             No|        No|          No|           No|Yes, received tet...|              No|     Yes|\n",
      "|Alabama|  Male|         Good|       5.722332305|             0.0|Within past year ...|               Yes|5.371884256|6 or more, but no...|           Yes|       No|       No|       No|          Yes|     No|                   No|              No|         Yes|         No|                 No|                     No|                    Yes|              Yes|                       No|               No|Current smoker - ...|  Use them some days|      Yes| White only, Non-H...|   Age 60 to 64|          1.88|           115.67|32.74|             No|        No|         Yes|          Yes|Yes, received tet...|              No|      No|\n",
      "|Alabama|Female|         Good|               0.0|             0.0|Within past year ...|                No|6.094052525|              1 to 5|            No|       No|       No|       No|           No|     No|                   No|              No|          No|         No|                 No|                     No|                     No|               No|                       No|               No|       Former smoker|Never used e-ciga...|       No| White only, Non-H...|   Age 60 to 64|          1.52|            81.65|35.15|             No|        No|          No|           No|  Yes, received Tdap|              No|      No|\n",
      "| Albama|  Male|         Fair|       29.13116009|     22.65216877|Within past year ...|                No|5.532126549|6 or more, but no...|            No|      Yes|       No|       No|           No|     No|                  Yes|             Yes|         Yes|         No|                Yes|                     No|                    Yes|              Yes|                      Yes|               No|        Never smoked|Never used e-ciga...|      Yes| White only, Non-H...|   Age 70 to 74|          1.78|            86.18|27.26|             No|        No|         Yes|           No|No, did not recei...|              No|     Yes|\n",
      "|Alabama|Female|         Good|               0.0|     14.49117041|Within past year ...|               Yes|6.690710909|                 All|            No|       No|       No|       No|           No|     No|                  Yes|              No|          No|        Yes|                 No|                     No|                     No|               No|                       No|               No|       Former smoker|Never used e-ciga...|      Yes| White only, Non-H...|Age 80 or older|           1.5|             63.5|28.28|             No|        No|         Yes|          Yes|No, did not recei...|              No|     Yes|\n",
      "|Alabama|Female|         Good|               0.0|             0.0|Within past year ...|               Yes|6.858825023|                 All|            No|       No|       No|      Yes|           No|     No|                   No|              No|          No|         No|                 No|                     No|                     No|               No|                       No|               No|Current smoker - ...|Never used e-ciga...|      Yes| White only, Non-H...|   Age 65 to 69|          1.73|             76.2|25.54|             No|        No|         Yes|          Yes|  Yes, received Tdap|              No|      No|\n",
      "|Alabama|Female|         Good|               0.0|             0.0|Within past year ...|                No|10.72279247|                 All|            No|       No|       No|       No|           No|     No|                   No|              No|          No|         No|                 No|                     No|                     No|              Yes|                       No|               No|Current smoker - ...|Never used e-ciga...|      Yes| White only, Non-H...|   Age 70 to 74|          1.65|            54.88|20.14|            Yes|        No|         Yes|          Yes|No, did not recei...|              No|      No|\n",
      "|Alabama|Female|    Excellent|               0.0|             0.0|Within past year ...|               Yes|5.044732343|6 or more, but no...|            No|       No|      Yes|       No|           No|     No|                   No|              No|          No|        Yes|                 No|                     No|                     No|               No|                       No|               No|        Never smoked|Never used e-ciga...|       No| Black only, Non-H...|   Age 60 to 64|           1.7|            72.57|25.06|             No|        No|         Yes|           No|No, did not recei...|              No|      No|\n",
      "|Alabama|  Male|         Poor|       29.19922522|             0.0|Within past year ...|                No|8.911559558|              1 to 5|            No|       No|       No|       No|          Yes|     No|                   No|             Yes|         Yes|         No|                 No|                     No|                    Yes|              Yes|                      Yes|              Yes|       Former smoker|Never used e-ciga...|       No| White only, Non-H...|Age 80 or older|           1.8|            88.45| 27.2|             No|        No|         Yes|           No|No, did not recei...|              No|      No|\n",
      "|Alabama|Female|         Fair|       34.28184389|             0.0|Within past year ...|                No|6.882359885|6 or more, but no...|            No|      Yes|       No|       No|           No|    Yes|                  Yes|              No|         Yes|         No|                Yes|                     No|                    Yes|               No|                       No|               No|        Never smoked|Never used e-ciga...|      Yes| Black only, Non-H...|   Age 70 to 74|          1.52|             63.5|27.34|             No|        No|         Yes|          Yes|No, did not recei...|              No|      No|\n",
      "+-------+------+-------------+------------------+----------------+--------------------+------------------+-----------+--------------------+--------------+---------+---------+---------+-------------+-------+---------------------+----------------+------------+-----------+-------------------+-----------------------+-----------------------+-----------------+-------------------------+-----------------+--------------------+--------------------+---------+---------------------+---------------+--------------+-----------------+-----+---------------+----------+------------+-------------+--------------------+----------------+--------+\n",
      "only showing top 20 rows\n",
      "\n",
      "Count of distinct values in the State column after removing None: 58\n",
      "Distinct states:\n",
      "Arkansas\n",
      "Connecticut\n",
      "Calfornia\n",
      "District of Columbia\n",
      "Delaware\n",
      "Alaska\n",
      "Albama\n",
      "Alabama\n",
      "Arizona\n",
      "Florida\n",
      "California\n",
      "Colorado\n",
      "Hawaii\n",
      "Illinois\n",
      "Georgia\n",
      "Iowa\n",
      "Indiana\n",
      "Idaho\n",
      "Huwaii\n",
      "Kansas\n",
      "Maryland\n",
      "Massachusetts\n",
      "Kentucky\n",
      "Louisiana\n",
      "Maine\n",
      "Minnesota\n",
      "Nebraska\n",
      "Nevada\n",
      "Missouri\n",
      "Montana\n",
      "Michigan\n",
      "Mississippi\n",
      "New Hampshire\n",
      "Ohio\n",
      "North Dakota\n",
      "New Mexico\n",
      "North Carolina\n",
      "New Jersey\n",
      "New York\n",
      "Utah\n",
      "Oregon\n",
      "Texas\n",
      "Pennsylvania\n",
      "Oklahoma\n",
      "Rhode Island\n",
      "Tennessee\n",
      "South Carolina\n",
      "South Dakota\n",
      "Vermont\n",
      "Washington\n",
      "Vormont\n",
      "West Virginia\n",
      "Virginia\n",
      "Wisconsin\n",
      "Puerto Rico\n",
      "Virgin Islands\n",
      "Guam\n",
      "Wyoming\n"
     ]
    }
   ],
   "source": [
    "# Filter out rows where State is None (null)\n",
    "cleaned_df = df.filter(df[\"State\"].isNotNull())\n",
    "\n",
    "# Show the resulting DataFrame\n",
    "cleaned_df.show()\n",
    "\n",
    "# Get all distinct values in the State column from the cleaned DataFrame\n",
    "distinct_states_cleaned = cleaned_df.select(\"State\").distinct()\n",
    "\n",
    "# Collect the distinct values as a list\n",
    "all_distinct_states_cleaned = distinct_states_cleaned.collect()\n",
    "\n",
    "# Count the number of distinct values\n",
    "distinct_states_count_cleaned = len(all_distinct_states_cleaned)\n",
    "\n",
    "# Print the count of distinct values\n",
    "print(f\"Count of distinct values in the State column after removing None: {distinct_states_count_cleaned}\")\n",
    "\n",
    "# Print all distinct values\n",
    "print(\"Distinct states:\")\n",
    "for state in all_distinct_states_cleaned:\n",
    "    print(state[\"State\"])\n",
    "\n"
   ]
  },
  {
   "cell_type": "code",
   "execution_count": 9,
   "id": "db1c559f-66b5-4c8d-bb82-f8feb70e7e63",
   "metadata": {},
   "outputs": [
    {
     "name": "stdout",
     "output_type": "stream",
     "text": [
      "Count of distinct values in the State column after removing None: 58\n",
      "Arkansas\n",
      "Connecticut\n",
      "Calfornia\n",
      "District of Columbia\n",
      "Delaware\n",
      "Alaska\n",
      "Albama\n",
      "Alabama\n",
      "Arizona\n",
      "Florida\n",
      "California\n",
      "Colorado\n",
      "Hawaii\n",
      "Illinois\n",
      "Georgia\n",
      "Iowa\n",
      "Indiana\n",
      "Idaho\n",
      "Huwaii\n",
      "Kansas\n",
      "Maryland\n",
      "Massachusetts\n",
      "Kentucky\n",
      "Louisiana\n",
      "Maine\n",
      "Minnesota\n",
      "Nebraska\n",
      "Nevada\n",
      "Missouri\n",
      "Montana\n",
      "Michigan\n",
      "Mississippi\n",
      "New Hampshire\n",
      "Ohio\n",
      "North Dakota\n",
      "New Mexico\n",
      "North Carolina\n",
      "New Jersey\n",
      "New York\n",
      "Utah\n",
      "Oregon\n",
      "Texas\n",
      "Pennsylvania\n",
      "Oklahoma\n",
      "Rhode Island\n",
      "Tennessee\n",
      "South Carolina\n",
      "South Dakota\n",
      "Vermont\n",
      "Washington\n",
      "Vormont\n",
      "West Virginia\n",
      "Virginia\n",
      "Wisconsin\n",
      "Puerto Rico\n",
      "Virgin Islands\n",
      "Guam\n",
      "Wyoming\n"
     ]
    }
   ],
   "source": [
    "# Get distinct values in the State column from the cleaned DataFrame\n",
    "distinct_states_cleaned = cleaned_df.select(\"State\").distinct()\n",
    "\n",
    "# Count the number of distinct values\n",
    "distinct_states_count_cleaned = distinct_states_cleaned.count()\n",
    "\n",
    "# Print the count of distinct values\n",
    "print(f\"Count of distinct values in the State column after removing None: {distinct_states_count_cleaned}\")\n",
    "\n",
    "# Optionally, print all distinct values\n",
    "all_distinct_states_cleaned = distinct_states_cleaned.collect()\n",
    "for state in all_distinct_states_cleaned:\n",
    "    print(state[\"State\"])\n"
   ]
  },
  {
   "cell_type": "code",
   "execution_count": 10,
   "id": "3f39fed4-6583-40b3-9aff-7d190148f15d",
   "metadata": {},
   "outputs": [
    {
     "name": "stdout",
     "output_type": "stream",
     "text": [
      "+--------------------+\n",
      "|state               |\n",
      "+--------------------+\n",
      "|Arkansas            |\n",
      "|Connecticut         |\n",
      "|District of Columbia|\n",
      "|Delaware            |\n",
      "|Alaska              |\n",
      "|Alabama             |\n",
      "|Arizona             |\n",
      "|Florida             |\n",
      "|California          |\n",
      "|Colorado            |\n",
      "|Hawaii              |\n",
      "|Illinois            |\n",
      "|Georgia             |\n",
      "|Iowa                |\n",
      "|Indiana             |\n",
      "|Idaho               |\n",
      "|Kansas              |\n",
      "|Maryland            |\n",
      "|Massachusetts       |\n",
      "|Kentucky            |\n",
      "+--------------------+\n",
      "only showing top 20 rows\n",
      "\n"
     ]
    }
   ],
   "source": [
    "from pyspark.sql.functions import when\n",
    "\n",
    "# Correcting the typos in the State column\n",
    "df_cleaned = df.withColumn(\n",
    "    \"state\",\n",
    "    when(df[\"state\"] == \"Calfornia\", \"California\")\n",
    "    .when(df[\"state\"] == \"Albama\", \"Alabama\")\n",
    "    .when(df[\"state\"] == \"Huwaii\", \"Hawaii\")\n",
    "    .when(df[\"state\"] == \"Vormont\", \"Vermont\")\n",
    "    .otherwise(df[\"state\"])\n",
    ")\n",
    "\n",
    "# Check the distinct values again\n",
    "df_cleaned.select(\"state\").distinct().show(truncate=False)\n"
   ]
  },
  {
   "cell_type": "code",
   "execution_count": 11,
   "id": "611695bb-919a-4a26-907d-b721dacb70c2",
   "metadata": {},
   "outputs": [
    {
     "name": "stdout",
     "output_type": "stream",
     "text": [
      "+------------------+----------------+\n",
      "|PhysicalHealthDays|MentalHealthDays|\n",
      "+------------------+----------------+\n",
      "|                 4|               0|\n",
      "|                 0|               0|\n",
      "|                 0|            NULL|\n",
      "|                 6|               0|\n",
      "|                 3|              12|\n",
      "|                 0|               0|\n",
      "|                 3|               0|\n",
      "|                 5|               0|\n",
      "|                 2|               0|\n",
      "|                 0|               0|\n",
      "|                 0|               0|\n",
      "|                 3|               5|\n",
      "|                 6|               0|\n",
      "|                 0|               0|\n",
      "|                29|              23|\n",
      "|                 0|              14|\n",
      "|                 0|               0|\n",
      "|                 0|               0|\n",
      "|                 0|               0|\n",
      "|                29|               0|\n",
      "+------------------+----------------+\n",
      "only showing top 20 rows\n",
      "\n"
     ]
    }
   ],
   "source": [
    "from pyspark.sql.functions import col, when, round\n",
    "\n",
    "# Clean, cap, round, and standardize PhysicalHealthDays and MentalHealthDays columns\n",
    "df_cleaned = df.withColumn(\n",
    "    \"PhysicalHealthDays\",\n",
    "    round(\n",
    "        when(col(\"PhysicalHealthDays\") < 0, 0)\n",
    "        .when(col(\"PhysicalHealthDays\") > 30, 30)\n",
    "        .otherwise(col(\"PhysicalHealthDays\"))\n",
    "    ).cast(\"int\")\n",
    ")\n",
    "\n",
    "df_cleaned = df_cleaned.withColumn(\n",
    "    \"MentalHealthDays\",\n",
    "    round(\n",
    "        when(col(\"MentalHealthDays\") < 0, 0)\n",
    "        .when(col(\"MentalHealthDays\") > 30, 30)\n",
    "        .otherwise(col(\"MentalHealthDays\"))\n",
    "    ).cast(\"int\")\n",
    ")\n",
    "\n",
    "# Show the cleaned and standardized columns\n",
    "df_cleaned.select(\"PhysicalHealthDays\", \"MentalHealthDays\").show()\n"
   ]
  },
  {
   "cell_type": "code",
   "execution_count": 12,
   "id": "2457ce87-881a-4f96-a8bd-09659df72eb0",
   "metadata": {},
   "outputs": [
    {
     "name": "stdout",
     "output_type": "stream",
     "text": [
      "+----------+\n",
      "|SleepHours|\n",
      "+----------+\n",
      "|         9|\n",
      "|         5|\n",
      "|         6|\n",
      "|         7|\n",
      "|         5|\n",
      "|         7|\n",
      "|         9|\n",
      "|         7|\n",
      "|         6|\n",
      "|         6|\n",
      "|         9|\n",
      "|         4|\n",
      "|         5|\n",
      "|         6|\n",
      "|         6|\n",
      "|         7|\n",
      "|         7|\n",
      "|        11|\n",
      "|         5|\n",
      "|         9|\n",
      "+----------+\n",
      "only showing top 20 rows\n",
      "\n"
     ]
    }
   ],
   "source": [
    "#Sleep_Hours\n",
    "df_cleaned = df_cleaned.withColumn(\n",
    "    \"SleepHours\",\n",
    "    round(\n",
    "        when(col(\"SleepHours\") < 0, 0)\n",
    "        .when(col(\"SleepHours\") > 24,24)\n",
    "        .otherwise(col(\"SleepHours\"))\n",
    "    ).cast(\"int\")\n",
    ")\n",
    "\n",
    "# Show the cleaned and standardized columns\n",
    "df_cleaned.select(\"SleepHours\").show()"
   ]
  },
  {
   "cell_type": "code",
   "execution_count": 13,
   "id": "ccec1d5e-6246-4ea6-a234-12aebde7ebb9",
   "metadata": {},
   "outputs": [
    {
     "name": "stdout",
     "output_type": "stream",
     "text": [
      "+--------------------+\n",
      "|         HadDiabetes|\n",
      "+--------------------+\n",
      "|No, pre-diabetes ...|\n",
      "|                  No|\n",
      "|                 Yes|\n",
      "|Yes, but only dur...|\n",
      "+--------------------+\n",
      "\n"
     ]
    }
   ],
   "source": [
    "distinct_values = df_cleaned.select(\"HadDiabetes\").distinct()\n",
    "distinct_values.show()\n"
   ]
  },
  {
   "cell_type": "code",
   "execution_count": 14,
   "id": "c6f3e9a0-a96e-4431-8f9e-26980379331d",
   "metadata": {},
   "outputs": [
    {
     "name": "stdout",
     "output_type": "stream",
     "text": [
      "+--------------------+------+\n",
      "|         HadDiabetes| count|\n",
      "+--------------------+------+\n",
      "|No, pre-diabetes ...|  5551|\n",
      "|                  No|210337|\n",
      "|                 Yes| 34718|\n",
      "|Yes, but only dur...|  2023|\n",
      "+--------------------+------+\n",
      "\n"
     ]
    }
   ],
   "source": [
    "# Group by 'HadDiabetics' column and count occurrences\n",
    "value_counts = df_cleaned.groupBy(\"HadDiabetes\").count()\n",
    "\n",
    "# Show the results\n",
    "value_counts.show()\n"
   ]
  },
  {
   "cell_type": "code",
   "execution_count": 15,
   "id": "7c449123-464d-4eaa-b9b0-a1233825b38f",
   "metadata": {},
   "outputs": [
    {
     "name": "stdout",
     "output_type": "stream",
     "text": [
      "+-----------+------+\n",
      "|HadDiabetes| count|\n",
      "+-----------+------+\n",
      "|         No|210337|\n",
      "|        Yes| 34718|\n",
      "+-----------+------+\n",
      "\n"
     ]
    }
   ],
   "source": [
    "# Filter to keep only \"Yes\" and \"No\"\n",
    "filtered_df = df_cleaned.filter(df_cleaned[\"HadDiabetes\"].isin([\"Yes\", \"No\"]))\n",
    "\n",
    "# Count occurrences of each unique value in the filtered DataFrame\n",
    "value_counts = filtered_df.groupBy(\"HadDiabetes\").count()\n",
    "\n",
    "# Show the results\n",
    "value_counts.show()\n"
   ]
  },
  {
   "cell_type": "code",
   "execution_count": 16,
   "id": "242f2040-e243-4a04-b69d-31f335889158",
   "metadata": {},
   "outputs": [
    {
     "name": "stdout",
     "output_type": "stream",
     "text": [
      "+------------------+----------------+\n",
      "|PhysicalHealthDays|MentalHealthDays|\n",
      "+------------------+----------------+\n",
      "|                 4|               0|\n",
      "|                 0|               0|\n",
      "|                 0|            NULL|\n",
      "|                 6|               0|\n",
      "|                 3|              12|\n",
      "|                 0|               0|\n",
      "|                 3|               0|\n",
      "|                 5|               0|\n",
      "|                 2|               0|\n",
      "|                 0|               0|\n",
      "|                 0|               0|\n",
      "|                 3|               5|\n",
      "|                 6|               0|\n",
      "|                 0|               0|\n",
      "|                29|              23|\n",
      "|                 0|              14|\n",
      "|                 0|               0|\n",
      "|                 0|               0|\n",
      "|                 0|               0|\n",
      "|                29|               0|\n",
      "+------------------+----------------+\n",
      "only showing top 20 rows\n",
      "\n"
     ]
    }
   ],
   "source": [
    "from pyspark.sql.functions import col, when, round\n",
    "\n",
    "# Clean, cap, round, and standardize PhysicalHealthDays and MentalHealthDays columns\n",
    "df_cleaned = df.withColumn(\n",
    "    \"PhysicalHealthDays\",\n",
    "    round(\n",
    "        when(col(\"PhysicalHealthDays\") < 0, 0)\n",
    "        .when(col(\"PhysicalHealthDays\") > 30, 30)\n",
    "        .otherwise(col(\"PhysicalHealthDays\"))\n",
    "    ).cast(\"int\")\n",
    ")\n",
    "\n",
    "df_cleaned = df_cleaned.withColumn(\n",
    "    \"MentalHealthDays\",\n",
    "    round(\n",
    "        when(col(\"MentalHealthDays\") < 0, 0)\n",
    "        .when(col(\"MentalHealthDays\") > 30, 30)\n",
    "        .otherwise(col(\"MentalHealthDays\"))\n",
    "    ).cast(\"int\")\n",
    ")\n",
    "\n",
    "# Show the cleaned and standardized columns\n",
    "df_cleaned.select(\"PhysicalHealthDays\", \"MentalHealthDays\").show()\n"
   ]
  },
  {
   "cell_type": "code",
   "execution_count": 17,
   "id": "1ec95548-cb91-45ce-b7b3-10db3e58ad9c",
   "metadata": {},
   "outputs": [
    {
     "name": "stdout",
     "output_type": "stream",
     "text": [
      "+----------+\n",
      "|SleepHours|\n",
      "+----------+\n",
      "|         9|\n",
      "|         5|\n",
      "|         6|\n",
      "|         7|\n",
      "|         5|\n",
      "|         7|\n",
      "|         9|\n",
      "|         7|\n",
      "|         6|\n",
      "|         6|\n",
      "|         9|\n",
      "|         4|\n",
      "|         5|\n",
      "|         6|\n",
      "|         6|\n",
      "|         7|\n",
      "|         7|\n",
      "|        11|\n",
      "|         5|\n",
      "|         9|\n",
      "+----------+\n",
      "only showing top 20 rows\n",
      "\n"
     ]
    }
   ],
   "source": [
    "#Sleep_Hours\n",
    "df_cleaned = df_cleaned.withColumn(\n",
    "    \"SleepHours\",\n",
    "    round(\n",
    "        when(col(\"SleepHours\") < 0, 0)\n",
    "        .when(col(\"SleepHours\") > 24,24)\n",
    "        .otherwise(col(\"SleepHours\"))\n",
    "    ).cast(\"int\")\n",
    ")\n",
    "\n",
    "# Show the cleaned and standardized columns\n",
    "df_cleaned.select(\"SleepHours\").show()"
   ]
  },
  {
   "cell_type": "code",
   "execution_count": 18,
   "id": "41e39e8b-c93a-4c4c-88ac-2bd8f0816de6",
   "metadata": {},
   "outputs": [
    {
     "name": "stdout",
     "output_type": "stream",
     "text": [
      "+--------------------+\n",
      "|         HadDiabetes|\n",
      "+--------------------+\n",
      "|No, pre-diabetes ...|\n",
      "|                  No|\n",
      "|                 Yes|\n",
      "|Yes, but only dur...|\n",
      "+--------------------+\n",
      "\n"
     ]
    }
   ],
   "source": [
    "distinct_values = df_cleaned.select(\"HadDiabetes\").distinct()\n",
    "distinct_values.show()\n"
   ]
  },
  {
   "cell_type": "code",
   "execution_count": 19,
   "id": "0d3776bc-869f-4844-900d-f8c12823366c",
   "metadata": {},
   "outputs": [
    {
     "name": "stdout",
     "output_type": "stream",
     "text": [
      "+--------------------+------+\n",
      "|         HadDiabetes| count|\n",
      "+--------------------+------+\n",
      "|No, pre-diabetes ...|  5551|\n",
      "|                  No|210337|\n",
      "|                 Yes| 34718|\n",
      "|Yes, but only dur...|  2023|\n",
      "+--------------------+------+\n",
      "\n"
     ]
    }
   ],
   "source": [
    "# Group by 'HadDiabetics' column and count occurrences\n",
    "value_counts = df_cleaned.groupBy(\"HadDiabetes\").count()\n",
    "\n",
    "# Show the results\n",
    "value_counts.show()\n"
   ]
  },
  {
   "cell_type": "code",
   "execution_count": 20,
   "id": "543b3436-fa49-4c52-a7a7-288835834f43",
   "metadata": {},
   "outputs": [
    {
     "name": "stdout",
     "output_type": "stream",
     "text": [
      "+-----------+------+\n",
      "|HadDiabetes| count|\n",
      "+-----------+------+\n",
      "|         No|210337|\n",
      "|        Yes| 34718|\n",
      "+-----------+------+\n",
      "\n"
     ]
    }
   ],
   "source": [
    "# Filter to keep only \"Yes\" and \"No\"\n",
    "filtered_df = df_cleaned.filter(df_cleaned[\"HadDiabetes\"].isin([\"Yes\", \"No\"]))\n",
    "\n",
    "# Count occurrences of each unique value in the filtered DataFrame\n",
    "value_counts = filtered_df.groupBy(\"HadDiabetes\").count()\n",
    "\n",
    "# Show the results\n",
    "value_counts.show()\n"
   ]
  },
  {
   "cell_type": "code",
   "execution_count": 21,
   "id": "6733c90b-1f83-41c4-9786-05361f9200d5",
   "metadata": {},
   "outputs": [
    {
     "name": "stdout",
     "output_type": "stream",
     "text": [
      "Number of duplicate rows: 1085\n"
     ]
    }
   ],
   "source": [
    "from pyspark.sql.functions import col, count\n",
    "\n",
    "# Group by all columns and count occurrences\n",
    "duplicates_df = df_cleaned.groupBy(df_cleaned.columns).count().filter(col(\"count\") > 1)\n",
    "\n",
    "# Calculate the total number of duplicate rows\n",
    "duplicate_count = duplicates_df.select(count(\"count\")).collect()[0][0]\n",
    "\n",
    "print(f\"Number of duplicate rows: {duplicate_count}\")\n"
   ]
  },
  {
   "cell_type": "code",
   "execution_count": 22,
   "id": "2f85f2a8-5618-4e9f-b36b-13c2e4cb37e8",
   "metadata": {},
   "outputs": [
    {
     "name": "stdout",
     "output_type": "stream",
     "text": [
      "+-------+------+-------------+------------------+----------------+--------------------+------------------+----------+--------------------+--------------+---------+---------+---------+-------------+-------+---------------------+----------------+------------+--------------------+-------------------+-----------------------+-----------------------+-----------------+-------------------------+-----------------+--------------------+--------------------+---------+---------------------+---------------+--------------+-----------------+-----+---------------+----------+------------+-------------+--------------------+----------------+--------------------+\n",
      "|  State|   Sex|GeneralHealth|PhysicalHealthDays|MentalHealthDays|     LastCheckupTime|PhysicalActivities|SleepHours|        RemovedTeeth|HadHeartAttack|HadAngina|HadStroke|HadAsthma|HadSkinCancer|HadCOPD|HadDepressiveDisorder|HadKidneyDisease|HadArthritis|         HadDiabetes|DeafOrHardOfHearing|BlindOrVisionDifficulty|DifficultyConcentrating|DifficultyWalking|DifficultyDressingBathing|DifficultyErrands|        SmokerStatus|     ECigaretteUsage|ChestScan|RaceEthnicityCategory|    AgeCategory|HeightInMeters|WeightInKilograms|  BMI|AlcoholDrinkers|HIVTesting|FluVaxLast12|PneumoVaxEver|   TetanusLast10Tdap|HighRiskLastYear|            CovidPos|\n",
      "+-------+------+-------------+------------------+----------------+--------------------+------------------+----------+--------------------+--------------+---------+---------+---------+-------------+-------+---------------------+----------------+------------+--------------------+-------------------+-----------------------+-----------------------+-----------------+-------------------------+-----------------+--------------------+--------------------+---------+---------------------+---------------+--------------+-----------------+-----+---------------+----------+------------+-------------+--------------------+----------------+--------------------+\n",
      "|Alabama|Female|         Good|                11|               3|Within past year ...|                No|        11|6 or more, but no...|            No|       No|       No|       No|           No|     No|                   No|              No|         Yes|                  No|                 No|                     No|                     No|              Yes|                       No|               No|        Never smoked|Never used e-ciga...|       No| Black only, Non-H...|   Age 55 to 59|          1.57|            113.4|45.73|            Yes|        No|         Yes|           No|No, did not recei...|              No|                 Yes|\n",
      "|Alabama|Female|    Very good|                 0|               0|Within past year ...|                No|         7|        None of them|            No|       No|       No|       No|           No|     No|                   No|              No|          No|                  No|                Yes|                     No|                     No|               No|                       No|               No|        Never smoked|Never used e-ciga...|       No| White only, Non-H...|   Age 55 to 59|          1.68|            81.65|29.05|            Yes|        No|         Yes|           No|Yes, received tet...|              No|Tested positive u...|\n",
      "|Alabama|  Male|         Good|                 0|               0|Within past year ...|               Yes|         7|              1 to 5|            No|      Yes|       No|       No|           No|     No|                   No|              No|          No|                  No|                 No|                     No|                     No|               No|                       No|               No|        Never smoked|Never used e-ciga...|      Yes| White only, Non-H...|Age 80 or older|          1.75|            92.99|30.27|            Yes|        No|         Yes|           No|No, did not recei...|              No|                  No|\n",
      "|Alabama|Female|    Very good|                 0|               2|Within past year ...|               Yes|         8|              1 to 5|            No|       No|       No|       No|          Yes|     No|                   No|              No|          No|                  No|                 No|                     No|                     No|               No|                       No|               No|        Never smoked|Never used e-ciga...|       No| White only, Non-H...|   Age 70 to 74|          1.63|            68.04|25.75|            Yes|        No|         Yes|          Yes|Yes, received tet...|              No|                 Yes|\n",
      "|Alabama|  Male|         Good|                 5|               9|Within past year ...|               Yes|         6|        None of them|            No|       No|       No|       No|           No|     No|                   No|              No|          No|                  No|                 No|                     No|                     No|               No|                       No|               No|        Never smoked|Never used e-ciga...|      Yes| White only, Non-H...|   Age 35 to 39|          1.85|           158.76|46.18|             No|        No|          No|           No|  Yes, received Tdap|              No|                 Yes|\n",
      "|Alabama|Female|         Fair|                30|              30|Within past year ...|                No|         7|        None of them|            No|       No|      Yes|       No|           No|     No|                  Yes|             Yes|         Yes|                 Yes|                 No|                     No|                    Yes|              Yes|                      Yes|               No|        Never smoked|Never used e-ciga...|      Yes| White only, Non-H...|   Age 70 to 74|          1.65|            87.54|32.12|             No|        No|          No|          Yes|  Yes, received Tdap|              No|                 Yes|\n",
      "|Alabama|  Male|    Very good|                 3|               0|Within past year ...|               Yes|         8|6 or more, but no...|           Yes|       No|       No|       No|           No|    Yes|                   No|              No|         Yes|                 Yes|                Yes|                     No|                     No|               No|                       No|               No|       Former smoker|Never used e-ciga...|      Yes| White only, Non-H...|Age 80 or older|          1.75|            86.18|28.06|            Yes|        No|          No|          Yes|Yes, received tet...|              No|                 Yes|\n",
      "|Alabama|Female|    Very good|                 0|               0|Within past year ...|               Yes|         7|        None of them|            No|       No|       No|       No|          Yes|     No|                   No|              No|          No|                  No|                 No|                     No|                     No|               No|                       No|               No|        Never smoked|Never used e-ciga...|       No| White only, Non-H...|   Age 70 to 74|          1.68|            79.38|28.25|             No|        No|         Yes|          Yes|  Yes, received Tdap|              No|                  No|\n",
      "|Alabama|  Male|         Poor|                30|               4|Within past year ...|               Yes|         8|6 or more, but no...|            No|       No|       No|       No|           No|     No|                   No|              No|         Yes|                  No|                 No|                     No|                     No|              Yes|                      Yes|               No|Current smoker - ...|Never used e-ciga...|       No| White only, Non-H...|   Age 55 to 59|          1.88|            97.52| 27.6|             No|       Yes|          No|           No|No, did not recei...|              No|                 Yes|\n",
      "|Alabama|Female|    Excellent|                 0|               0|Within past year ...|               Yes|         7|        None of them|            No|       No|       No|       No|           No|     No|                   No|              No|         Yes|                  No|                 No|                     No|                     No|               No|                       No|               No|Current smoker - ...|  Use them every day|      Yes| White only, Non-H...|   Age 35 to 39|          1.73|            85.73|28.74|            Yes|       Yes|          No|           No|No, did not recei...|              No|                 Yes|\n",
      "| Alaska|  Male|    Very good|                 0|               0|Within past year ...|               Yes|         9|              1 to 5|            No|       No|       No|       No|           No|     No|                   No|              No|         Yes|                  No|                 No|                     No|                     No|               No|                       No|               No|       Former smoker|Never used e-ciga...|      Yes| White only, Non-H...|   Age 65 to 69|          1.78|            70.31|22.24|            Yes|        No|         Yes|           No|Yes, received tet...|              No|                  No|\n",
      "| Alaska|  Male|    Excellent|                 0|               0|Within past 5 yea...|               Yes|         8|              1 to 5|            No|       No|       No|       No|           No|     No|                   No|              No|          No|                  No|                 No|                     No|                     No|               No|                       No|               No|        Never smoked|Never used e-ciga...|       No| Other race only, ...|   Age 18 to 24|          1.78|            97.52|30.85|             No|        No|         Yes|           No|Yes, received tet...|              No|                  No|\n",
      "| Alaska|Female|    Very good|                 5|              19|Within past 5 yea...|               Yes|         8|        None of them|            No|       No|       No|       No|           No|     No|                  Yes|              No|          No|                  No|                 No|                     No|                     No|               No|                       No|               No|        Never smoked|Never used e-ciga...|       No| White only, Non-H...|   Age 35 to 39|          1.63|            79.38|30.04|            Yes|       Yes|          No|           No|  Yes, received Tdap|              No|                 Yes|\n",
      "| Alaska|Female|         Good|                 0|               0|Within past year ...|               Yes|         6|              1 to 5|            No|       No|       No|       No|           No|     No|                   No|              No|         Yes|                  No|                 No|                     No|                     No|               No|                       No|               No|       Former smoker|Never used e-ciga...|       No| White only, Non-H...|   Age 70 to 74|           1.6|            99.79|38.97|            Yes|        No|         Yes|          Yes|No, did not recei...|              No|                  No|\n",
      "| Alaska|Female|    Excellent|                 8|               0|Within past year ...|               Yes|         6|        None of them|            No|       No|       No|       No|          Yes|     No|                   No|              No|          No|                  No|                 No|                     No|                     No|               No|                       No|               No|        Never smoked|Never used e-ciga...|      Yes| White only, Non-H...|   Age 40 to 44|          1.63|             56.7|21.46|            Yes|       Yes|         Yes|          Yes|  Yes, received Tdap|              No|                 Yes|\n",
      "| Alaska|Female|         Fair|                28|               0|Within past year ...|               Yes|         8|6 or more, but no...|            No|       No|       No|       No|           No|     No|                   No|              No|          No|Yes, but only dur...|                 No|                     No|                     No|               No|                       No|               No|       Former smoker|Never used e-ciga...|      Yes| White only, Non-H...|   Age 65 to 69|           1.7|            70.31|24.28|             No|        No|         Yes|           No|No, did not recei...|              No|                  No|\n",
      "| Alaska|  Male|         Good|                 0|               5|Within past year ...|               Yes|         7|              1 to 5|            No|       No|       No|       No|           No|     No|                   No|              No|         Yes|                  No|                 No|                     No|                     No|               No|                       No|               No|Current smoker - ...|Not at all (right...|       No| White only, Non-H...|   Age 40 to 44|           1.8|           106.59|32.78|            Yes|       Yes|          No|           No|  Yes, received Tdap|             Yes|                 Yes|\n",
      "| Alaska|  Male|         Good|                29|               0|Within past year ...|               Yes|         8|        None of them|            No|       No|       No|       No|           No|     No|                   No|              No|          No|                  No|                Yes|                    Yes|                     No|               No|                       No|               No|        Never smoked|Never used e-ciga...|      Yes| White only, Non-H...|   Age 70 to 74|          1.73|            77.11|25.85|             No|        No|         Yes|          Yes|  Yes, received Tdap|              No|                  No|\n",
      "| Alaska|Female|         Good|                 0|              15|Within past year ...|               Yes|         5|              1 to 5|            No|       No|       No|      Yes|           No|    Yes|                  Yes|              No|          No|                  No|                 No|                     No|                     No|               No|                       No|               No|       Former smoker|Never used e-ciga...|       No| White only, Non-H...|   Age 25 to 29|           1.7|             76.2|26.31|            Yes|       Yes|          No|           No|No, did not recei...|              No|                  No|\n",
      "| Alaska|  Male|    Very good|                 0|               3|Within past year ...|               Yes|         7|        None of them|            No|       No|       No|       No|           No|     No|                   No|              No|          No|                  No|                 No|                     No|                     No|               No|                       No|               No|        Never smoked|Never used e-ciga...|      Yes| White only, Non-H...|   Age 70 to 74|          1.83|            81.65|24.41|            Yes|       Yes|          No|           No|No, did not recei...|              No|                 Yes|\n",
      "+-------+------+-------------+------------------+----------------+--------------------+------------------+----------+--------------------+--------------+---------+---------+---------+-------------+-------+---------------------+----------------+------------+--------------------+-------------------+-----------------------+-----------------------+-----------------+-------------------------+-----------------+--------------------+--------------------+---------+---------------------+---------------+--------------+-----------------+-----+---------------+----------+------------+-------------+--------------------+----------------+--------------------+\n",
      "only showing top 20 rows\n",
      "\n",
      "Number of rows after dropping duplicates: 251540\n"
     ]
    }
   ],
   "source": [
    "# Drop duplicate rows\n",
    "deduplicated_df = df_cleaned.dropDuplicates()\n",
    "\n",
    "# Optionally, you can check the number of rows in the deduplicated DataFrame\n",
    "deduplicated_count = deduplicated_df.count()\n",
    "\n",
    "# Show the result or save it as needed\n",
    "deduplicated_df.show()\n",
    "print(f\"Number of rows after dropping duplicates: {deduplicated_count}\")"
   ]
  },
  {
   "cell_type": "code",
   "execution_count": 23,
   "id": "4555cdc5-8dc4-4777-91e7-33b114e344f7",
   "metadata": {},
   "outputs": [
    {
     "name": "stdout",
     "output_type": "stream",
     "text": [
      "+-----+---+-------------+------------------+----------------+---------------+------------------+----------+------------+--------------+---------+---------+---------+-------------+-------+---------------------+----------------+------------+-----------+-------------------+-----------------------+-----------------------+-----------------+-------------------------+-----------------+------------+---------------+---------+---------------------+-----------+--------------+-----------------+---+---------------+----------+------------+-------------+-----------------+----------------+--------+\n",
      "|State|Sex|GeneralHealth|PhysicalHealthDays|MentalHealthDays|LastCheckupTime|PhysicalActivities|SleepHours|RemovedTeeth|HadHeartAttack|HadAngina|HadStroke|HadAsthma|HadSkinCancer|HadCOPD|HadDepressiveDisorder|HadKidneyDisease|HadArthritis|HadDiabetes|DeafOrHardOfHearing|BlindOrVisionDifficulty|DifficultyConcentrating|DifficultyWalking|DifficultyDressingBathing|DifficultyErrands|SmokerStatus|ECigaretteUsage|ChestScan|RaceEthnicityCategory|AgeCategory|HeightInMeters|WeightInKilograms|BMI|AlcoholDrinkers|HIVTesting|FluVaxLast12|PneumoVaxEver|TetanusLast10Tdap|HighRiskLastYear|CovidPos|\n",
      "+-----+---+-------------+------------------+----------------+---------------+------------------+----------+------------+--------------+---------+---------+---------+-------------+-------+---------------------+----------------+------------+-----------+-------------------+-----------------------+-----------------------+-----------------+-------------------------+-----------------+------------+---------------+---------+---------------------+-----------+--------------+-----------------+---+---------------+----------+------------+-------------+-----------------+----------------+--------+\n",
      "| 9578|  0|         9581|                 0|            9578|           9581|              9583|         0|        9582|             0|        0|        0|        0|            0|      0|                    0|               0|           0|          0|                  0|                      0|                      0|                0|                        0|                0|           0|              0|        0|                    0|          0|             0|                0|  0|              0|         0|           0|            0|                0|               0|       0|\n",
      "+-----+---+-------------+------------------+----------------+---------------+------------------+----------+------------+--------------+---------+---------+---------+-------------+-------+---------------------+----------------+------------+-----------+-------------------+-----------------------+-----------------------+-----------------+-------------------------+-----------------+------------+---------------+---------+---------------------+-----------+--------------+-----------------+---+---------------+----------+------------+-------------+-----------------+----------------+--------+\n",
      "\n"
     ]
    }
   ],
   "source": [
    "from pyspark.sql.functions import col, sum\n",
    "\n",
    "# Count null values in each column\n",
    "null_counts = deduplicated_df.select([sum(col(c).isNull().cast(\"int\")).alias(c) for c in deduplicated_df.columns])\n",
    "\n",
    "# Show the null counts for each column\n",
    "null_counts.show()\n"
   ]
  },
  {
   "cell_type": "code",
   "execution_count": 24,
   "id": "5070d0d8-0573-40d4-b0ab-79038fc1c977",
   "metadata": {},
   "outputs": [
    {
     "name": "stdout",
     "output_type": "stream",
     "text": [
      "Columns with null values: ['State', 'GeneralHealth', 'MentalHealthDays', 'LastCheckupTime', 'PhysicalActivities', 'RemovedTeeth']\n"
     ]
    }
   ],
   "source": [
    "#Col with null values\n",
    "from pyspark.sql.functions import col, count, when\n",
    "\n",
    "# Count the number of null values for each column\n",
    "null_counts = deduplicated_df.select([\n",
    "    count(when(col(c).isNull(), c)).alias(c) for c in deduplicated_df.columns\n",
    "])\n",
    "\n",
    "# Collect the results into a dictionary\n",
    "null_counts_dict = null_counts.collect()[0].asDict()\n",
    "\n",
    "# Filter columns with null values\n",
    "columns_with_nulls = [col for col, count in null_counts_dict.items() if count > 0]\n",
    "\n",
    "print(\"Columns with null values:\", columns_with_nulls)\n"
   ]
  },
  {
   "cell_type": "code",
   "execution_count": 25,
   "id": "5c097c8d-61e5-4ff6-9b7b-4cd7ba38db87",
   "metadata": {},
   "outputs": [
    {
     "name": "stdout",
     "output_type": "stream",
     "text": [
      "+--------------+------+-------------+------------------+----------------+--------------------+------------------+----------+--------------------+--------------+---------+---------+---------+-------------+-------+---------------------+----------------+------------+-----------+-------------------+-----------------------+-----------------------+-----------------+-------------------------+-----------------+--------------------+--------------------+---------+---------------------+---------------+--------------+-----------------+-----+---------------+----------+------------+-------------+--------------------+----------------+--------+\n",
      "|         State|   Sex|GeneralHealth|PhysicalHealthDays|MentalHealthDays|     LastCheckupTime|PhysicalActivities|SleepHours|        RemovedTeeth|HadHeartAttack|HadAngina|HadStroke|HadAsthma|HadSkinCancer|HadCOPD|HadDepressiveDisorder|HadKidneyDisease|HadArthritis|HadDiabetes|DeafOrHardOfHearing|BlindOrVisionDifficulty|DifficultyConcentrating|DifficultyWalking|DifficultyDressingBathing|DifficultyErrands|        SmokerStatus|     ECigaretteUsage|ChestScan|RaceEthnicityCategory|    AgeCategory|HeightInMeters|WeightInKilograms|  BMI|AlcoholDrinkers|HIVTesting|FluVaxLast12|PneumoVaxEver|   TetanusLast10Tdap|HighRiskLastYear|CovidPos|\n",
      "+--------------+------+-------------+------------------+----------------+--------------------+------------------+----------+--------------------+--------------+---------+---------+---------+-------------+-------+---------------------+----------------+------------+-----------+-------------------+-----------------------+-----------------------+-----------------+-------------------------+-----------------+--------------------+--------------------+---------+---------------------+---------------+--------------+-----------------+-----+---------------+----------+------------+-------------+--------------------+----------------+--------+\n",
      "|South Carolina|Female|    Very good|                 0|               0| 5 or more years ago|                No|         9|        None of them|            No|       No|       No|       No|           No|     No|                   No|              No|          No|         No|                 No|                     No|                     No|               No|                       No|               No|        Never smoked|Never used e-ciga...|       No| White only, Non-H...|   Age 70 to 74|          1.52|            28.12|12.11|             No|        No|          No|           No|No, did not recei...|              No|      No|\n",
      "|      Arkansas|Female|         Poor|                30|              29|Within past year ...|                No|         7|                 All|            No|       No|       No|       No|           No|    Yes|                   No|              No|          No|        Yes|                Yes|                     No|                     No|              Yes|                       No|               No|        Never smoked|Never used e-ciga...|      Yes| White only, Non-H...|   Age 60 to 64|          1.52|            29.48|12.69|             No|        No|         Yes|          Yes|No, did not recei...|              No|     Yes|\n",
      "|      Nebraska|Female|         Poor|                25|               0|Within past year ...|               Yes|         5|        None of them|            No|       No|       No|       No|           No|     No|                   No|             Yes|         Yes|         No|                Yes|                     No|                     No|              Yes|                       No|              Yes|Current smoker - ...|Never used e-ciga...|      Yes| White only, Non-H...|   Age 75 to 79|          1.52|            29.48|12.69|             No|        No|          No|          Yes|Yes, received tet...|              No|      No|\n",
      "|   Puerto Rico|Female|         Fair|                30|               0|Within past year ...|                No|         6|6 or more, but no...|            No|       No|       No|       No|           No|     No|                  Yes|              No|         Yes|         No|                 No|                     No|                     No|               No|                       No|               No|       Former smoker|Not at all (right...|      Yes|             Hispanic|   Age 75 to 79|          1.35|            30.39|16.77|             No|        No|         Yes|          Yes|No, did not recei...|              No|      No|\n",
      "|       Vermont|Female|         Poor|                30|               0|Within past 5 yea...|                No|         9|                 All|            No|       No|       No|       No|           No|    Yes|                   No|              No|          No|         No|                 No|                     No|                     No|              Yes|                       No|              Yes|Current smoker - ...|Never used e-ciga...|      Yes| White only, Non-H...|   Age 65 to 69|          1.57|            30.84|12.44|             No|        No|          No|           No|No, did not recei...|              No|      No|\n",
      "| West Virginia|Female|         Good|                24|               0|Within past year ...|               Yes|         8|6 or more, but no...|            No|       No|       No|      Yes|           No|     No|                   No|              No|         Yes|         No|                 No|                     No|                     No|               No|                       No|               No|        Never smoked|Never used e-ciga...|       No| White only, Non-H...|   Age 75 to 79|           1.5|            30.84|13.73|             No|        No|          No|           No|Yes, received tet...|              No|      No|\n",
      "|       Vermont|Female|         Poor|                30|               3|Within past 2 yea...|                No|        17|                 All|            No|       No|       No|       No|           No|    Yes|                   No|              No|          No|         No|                 No|                     No|                     No|              Yes|                       No|               No|Current smoker - ...|Never used e-ciga...|      Yes| White only, Non-H...|   Age 60 to 64|           1.6|            30.84|12.05|             No|        No|          No|           No|No, did not recei...|              No|      No|\n",
      "|       Georgia|Female|         Good|                23|               0|Within past year ...|                No|         7|              1 to 5|           Yes|       No|      Yes|       No|           No|    Yes|                   No|             Yes|         Yes|         No|                 No|                     No|                     No|              Yes|                       No|               No|        Never smoked|  Use them every day|       No| White only, Non-H...|   Age 55 to 59|           1.5|            31.75|14.14|             No|        No|         Yes|           No|No, did not recei...|              No|      No|\n",
      "|          Ohio|Female|         Fair|                 0|               0|Within past year ...|                No|         3|                 All|            No|       No|       No|       No|           No|    Yes|                   No|              No|         Yes|         No|                 No|                     No|                     No|              Yes|                       No|               No|Current smoker - ...|Never used e-ciga...|      Yes| White only, Non-H...|   Age 70 to 74|          1.42|            31.75|15.69|             No|       Yes|          No|          Yes|No, did not recei...|              No|      No|\n",
      "|        Kansas|Female|         Good|                 3|               0|Within past year ...|               Yes|         6|                 All|            No|       No|       No|       No|           No|     No|                   No|              No|         Yes|        Yes|                 No|                     No|                     No|               No|                       No|               No|Current smoker - ...|Never used e-ciga...|      Yes| Black only, Non-H...|Age 80 or older|          1.37|            31.75|16.88|            Yes|        No|         Yes|          Yes|No, did not recei...|              No|      No|\n",
      "|      New York|Female|         Fair|                 7|               0|Within past year ...|               Yes|         6|6 or more, but no...|            No|       No|       No|       No|           No|     No|                   No|              No|         Yes|        Yes|                 No|                     No|                     No|               No|                       No|               No|        Never smoked|Never used e-ciga...|       No| Black only, Non-H...|   Age 75 to 79|          1.27|            31.75|19.69|             No|        No|          No|           No|No, did not recei...|              No|      No|\n",
      "|          Ohio|Female|    Very good|                 0|               0|Within past year ...|               Yes|         7|        None of them|            No|       No|       No|       No|           No|     No|                   No|              No|          No|         No|                 No|                     No|                     No|               No|                       No|               No|        Never smoked|Never used e-ciga...|      Yes| White only, Non-H...|Age 80 or older|          1.63|            31.75|12.02|             No|        No|         Yes|          Yes|No, did not recei...|              No|      No|\n",
      "|    California|Female|         Fair|                30|               0|Within past year ...|               Yes|         9|6 or more, but no...|            No|       No|       No|       No|           No|     No|                   No|             Yes|         Yes|        Yes|                Yes|                    Yes|                     No|              Yes|                      Yes|               No|        Never smoked|Not at all (right...|       No|             Hispanic|   Age 75 to 79|          1.42|            31.75|15.69|             No|       Yes|         Yes|          Yes|Yes, received tet...|              No|      No|\n",
      "| Massachusetts|Female|         Poor|                 3|              30| 5 or more years ago|                No|         8|                 All|            No|       No|       No|       No|           No|    Yes|                   No|              No|         Yes|         No|                 No|                     No|                     No|               No|                       No|               No|       Former smoker|Never used e-ciga...|       No| White only, Non-H...|Age 80 or older|           1.6|            31.75| 12.4|             No|        No|         Yes|          Yes|No, did not recei...|              No|      No|\n",
      "|       Arizona|  Male|    Very good|                 5|               0|Within past 5 yea...|               Yes|         7|        None of them|            No|       No|       No|       No|           No|     No|                   No|              No|          No|         No|                 No|                     No|                     No|               No|                       No|               No|Current smoker - ...|Not at all (right...|       No|             Hispanic|   Age 25 to 29|           1.6|             32.0| 12.5|            Yes|        No|          No|           No|Yes, received tet...|              No|      No|\n",
      "|       Arizona|Female|    Excellent|                 0|               0| 5 or more years ago|               Yes|         8|        None of them|            No|       No|       No|      Yes|           No|     No|                  Yes|              No|         Yes|         No|                Yes|                    Yes|                     No|               No|                       No|               No|        Never smoked|Never used e-ciga...|       No| Other race only, ...|Age 80 or older|          1.45|            32.21|15.36|             No|        No|          No|           No|Yes, received tet...|              No|      No|\n",
      "|     Minnesota|Female|         Poor|                30|               5|Within past year ...|                No|         7|                 All|            No|       No|      Yes|       No|           No|     No|                   No|             Yes|          No|         No|                 No|                     No|                     No|              Yes|                      Yes|              Yes|Current smoker - ...|Never used e-ciga...|      Yes| White only, Non-H...|   Age 60 to 64|          1.47|            32.21|14.84|             No|        No|          No|           No|No, did not recei...|              No|      No|\n",
      "|          Ohio|Female|         Poor|                26|               0|Within past 2 yea...|               Yes|        10|                 All|            No|       No|       No|      Yes|           No|    Yes|                   No|              No|         Yes|         No|                 No|                     No|                     No|              Yes|                      Yes|              Yes|       Former smoker|Never used e-ciga...|      Yes| White only, Non-H...|   Age 60 to 64|          1.52|            33.57|14.45|             No|        No|          No|           No|Yes, received tet...|              No|      No|\n",
      "|      Illinois|Female|         Fair|                 4|               2|Within past year ...|               Yes|         6|6 or more, but no...|            No|       No|       No|      Yes|           No|     No|                   No|              No|          No|         No|                 No|                     No|                    Yes|              Yes|                      Yes|              Yes|Current smoker - ...|Never used e-ciga...|      Yes|             Hispanic|   Age 65 to 69|           1.5|            33.57|14.95|            Yes|       Yes|          No|           No|No, did not recei...|              No|      No|\n",
      "|    New Jersey|Female|         Poor|                30|              27|Within past 2 yea...|                No|         8|6 or more, but no...|            No|       No|       No|       No|           No|     No|                  Yes|              No|          No|         No|                 No|                     No|                     No|              Yes|                       No|              Yes|Current smoker - ...|Never used e-ciga...|      Yes| White only, Non-H...|   Age 60 to 64|           1.5|            33.57|14.95|            Yes|       Yes|          No|           No|No, did not recei...|              No|      No|\n",
      "+--------------+------+-------------+------------------+----------------+--------------------+------------------+----------+--------------------+--------------+---------+---------+---------+-------------+-------+---------------------+----------------+------------+-----------+-------------------+-----------------------+-----------------------+-----------------+-------------------------+-----------------+--------------------+--------------------+---------+---------------------+---------------+--------------+-----------------+-----+---------------+----------+------------+-------------+--------------------+----------------+--------+\n",
      "only showing top 20 rows\n",
      "\n"
     ]
    }
   ],
   "source": [
    "#Forward-Fill\n",
    "\n",
    "from pyspark.sql import SparkSession\n",
    "from pyspark.sql.functions import col, last, row_number\n",
    "from pyspark.sql.window import Window\n",
    "\n",
    "# Initialize Spark session\n",
    "spark = SparkSession.builder.appName(\"ForwardFillExample\").getOrCreate()\n",
    "\n",
    "# Assuming `deduplicated_df` is your existing DataFrame with the 'Weight' column\n",
    "# Sample DataFrame creation for demonstration\n",
    "# data = [ ... ]  # Replace with your actual data\n",
    "# columns = ['State', 'GeneralHealth', 'MentalHealthDays', 'LastCheckupTime', 'PhysicalActivities', 'RemovedTeeth', 'Weight']\n",
    "# deduplicated_df = spark.createDataFrame(data, columns)\n",
    "\n",
    "# Add an Ordering Column based on Weight\n",
    "ordered_df = deduplicated_df.withColumn(\n",
    "    \"order\", \n",
    "    row_number().over(Window.orderBy(\"WeightInKilograms\"))\n",
    ")\n",
    "\n",
    "# Define the Window Specification for forward-filling\n",
    "window_spec = Window.orderBy(\"order\").rowsBetween(Window.unboundedPreceding, Window.currentRow)\n",
    "\n",
    "# List of columns to forward-fill\n",
    "columns_to_fill = ['State', 'GeneralHealth', 'MentalHealthDays', 'LastCheckupTime', 'PhysicalActivities', 'RemovedTeeth']\n",
    "\n",
    "# Apply Forward-Fill\n",
    "forward_filled_df = ordered_df\n",
    "for column in columns_to_fill:\n",
    "    forward_filled_df = forward_filled_df.withColumn(\n",
    "        column,\n",
    "        last(column, ignorenulls=True).over(window_spec)\n",
    "    )\n",
    "\n",
    "# Drop the ordering column if not needed\n",
    "forward_filled_df = forward_filled_df.drop(\"order\")\n",
    "\n",
    "# Show the resulting DataFrame\n",
    "forward_filled_df.show()\n"
   ]
  },
  {
   "cell_type": "code",
   "execution_count": 26,
   "id": "bbfce19b-a929-4f80-ae71-d99e7455f8e8",
   "metadata": {},
   "outputs": [
    {
     "name": "stdout",
     "output_type": "stream",
     "text": [
      "+-----+---+-------------+------------------+----------------+---------------+------------------+----------+------------+--------------+---------+---------+---------+-------------+-------+---------------------+----------------+------------+-----------+-------------------+-----------------------+-----------------------+-----------------+-------------------------+-----------------+------------+---------------+---------+---------------------+-----------+--------------+-----------------+---+---------------+----------+------------+-------------+-----------------+----------------+--------+\n",
      "|State|Sex|GeneralHealth|PhysicalHealthDays|MentalHealthDays|LastCheckupTime|PhysicalActivities|SleepHours|RemovedTeeth|HadHeartAttack|HadAngina|HadStroke|HadAsthma|HadSkinCancer|HadCOPD|HadDepressiveDisorder|HadKidneyDisease|HadArthritis|HadDiabetes|DeafOrHardOfHearing|BlindOrVisionDifficulty|DifficultyConcentrating|DifficultyWalking|DifficultyDressingBathing|DifficultyErrands|SmokerStatus|ECigaretteUsage|ChestScan|RaceEthnicityCategory|AgeCategory|HeightInMeters|WeightInKilograms|BMI|AlcoholDrinkers|HIVTesting|FluVaxLast12|PneumoVaxEver|TetanusLast10Tdap|HighRiskLastYear|CovidPos|\n",
      "+-----+---+-------------+------------------+----------------+---------------+------------------+----------+------------+--------------+---------+---------+---------+-------------+-------+---------------------+----------------+------------+-----------+-------------------+-----------------------+-----------------------+-----------------+-------------------------+-----------------+------------+---------------+---------+---------------------+-----------+--------------+-----------------+---+---------------+----------+------------+-------------+-----------------+----------------+--------+\n",
      "|    0|  0|            0|                 0|               0|              0|                 0|         0|           0|             0|        0|        0|        0|            0|      0|                    0|               0|           0|          0|                  0|                      0|                      0|                0|                        0|                0|           0|              0|        0|                    0|          0|             0|                0|  0|              0|         0|           0|            0|                0|               0|       0|\n",
      "+-----+---+-------------+------------------+----------------+---------------+------------------+----------+------------+--------------+---------+---------+---------+-------------+-------+---------------------+----------------+------------+-----------+-------------------+-----------------------+-----------------------+-----------------+-------------------------+-----------------+------------+---------------+---------+---------------------+-----------+--------------+-----------------+---+---------------+----------+------------+-------------+-----------------+----------------+--------+\n",
      "\n"
     ]
    }
   ],
   "source": [
    "from pyspark.sql.functions import col, count\n",
    "\n",
    "# Check for null values in each column\n",
    "null_counts = forward_filled_df.select([count(when(col(c).isNull(), c)).alias(c) for c in forward_filled_df.columns])\n",
    "\n",
    "# Show the count of null values for each column\n",
    "null_counts.show()\n"
   ]
  },
  {
   "cell_type": "code",
   "execution_count": 27,
   "id": "09cbd7c2-a4af-4d74-9829-da9a29792ae1",
   "metadata": {},
   "outputs": [
    {
     "name": "stdout",
     "output_type": "stream",
     "text": [
      "+--------------+------+-------------+------------------+----------------+--------------------+------------------+----------+--------------------+--------------+---------+---------+---------+-------------+-------+---------------------+----------------+------------+-----------+-------------------+-----------------------+-----------------------+-----------------+-------------------------+-----------------+--------------------+--------------------+---------+---------------------+------------+--------------+-----------------+-----+---------------+----------+------------+-------------+--------------------+----------------+--------+\n",
      "|         State|   Sex|GeneralHealth|PhysicalHealthDays|MentalHealthDays|     LastCheckupTime|PhysicalActivities|SleepHours|        RemovedTeeth|HadHeartAttack|HadAngina|HadStroke|HadAsthma|HadSkinCancer|HadCOPD|HadDepressiveDisorder|HadKidneyDisease|HadArthritis|HadDiabetes|DeafOrHardOfHearing|BlindOrVisionDifficulty|DifficultyConcentrating|DifficultyWalking|DifficultyDressingBathing|DifficultyErrands|        SmokerStatus|     ECigaretteUsage|ChestScan|RaceEthnicityCategory| AgeCategory|HeightInMeters|WeightInKilograms|  BMI|AlcoholDrinkers|HIVTesting|FluVaxLast12|PneumoVaxEver|   TetanusLast10Tdap|HighRiskLastYear|CovidPos|\n",
      "+--------------+------+-------------+------------------+----------------+--------------------+------------------+----------+--------------------+--------------+---------+---------+---------+-------------+-------+---------------------+----------------+------------+-----------+-------------------+-----------------------+-----------------------+-----------------+-------------------------+-----------------+--------------------+--------------------+---------+---------------------+------------+--------------+-----------------+-----+---------------+----------+------------+-------------+--------------------+----------------+--------+\n",
      "|South Carolina|Female|    Very good|                 0|               0| 5 or more years ago|                No|         9|        None of them|            No|       No|       No|       No|           No|     No|                   No|              No|          No|         No|                 No|                     No|                     No|               No|                       No|               No|        Never smoked|Never used e-ciga...|       No| White only, Non-H...|Age 70 to 74|          1.52|            28.12|12.11|             No|        No|          No|           No|No, did not recei...|              No|      No|\n",
      "|      Arkansas|Female|         Poor|                30|              29|Within past year ...|                No|         7|                 All|            No|       No|       No|       No|           No|    Yes|                   No|              No|          No|        Yes|                Yes|                     No|                     No|              Yes|                       No|               No|        Never smoked|Never used e-ciga...|      Yes| White only, Non-H...|Age 60 to 64|          1.52|            29.48|12.69|             No|        No|         Yes|          Yes|No, did not recei...|              No|     Yes|\n",
      "|      Nebraska|Female|         Poor|                25|               0|Within past year ...|               Yes|         5|        None of them|            No|       No|       No|       No|           No|     No|                   No|             Yes|         Yes|         No|                Yes|                     No|                     No|              Yes|                       No|              Yes|Current smoker - ...|Never used e-ciga...|      Yes| White only, Non-H...|Age 75 to 79|          1.52|            29.48|12.69|             No|        No|          No|          Yes|Yes, received tet...|              No|      No|\n",
      "|   Puerto Rico|Female|         Fair|                30|               0|Within past year ...|                No|         6|6 or more, but no...|            No|       No|       No|       No|           No|     No|                  Yes|              No|         Yes|         No|                 No|                     No|                     No|               No|                       No|               No|       Former smoker|Not at all (right...|      Yes|             Hispanic|Age 75 to 79|          1.35|            30.39|16.77|             No|        No|         Yes|          Yes|No, did not recei...|              No|      No|\n",
      "|       Vermont|Female|         Poor|                30|               0|Within past 5 yea...|                No|         9|                 All|            No|       No|       No|       No|           No|    Yes|                   No|              No|          No|         No|                 No|                     No|                     No|              Yes|                       No|              Yes|Current smoker - ...|Never used e-ciga...|      Yes| White only, Non-H...|Age 65 to 69|          1.57|            30.84|12.44|             No|        No|          No|           No|No, did not recei...|              No|      No|\n",
      "+--------------+------+-------------+------------------+----------------+--------------------+------------------+----------+--------------------+--------------+---------+---------+---------+-------------+-------+---------------------+----------------+------------+-----------+-------------------+-----------------------+-----------------------+-----------------+-------------------------+-----------------+--------------------+--------------------+---------+---------------------+------------+--------------+-----------------+-----+---------------+----------+------------+-------------+--------------------+----------------+--------+\n",
      "only showing top 5 rows\n",
      "\n"
     ]
    }
   ],
   "source": [
    "# Display the first 5 rows of the DataFrame\n",
    "forward_filled_df.show(5)\n"
   ]
  },
  {
   "cell_type": "code",
   "execution_count": 28,
   "id": "4b22ed0a-df17-4e2b-afbe-b03ce411ad39",
   "metadata": {},
   "outputs": [],
   "source": [
    "# Rename the DataFrame to `data`\n",
    "data = forward_filled_df"
   ]
  },
  {
   "cell_type": "code",
   "execution_count": 29,
   "id": "4bdc289d-33a7-4ca6-82c0-e8510d3a0b3a",
   "metadata": {},
   "outputs": [],
   "source": [
    "#Dropping unnecessary columns\n",
    "data = data.drop(\"PhysicalHealthDays\",\"MentalHealthDays\",\"RemovedTeeth\",\"ECigaretteUsage\",\"RaceEthnicityCategory\",\"TetanusLast10Tdap\",\"HighRiskLastYear\",\"CovidPos\")"
   ]
  },
  {
   "cell_type": "code",
   "execution_count": 30,
   "id": "250ee9fd-c16a-4c99-af67-5e14190b7ad7",
   "metadata": {},
   "outputs": [
    {
     "name": "stdout",
     "output_type": "stream",
     "text": [
      "No of columns: 32\n",
      "No of Rows: 251540\n",
      "Columns & their data types: \n",
      "[('State', 'string'), ('Sex', 'string'), ('GeneralHealth', 'string'), ('LastCheckupTime', 'string'), ('PhysicalActivities', 'string'), ('SleepHours', 'int'), ('HadHeartAttack', 'string'), ('HadAngina', 'string'), ('HadStroke', 'string'), ('HadAsthma', 'string'), ('HadSkinCancer', 'string'), ('HadCOPD', 'string'), ('HadDepressiveDisorder', 'string'), ('HadKidneyDisease', 'string'), ('HadArthritis', 'string'), ('HadDiabetes', 'string'), ('DeafOrHardOfHearing', 'string'), ('BlindOrVisionDifficulty', 'string'), ('DifficultyConcentrating', 'string'), ('DifficultyWalking', 'string'), ('DifficultyDressingBathing', 'string'), ('DifficultyErrands', 'string'), ('SmokerStatus', 'string'), ('ChestScan', 'string'), ('AgeCategory', 'string'), ('HeightInMeters', 'double'), ('WeightInKilograms', 'double'), ('BMI', 'double'), ('AlcoholDrinkers', 'string'), ('HIVTesting', 'string'), ('FluVaxLast12', 'string'), ('PneumoVaxEver', 'string')]\n"
     ]
    }
   ],
   "source": [
    "print(f\"No of columns: {len(data.dtypes)}\")\n",
    "print(f\"No of Rows: {data.count()}\")\n",
    "print(f\"Columns & their data types: \\n{data.dtypes}\")"
   ]
  },
  {
   "cell_type": "code",
   "execution_count": 31,
   "id": "cd16c9dd-dbb9-43ba-a88c-ba5ea4abdf4f",
   "metadata": {},
   "outputs": [
    {
     "ename": "NameError",
     "evalue": "name 'F' is not defined",
     "output_type": "error",
     "traceback": [
      "\u001b[1;31m---------------------------------------------------------------------------\u001b[0m",
      "\u001b[1;31mNameError\u001b[0m                                 Traceback (most recent call last)",
      "Cell \u001b[1;32mIn[31], line 2\u001b[0m\n\u001b[0;32m      1\u001b[0m \u001b[38;5;66;03m# Replace the Height column with its values converted to centimeters \u001b[39;00m\n\u001b[1;32m----> 2\u001b[0m data \u001b[38;5;241m=\u001b[39m data\u001b[38;5;241m.\u001b[39mwithColumn(\u001b[38;5;124m\"\u001b[39m\u001b[38;5;124mHeightInCentimeters\u001b[39m\u001b[38;5;124m\"\u001b[39m, (\u001b[43mF\u001b[49m\u001b[38;5;241m.\u001b[39mcol(\u001b[38;5;124m\"\u001b[39m\u001b[38;5;124mHeightInMeters\u001b[39m\u001b[38;5;124m\"\u001b[39m) \u001b[38;5;241m*\u001b[39m \u001b[38;5;241m100\u001b[39m))\n\u001b[0;32m      4\u001b[0m data \u001b[38;5;241m=\u001b[39m data\u001b[38;5;241m.\u001b[39mdrop(\u001b[38;5;124m\"\u001b[39m\u001b[38;5;124mHeightInMeters\u001b[39m\u001b[38;5;124m\"\u001b[39m)\n\u001b[0;32m      5\u001b[0m \u001b[38;5;66;03m# Show the updated DataFrame to verify the replacement\u001b[39;00m\n",
      "\u001b[1;31mNameError\u001b[0m: name 'F' is not defined"
     ]
    }
   ],
   "source": [
    "# Replace the Height column with its values converted to centimeters \n",
    "import pyspark.functions \n",
    "data = data.withColumn(\"HeightInCentimeters\", (F.col(\"HeightInMeters\") * 100))\n",
    "\n",
    "data = data.drop(\"HeightInMeters\")\n",
    "# Show the updated DataFrame to verify the replacement\n",
    "data.select(\"HeightInCentimeters\").show()"
   ]
  },
  {
   "cell_type": "code",
   "execution_count": null,
   "id": "8e60e4aa-7d64-4b9f-9119-45da3e6d8034",
   "metadata": {},
   "outputs": [],
   "source": []
  }
 ],
 "metadata": {
  "kernelspec": {
   "display_name": "Python 3 (ipykernel)",
   "language": "python",
   "name": "python3"
  },
  "language_info": {
   "codemirror_mode": {
    "name": "ipython",
    "version": 3
   },
   "file_extension": ".py",
   "mimetype": "text/x-python",
   "name": "python",
   "nbconvert_exporter": "python",
   "pygments_lexer": "ipython3",
   "version": "3.11.5"
  }
 },
 "nbformat": 4,
 "nbformat_minor": 5
}
