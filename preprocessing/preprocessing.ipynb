{
 "cells": [
  {
   "cell_type": "code",
   "execution_count": null,
   "id": "cb9f6d09-9218-4450-9ef4-a6325c4e2cb9",
   "metadata": {},
   "outputs": [],
   "source": []
  }
 ],
 "metadata": {
  "kernelspec": {
   "display_name": "",
   "name": ""
  },
  "language_info": {
   "name": ""
  }
 },
 "nbformat": 4,
 "nbformat_minor": 5
}
